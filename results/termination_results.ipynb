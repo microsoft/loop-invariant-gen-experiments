{
 "cells": [
  {
   "cell_type": "code",
   "execution_count": 1,
   "metadata": {},
   "outputs": [],
   "source": [
    "import json"
   ]
  },
  {
   "cell_type": "code",
   "execution_count": 8,
   "metadata": {},
   "outputs": [],
   "source": [
    "ultimate_results = json.load(open('../src/ultimate/termination_output.json', 'r', encoding='utf-8'))"
   ]
  },
  {
   "cell_type": "code",
   "execution_count": 25,
   "metadata": {},
   "outputs": [],
   "source": [
    "ultimate_success = []\n",
    "for k, v in ultimate_results.items():\n",
    "    if v[\"result\"] == \"Proved\":\n",
    "        ultimate_success.append(k[3:])"
   ]
  },
  {
   "cell_type": "code",
   "execution_count": 12,
   "metadata": {},
   "outputs": [],
   "source": [
    "gpt_4_file = json.load(open('../logs/loopy_2023_10_10_05_12_43/final.json', 'r', encoding='utf-8'))"
   ]
  },
  {
   "cell_type": "code",
   "execution_count": 14,
   "metadata": {},
   "outputs": [],
   "source": [
    "gpt_4_logs = gpt_4_file[\"logs\"]"
   ]
  },
  {
   "cell_type": "code",
   "execution_count": 19,
   "metadata": {},
   "outputs": [],
   "source": [
    "gpt_4_success = []\n",
    "for v in gpt_4_logs:\n",
    "    if v[\"success\"]:\n",
    "        gpt_4_success.append(v[\"file\"])"
   ]
  },
  {
   "cell_type": "code",
   "execution_count": 22,
   "metadata": {},
   "outputs": [
    {
     "data": {
      "text/plain": [
       "120"
      ]
     },
     "execution_count": 22,
     "metadata": {},
     "output_type": "execute_result"
    }
   ],
   "source": [
    "len(gpt_4_success)"
   ]
  },
  {
   "cell_type": "code",
   "execution_count": 28,
   "metadata": {},
   "outputs": [
    {
     "data": {
      "text/plain": [
       "17"
      ]
     },
     "execution_count": 28,
     "metadata": {},
     "output_type": "execute_result"
    }
   ],
   "source": [
    "len(set(gpt_4_success) - set(ultimate_success))"
   ]
  },
  {
   "cell_type": "code",
   "execution_count": 30,
   "metadata": {},
   "outputs": [
    {
     "data": {
      "text/plain": [
       "{'../data/benchmarks/non_termination/loop/Incorrect_Update_for_Loop_Iterator_1_T.c',\n",
       " '../data/benchmarks/non_termination/loop/Signed_Overflow_Error_1_T.c',\n",
       " '../data/benchmarks/tpdb/C/SV-COMP_Termination_Category/AliasDarteFeautrierGonnord-SAS2010-counterex1a_true-termination.c',\n",
       " '../data/benchmarks/tpdb/C/SV-COMP_Termination_Category/AliasDarteFeautrierGonnord-SAS2010-cousot9_true-termination.c',\n",
       " '../data/benchmarks/tpdb/C/SV-COMP_Termination_Category/AliasDarteFeautrierGonnord-SAS2010-rsd_true-termination.c',\n",
       " '../data/benchmarks/tpdb/C/SV-COMP_Termination_Category/AliasDarteFeautrierGonnord-SAS2010-speedpldi2_true-termination.c',\n",
       " '../data/benchmarks/tpdb/C/SV-COMP_Termination_Category/AliasDarteFeautrierGonnord-SAS2010-terminate_true-termination.c',\n",
       " '../data/benchmarks/tpdb/C/SV-COMP_Termination_Category/AliasDarteFeautrierGonnord-SAS2010-wise_true-termination.c',\n",
       " '../data/benchmarks/tpdb/C/SV-COMP_Termination_Category/BradleyMannaSipma-ICALP2005-Fig1_true-termination.c',\n",
       " '../data/benchmarks/tpdb/C/SV-COMP_Termination_Category/ChawdharyCookGulwaniSagivYang-ESOP2008-aaron1_true-termination.c',\n",
       " '../data/benchmarks/tpdb/C/SV-COMP_Termination_Category/ChawdharyCookGulwaniSagivYang-ESOP2008-aaron4_true-termination.c',\n",
       " '../data/benchmarks/tpdb/C/SV-COMP_Termination_Category/ChawdharyCookGulwaniSagivYang-ESOP2008-aaron6_true-termination.c',\n",
       " '../data/benchmarks/tpdb/C/SV-COMP_Termination_Category/ChenFlurMukhopadhyay-SAS2012-Ex2.01_true-termination.c',\n",
       " '../data/benchmarks/tpdb/C/SV-COMP_Termination_Category/ChenFlurMukhopadhyay-SAS2012-Ex2.07_true-termination.c',\n",
       " '../data/benchmarks/tpdb/C/SV-COMP_Termination_Category/ChenFlurMukhopadhyay-SAS2012-Ex2.08_true-termination.c',\n",
       " '../data/benchmarks/tpdb/C/SV-COMP_Termination_Category/ChenFlurMukhopadhyay-SAS2012-Ex2.13_true-termination.c',\n",
       " '../data/benchmarks/tpdb/C/SV-COMP_Termination_Category/ChenFlurMukhopadhyay-SAS2012-Ex2.16_true-termination.c',\n",
       " '../data/benchmarks/tpdb/C/SV-COMP_Termination_Category/ChenFlurMukhopadhyay-SAS2012-Ex2.20_true-termination.c',\n",
       " '../data/benchmarks/tpdb/C/SV-COMP_Termination_Category/ChenFlurMukhopadhyay-SAS2012-Ex2.22_true-termination.c',\n",
       " '../data/benchmarks/tpdb/C/SV-COMP_Termination_Category/ChenFlurMukhopadhyay-SAS2012-Ex3.01_true-termination.c',\n",
       " '../data/benchmarks/tpdb/C/SV-COMP_Termination_Category/ChenFlurMukhopadhyay-SAS2012-Ex3.03_true-termination.c',\n",
       " '../data/benchmarks/tpdb/C/SV-COMP_Termination_Category/ChenFlurMukhopadhyay-SAS2012-Ex3.04_true-termination.c',\n",
       " '../data/benchmarks/tpdb/C/SV-COMP_Termination_Category/ChenFlurMukhopadhyay-SAS2012-Ex3.05_true-termination.c',\n",
       " '../data/benchmarks/tpdb/C/SV-COMP_Termination_Category/ChenFlurMukhopadhyay-SAS2012-Ex3.08_true-termination.c',\n",
       " '../data/benchmarks/tpdb/C/SV-COMP_Termination_Category/ChenFlurMukhopadhyay-SAS2012-Ex3.09_true-termination.c',\n",
       " '../data/benchmarks/tpdb/C/SV-COMP_Termination_Category/ChenFlurMukhopadhyay-SAS2012-Ex4.01_true-termination.c',\n",
       " '../data/benchmarks/tpdb/C/SV-COMP_Termination_Category/CookSeeZuleger-TACAS2013-Fig1_true-termination.c',\n",
       " '../data/benchmarks/tpdb/C/SV-COMP_Termination_Category/CookSeeZuleger-TACAS2013-Fig7a_true-termination.c',\n",
       " '../data/benchmarks/tpdb/C/SV-COMP_Termination_Category/CookSeeZuleger-TACAS2013-Fig7b_true-termination.c',\n",
       " '../data/benchmarks/tpdb/C/SV-COMP_Termination_Category/GopanReps-CAV2006-Fig1a_true-termination.c.c',\n",
       " '../data/benchmarks/tpdb/C/SV-COMP_Termination_Category/KroeningSharyginaTsitovichWintersteiger-CAV2010-Fig1_true-termination.c',\n",
       " '../data/benchmarks/tpdb/C/SV-COMP_Termination_Category/PodelskiRybalchenko-LICS2004-Fig2_true-termination.c',\n",
       " '../data/benchmarks/tpdb/C/SV-COMP_Termination_Category/PodelskiRybalchenko-TACAS2011-Fig4_true-termination.c',\n",
       " '../data/benchmarks/tpdb/C/SV-COMP_Termination_Category/TelAviv-Amir-Minimum_true-termination.c',\n",
       " '../data/benchmarks/tpdb/C/SV-COMP_Termination_Category/Toulouse-BranchesToLoop_true-termination.c',\n",
       " '../data/benchmarks/tpdb/C/SV-COMP_Termination_Category/Toulouse-MultiBranchesToLoop_true-termination.c',\n",
       " '../data/benchmarks/tpdb/C/SV-COMP_Termination_Category/UrbanMine-ESOP2014-Fig3_true-termination.c',\n",
       " '../data/benchmarks/tpdb/C/SV-COMP_Termination_Category/aaron3_true-termination.c',\n",
       " '../data/benchmarks/tpdb/C/SV-COMP_Termination_Category/min_rf_true-termination.c',\n",
       " '../data/benchmarks/tpdb/C/Ultimate/Gothenburg_true-termination.c',\n",
       " '../data/benchmarks/tpdb/C/Ultimate/Lobnya-Boolean-Reordered_true-termination.c',\n",
       " '../data/benchmarks/tpdb/C/Ultimate/Nyala-2lex_true-termination.c',\n",
       " '../data/benchmarks/tpdb/C/Ultimate/Parallel_true-termination.c',\n",
       " '../data/benchmarks/tpdb/C/Ultimate/WhileFalse_true-termination.c',\n",
       " '../data/benchmarks/tpdb/C_Integer/Stroeder_15/2Nested_true-termination.c',\n",
       " '../data/benchmarks/tpdb/C_Integer/Stroeder_15/4NestedWith3Variables_true-termination.c',\n",
       " '../data/benchmarks/tpdb/C_Integer/Stroeder_15/AliasDarteFeautrierGonnord-SAS2010-counterex1a_true-termination.c',\n",
       " '../data/benchmarks/tpdb/C_Integer/Stroeder_15/AliasDarteFeautrierGonnord-SAS2010-cousot9_true-termination.c',\n",
       " '../data/benchmarks/tpdb/C_Integer/Stroeder_15/AliasDarteFeautrierGonnord-SAS2010-exmini_true-termination.c',\n",
       " '../data/benchmarks/tpdb/C_Integer/Stroeder_15/AliasDarteFeautrierGonnord-SAS2010-rsd_true-termination.c',\n",
       " '../data/benchmarks/tpdb/C_Integer/Stroeder_15/AliasDarteFeautrierGonnord-SAS2010-speedpldi2_true-termination.c',\n",
       " '../data/benchmarks/tpdb/C_Integer/Stroeder_15/AliasDarteFeautrierGonnord-SAS2010-speedpldi3_true-termination.c',\n",
       " '../data/benchmarks/tpdb/C_Integer/Stroeder_15/AliasDarteFeautrierGonnord-SAS2010-terminate_true-termination.c',\n",
       " '../data/benchmarks/tpdb/C_Integer/Stroeder_15/Ben-Amram-LMCS2010-Ex2.3_true-termination.c',\n",
       " '../data/benchmarks/tpdb/C_Integer/Stroeder_15/BradleyMannaSipma-CAV2005-Fig1_true-termination.c',\n",
       " '../data/benchmarks/tpdb/C_Integer/Stroeder_15/BradleyMannaSipma-ICALP2005-Fig1_true-termination.c',\n",
       " '../data/benchmarks/tpdb/C_Integer/Stroeder_15/ChawdharyCookGulwaniSagivYang-ESOP2008-aaron1_true-termination.c',\n",
       " '../data/benchmarks/tpdb/C_Integer/Stroeder_15/ChawdharyCookGulwaniSagivYang-ESOP2008-aaron4_true-termination.c',\n",
       " '../data/benchmarks/tpdb/C_Integer/Stroeder_15/ChawdharyCookGulwaniSagivYang-ESOP2008-aaron6_true-termination.c',\n",
       " '../data/benchmarks/tpdb/C_Integer/Stroeder_15/ChenFlurMukhopadhyay-SAS2012-Ex1.02_true-termination.c',\n",
       " '../data/benchmarks/tpdb/C_Integer/Stroeder_15/ChenFlurMukhopadhyay-SAS2012-Ex1.03_true-termination.c',\n",
       " '../data/benchmarks/tpdb/C_Integer/Stroeder_15/ChenFlurMukhopadhyay-SAS2012-Ex1.04_true-termination.c',\n",
       " '../data/benchmarks/tpdb/C_Integer/Stroeder_15/ChenFlurMukhopadhyay-SAS2012-Ex1.05_true-termination.c',\n",
       " '../data/benchmarks/tpdb/C_Integer/Stroeder_15/ChenFlurMukhopadhyay-SAS2012-Ex2.01_true-termination.c',\n",
       " '../data/benchmarks/tpdb/C_Integer/Stroeder_15/ChenFlurMukhopadhyay-SAS2012-Ex2.07_true-termination.c',\n",
       " '../data/benchmarks/tpdb/C_Integer/Stroeder_15/ChenFlurMukhopadhyay-SAS2012-Ex2.08_true-termination.c',\n",
       " '../data/benchmarks/tpdb/C_Integer/Stroeder_15/ChenFlurMukhopadhyay-SAS2012-Ex2.09_true-termination.c',\n",
       " '../data/benchmarks/tpdb/C_Integer/Stroeder_15/ChenFlurMukhopadhyay-SAS2012-Ex2.13_true-termination.c',\n",
       " '../data/benchmarks/tpdb/C_Integer/Stroeder_15/ChenFlurMukhopadhyay-SAS2012-Ex2.16_true-termination.c',\n",
       " '../data/benchmarks/tpdb/C_Integer/Stroeder_15/ChenFlurMukhopadhyay-SAS2012-Ex2.18_true-termination.c',\n",
       " '../data/benchmarks/tpdb/C_Integer/Stroeder_15/ChenFlurMukhopadhyay-SAS2012-Ex2.19_true-termination.c',\n",
       " '../data/benchmarks/tpdb/C_Integer/Stroeder_15/ChenFlurMukhopadhyay-SAS2012-Ex2.21_true-termination.c',\n",
       " '../data/benchmarks/tpdb/C_Integer/Stroeder_15/ChenFlurMukhopadhyay-SAS2012-Ex2.22_true-termination.c',\n",
       " '../data/benchmarks/tpdb/C_Integer/Stroeder_15/ChenFlurMukhopadhyay-SAS2012-Ex3.01_true-termination.c',\n",
       " '../data/benchmarks/tpdb/C_Integer/Stroeder_15/ChenFlurMukhopadhyay-SAS2012-Ex3.03_true-termination.c',\n",
       " '../data/benchmarks/tpdb/C_Integer/Stroeder_15/ChenFlurMukhopadhyay-SAS2012-Ex3.04_true-termination.c',\n",
       " '../data/benchmarks/tpdb/C_Integer/Stroeder_15/ChenFlurMukhopadhyay-SAS2012-Ex3.05_true-termination.c',\n",
       " '../data/benchmarks/tpdb/C_Integer/Stroeder_15/ChenFlurMukhopadhyay-SAS2012-Ex3.07_true-termination.c',\n",
       " '../data/benchmarks/tpdb/C_Integer/Stroeder_15/ChenFlurMukhopadhyay-SAS2012-Ex3.08_true-termination.c',\n",
       " '../data/benchmarks/tpdb/C_Integer/Stroeder_15/ChenFlurMukhopadhyay-SAS2012-Ex3.09_true-termination.c',\n",
       " '../data/benchmarks/tpdb/C_Integer/Stroeder_15/ChenFlurMukhopadhyay-SAS2012-Ex3.10_true-termination.c',\n",
       " '../data/benchmarks/tpdb/C_Integer/Stroeder_15/ChenFlurMukhopadhyay-SAS2012-Ex4.01_true-termination.c',\n",
       " '../data/benchmarks/tpdb/C_Integer/Stroeder_15/ChenFlurMukhopadhyay-SAS2012-Fig1_true-termination.c',\n",
       " '../data/benchmarks/tpdb/C_Integer/Stroeder_15/ColonSipma-TACAS2001-Fig1_true-termination.c',\n",
       " '../data/benchmarks/tpdb/C_Integer/Stroeder_15/CookSeeZuleger-TACAS2013-Fig1_true-termination.c',\n",
       " '../data/benchmarks/tpdb/C_Integer/Stroeder_15/CookSeeZuleger-TACAS2013-Fig7a_true-termination.c',\n",
       " '../data/benchmarks/tpdb/C_Integer/Stroeder_15/CookSeeZuleger-TACAS2013-Fig7b_true-termination.c',\n",
       " '../data/benchmarks/tpdb/C_Integer/Stroeder_15/CookSeeZuleger-TACAS2013-Fig8b_true-termination.c',\n",
       " '../data/benchmarks/tpdb/C_Integer/Stroeder_15/Et1.c',\n",
       " '../data/benchmarks/tpdb/C_Integer/Stroeder_15/GopanReps-CAV2006-Fig1a_true-termination.c.c',\n",
       " '../data/benchmarks/tpdb/C_Integer/Stroeder_15/Gothenburg_true-termination.c',\n",
       " '../data/benchmarks/tpdb/C_Integer/Stroeder_15/GulavaniGulwani-CAV2008-Fig1a_true-termination.c',\n",
       " '../data/benchmarks/tpdb/C_Integer/Stroeder_15/LeikeHeizmann-TACAS2014-Ex7_true-termination.c',\n",
       " '../data/benchmarks/tpdb/C_Integer/Stroeder_15/LeikeHeizmann-TACAS2014-Ex8_true-termination.c',\n",
       " '../data/benchmarks/tpdb/C_Integer/Stroeder_15/LeikeHeizmann-TACAS2014-Fig1_true-termination.c',\n",
       " '../data/benchmarks/tpdb/C_Integer/Stroeder_15/Lobnya-Boolean-Reordered_true-termination.c',\n",
       " '../data/benchmarks/tpdb/C_Integer/Stroeder_15/Masse-VMCAI2014-Ex6_true-termination.c',\n",
       " '../data/benchmarks/tpdb/C_Integer/Stroeder_15/Masse-VMCAI2014-Fig1a_true-termination.c',\n",
       " '../data/benchmarks/tpdb/C_Integer/Stroeder_15/McCarthyIterative.c',\n",
       " '../data/benchmarks/tpdb/C_Integer/Stroeder_15/MenloPark_true-termination.c',\n",
       " '../data/benchmarks/tpdb/C_Integer/Stroeder_15/NoriSharma-FSE2013-Fig7_true-termination.c',\n",
       " '../data/benchmarks/tpdb/C_Integer/Stroeder_15/NoriSharma-FSE2013-Fig8_true-termination.c',\n",
       " '../data/benchmarks/tpdb/C_Integer/Stroeder_15/Nyala-2lex_true-termination.c',\n",
       " '../data/benchmarks/tpdb/C_Integer/Stroeder_15/Parallel_true-termination.c',\n",
       " '../data/benchmarks/tpdb/C_Integer/Stroeder_15/PastaB3.c',\n",
       " '../data/benchmarks/tpdb/C_Integer/Stroeder_15/PastaB4.c',\n",
       " '../data/benchmarks/tpdb/C_Integer/Stroeder_15/PastaB7.c',\n",
       " '../data/benchmarks/tpdb/C_Integer/Stroeder_15/PastaC3.c',\n",
       " '../data/benchmarks/tpdb/C_Integer/Stroeder_15/PastaC9.c',\n",
       " '../data/benchmarks/tpdb/C_Integer/Stroeder_15/Piecewise_true-termination.c',\n",
       " '../data/benchmarks/tpdb/C_Integer/Stroeder_15/PlusSwap.c',\n",
       " '../data/benchmarks/tpdb/C_Integer/Stroeder_15/PodelskiRybalchenko-LICS2004-Fig2-TACAS2011-Fig3_true-termination.c',\n",
       " '../data/benchmarks/tpdb/C_Integer/Stroeder_15/PodelskiRybalchenko-TACAS2011-Fig4_true-termination.c',\n",
       " '../data/benchmarks/tpdb/C_Integer/Stroeder_15/Pure2Phase_true-termination.c',\n",
       " '../data/benchmarks/tpdb/C_Integer/Stroeder_15/TelAviv-Amir-Minimum_true-termination.c',\n",
       " '../data/benchmarks/tpdb/C_Integer/Stroeder_15/Thun_true-termination.c',\n",
       " '../data/benchmarks/tpdb/C_Integer/Stroeder_15/Toulouse-BranchesToLoop_true-termination.c',\n",
       " '../data/benchmarks/tpdb/C_Integer/Stroeder_15/UrbanMine-ESOP2014-Fig3_true-termination.c',\n",
       " '../data/benchmarks/tpdb/C_Integer/Stroeder_15/aaron3_true-termination.c',\n",
       " '../data/benchmarks/tpdb/C_Integer/Stroeder_15/min_rf_true-termination.c',\n",
       " '../data/benchmarks/tpdb/C_Integer/Stroeder_15/svcomp_a.09_assume.c',\n",
       " '../data/benchmarks/tpdb/C_Integer/Stroeder_15/svcomp_b.03-no-inv_assume.c',\n",
       " '../data/benchmarks/tpdb/C_Integer/Stroeder_15/svcomp_b.03_assume.c',\n",
       " '../data/benchmarks/tpdb/C_Integer/Stroeder_15/svcomp_b.04.c',\n",
       " '../data/benchmarks/tpdb/C_Integer/Stroeder_15/svcomp_b.12.c',\n",
       " '../data/benchmarks/tpdb/C_Integer/Stroeder_15/svcomp_b.13.c',\n",
       " '../data/benchmarks/tpdb/C_Integer/Stroeder_15/svcomp_c.03.c',\n",
       " '../data/benchmarks/tpdb/C_Integer/Stroeder_15/svcomp_c.07.c',\n",
       " '../data/benchmarks/tpdb/C_Integer/Stroeder_15/svcomp_flag.c',\n",
       " '../data/benchmarks/tpdb/C_Integer/Ton_Chanh_15/Bangalore_v4_true-termination.c',\n",
       " '../data/benchmarks/tpdb/C_Integer/Ton_Chanh_15/Benghazi_nondet_true-termination.c',\n",
       " '../data/benchmarks/tpdb/C_Integer/Ton_Chanh_15/McCarthy91_Iteration_true-termination.c',\n",
       " '../data/benchmarks/tpdb/C_Integer/Ton_Chanh_15/Singapore_true-termination.c'}"
      ]
     },
     "execution_count": 30,
     "metadata": {},
     "output_type": "execute_result"
    }
   ],
   "source": [
    "(set(ultimate_success) - set(gpt_4_success))"
   ]
  },
  {
   "cell_type": "code",
   "execution_count": 31,
   "metadata": {},
   "outputs": [],
   "source": [
    "lex_rankings = []\n",
    "for k, v in ultimate_results.items():\n",
    "    if \"affine ranking function\" in v[\"output\"]:\n",
    "        lex_rankings.append(k[3:])"
   ]
  },
  {
   "cell_type": "code",
   "execution_count": 35,
   "metadata": {},
   "outputs": [
    {
     "data": {
      "text/plain": [
       "{'../data/benchmarks/non_termination/loop/Incorrect_Update_for_Loop_Iterator_1_T.c',\n",
       " '../data/benchmarks/non_termination/loop/Signed_Overflow_Error_1_T.c',\n",
       " '../data/benchmarks/tpdb/C/SV-COMP_Termination_Category/AliasDarteFeautrierGonnord-SAS2010-counterex1a_true-termination.c',\n",
       " '../data/benchmarks/tpdb/C/SV-COMP_Termination_Category/AliasDarteFeautrierGonnord-SAS2010-cousot9_true-termination.c',\n",
       " '../data/benchmarks/tpdb/C/SV-COMP_Termination_Category/AliasDarteFeautrierGonnord-SAS2010-rsd_true-termination.c',\n",
       " '../data/benchmarks/tpdb/C/SV-COMP_Termination_Category/AliasDarteFeautrierGonnord-SAS2010-speedpldi2_true-termination.c',\n",
       " '../data/benchmarks/tpdb/C/SV-COMP_Termination_Category/AliasDarteFeautrierGonnord-SAS2010-terminate_true-termination.c',\n",
       " '../data/benchmarks/tpdb/C/SV-COMP_Termination_Category/AliasDarteFeautrierGonnord-SAS2010-wise_true-termination.c',\n",
       " '../data/benchmarks/tpdb/C/SV-COMP_Termination_Category/ChawdharyCookGulwaniSagivYang-ESOP2008-aaron1_true-termination.c',\n",
       " '../data/benchmarks/tpdb/C/SV-COMP_Termination_Category/ChawdharyCookGulwaniSagivYang-ESOP2008-aaron4_true-termination.c',\n",
       " '../data/benchmarks/tpdb/C/SV-COMP_Termination_Category/ChawdharyCookGulwaniSagivYang-ESOP2008-aaron6_true-termination.c',\n",
       " '../data/benchmarks/tpdb/C/SV-COMP_Termination_Category/ChenFlurMukhopadhyay-SAS2012-Ex2.20_true-termination.c',\n",
       " '../data/benchmarks/tpdb/C/SV-COMP_Termination_Category/CookSeeZuleger-TACAS2013-Fig1_true-termination.c',\n",
       " '../data/benchmarks/tpdb/C/SV-COMP_Termination_Category/CookSeeZuleger-TACAS2013-Fig7a_true-termination.c',\n",
       " '../data/benchmarks/tpdb/C/SV-COMP_Termination_Category/CookSeeZuleger-TACAS2013-Fig7b_true-termination.c',\n",
       " '../data/benchmarks/tpdb/C/SV-COMP_Termination_Category/GopanReps-CAV2006-Fig1a_true-termination.c.c',\n",
       " '../data/benchmarks/tpdb/C/SV-COMP_Termination_Category/KroeningSharyginaTsitovichWintersteiger-CAV2010-Fig1_true-termination.c',\n",
       " '../data/benchmarks/tpdb/C/SV-COMP_Termination_Category/PodelskiRybalchenko-LICS2004-Fig2_true-termination.c',\n",
       " '../data/benchmarks/tpdb/C/SV-COMP_Termination_Category/PodelskiRybalchenko-TACAS2011-Fig4_true-termination.c',\n",
       " '../data/benchmarks/tpdb/C/SV-COMP_Termination_Category/TelAviv-Amir-Minimum_true-termination.c',\n",
       " '../data/benchmarks/tpdb/C/SV-COMP_Termination_Category/Toulouse-BranchesToLoop_true-termination.c',\n",
       " '../data/benchmarks/tpdb/C/SV-COMP_Termination_Category/Toulouse-MultiBranchesToLoop_true-termination.c',\n",
       " '../data/benchmarks/tpdb/C/SV-COMP_Termination_Category/UrbanMine-ESOP2014-Fig3_true-termination.c',\n",
       " '../data/benchmarks/tpdb/C/SV-COMP_Termination_Category/aaron3_true-termination.c',\n",
       " '../data/benchmarks/tpdb/C/SV-COMP_Termination_Category/min_rf_true-termination.c',\n",
       " '../data/benchmarks/tpdb/C/Ultimate/Collatz_unknown-termination.c',\n",
       " '../data/benchmarks/tpdb/C/Ultimate/Nyala-2lex_true-termination.c',\n",
       " '../data/benchmarks/tpdb/C/Ultimate/Parallel_true-termination.c',\n",
       " '../data/benchmarks/tpdb/C_Integer/Stroeder_15/AliasDarteFeautrierGonnord-SAS2010-counterex1a_true-termination.c',\n",
       " '../data/benchmarks/tpdb/C_Integer/Stroeder_15/AliasDarteFeautrierGonnord-SAS2010-cousot9_true-termination.c',\n",
       " '../data/benchmarks/tpdb/C_Integer/Stroeder_15/AliasDarteFeautrierGonnord-SAS2010-exmini_true-termination.c',\n",
       " '../data/benchmarks/tpdb/C_Integer/Stroeder_15/AliasDarteFeautrierGonnord-SAS2010-rsd_true-termination.c',\n",
       " '../data/benchmarks/tpdb/C_Integer/Stroeder_15/AliasDarteFeautrierGonnord-SAS2010-speedpldi2_true-termination.c',\n",
       " '../data/benchmarks/tpdb/C_Integer/Stroeder_15/AliasDarteFeautrierGonnord-SAS2010-speedpldi3_true-termination.c',\n",
       " '../data/benchmarks/tpdb/C_Integer/Stroeder_15/AliasDarteFeautrierGonnord-SAS2010-terminate_true-termination.c',\n",
       " '../data/benchmarks/tpdb/C_Integer/Stroeder_15/AlternDiv.c',\n",
       " '../data/benchmarks/tpdb/C_Integer/Stroeder_15/AlternDivWide.c',\n",
       " '../data/benchmarks/tpdb/C_Integer/Stroeder_15/AlternKonv.c',\n",
       " '../data/benchmarks/tpdb/C_Integer/Stroeder_15/Ben-Amram-LMCS2010-Ex2.3_true-termination.c',\n",
       " '../data/benchmarks/tpdb/C_Integer/Stroeder_15/BradleyMannaSipma-CAV2005-Fig1_true-termination.c',\n",
       " '../data/benchmarks/tpdb/C_Integer/Stroeder_15/ChawdharyCookGulwaniSagivYang-ESOP2008-aaron1_true-termination.c',\n",
       " '../data/benchmarks/tpdb/C_Integer/Stroeder_15/ChawdharyCookGulwaniSagivYang-ESOP2008-aaron4_true-termination.c',\n",
       " '../data/benchmarks/tpdb/C_Integer/Stroeder_15/ChawdharyCookGulwaniSagivYang-ESOP2008-aaron6_true-termination.c',\n",
       " '../data/benchmarks/tpdb/C_Integer/Stroeder_15/ChenFlurMukhopadhyay-SAS2012-Ex1.02_true-termination.c',\n",
       " '../data/benchmarks/tpdb/C_Integer/Stroeder_15/ChenFlurMukhopadhyay-SAS2012-Ex1.03_true-termination.c',\n",
       " '../data/benchmarks/tpdb/C_Integer/Stroeder_15/ChenFlurMukhopadhyay-SAS2012-Ex1.04_true-termination.c',\n",
       " '../data/benchmarks/tpdb/C_Integer/Stroeder_15/ChenFlurMukhopadhyay-SAS2012-Ex1.05_true-termination.c',\n",
       " '../data/benchmarks/tpdb/C_Integer/Stroeder_15/ChenFlurMukhopadhyay-SAS2012-Ex3.10_true-termination.c',\n",
       " '../data/benchmarks/tpdb/C_Integer/Stroeder_15/Choose.c',\n",
       " '../data/benchmarks/tpdb/C_Integer/Stroeder_15/ChooseLife.c',\n",
       " '../data/benchmarks/tpdb/C_Integer/Stroeder_15/ColonSipma-TACAS2001-Fig1_true-termination.c',\n",
       " '../data/benchmarks/tpdb/C_Integer/Stroeder_15/ComplxStruc.c',\n",
       " '../data/benchmarks/tpdb/C_Integer/Stroeder_15/CookSeeZuleger-TACAS2013-Fig1_true-termination.c',\n",
       " '../data/benchmarks/tpdb/C_Integer/Stroeder_15/CookSeeZuleger-TACAS2013-Fig7a_true-termination.c',\n",
       " '../data/benchmarks/tpdb/C_Integer/Stroeder_15/CookSeeZuleger-TACAS2013-Fig7b_true-termination.c',\n",
       " '../data/benchmarks/tpdb/C_Integer/Stroeder_15/CookSeeZuleger-TACAS2013-Fig8b_true-termination.c',\n",
       " '../data/benchmarks/tpdb/C_Integer/Stroeder_15/DivWithoutMinus.c',\n",
       " '../data/benchmarks/tpdb/C_Integer/Stroeder_15/Ex06.c',\n",
       " '../data/benchmarks/tpdb/C_Integer/Stroeder_15/Ex07.c',\n",
       " '../data/benchmarks/tpdb/C_Integer/Stroeder_15/Ex08.c',\n",
       " '../data/benchmarks/tpdb/C_Integer/Stroeder_15/Flip2.c',\n",
       " '../data/benchmarks/tpdb/C_Integer/Stroeder_15/GopanReps-CAV2006-Fig1a_true-termination.c.c',\n",
       " '../data/benchmarks/tpdb/C_Integer/Stroeder_15/GulavaniGulwani-CAV2008-Fig1a_true-termination.c',\n",
       " '../data/benchmarks/tpdb/C_Integer/Stroeder_15/LeikeHeizmann-TACAS2014-Ex8_true-termination.c',\n",
       " '../data/benchmarks/tpdb/C_Integer/Stroeder_15/Lobnya-Boolean-Reordered_true-termination.c',\n",
       " '../data/benchmarks/tpdb/C_Integer/Stroeder_15/Masse-VMCAI2014-Ex6_true-termination.c',\n",
       " '../data/benchmarks/tpdb/C_Integer/Stroeder_15/Masse-VMCAI2014-Fig1a_true-termination.c',\n",
       " '../data/benchmarks/tpdb/C_Integer/Stroeder_15/McCarthyIterative.c',\n",
       " '../data/benchmarks/tpdb/C_Integer/Stroeder_15/NO_12.c',\n",
       " '../data/benchmarks/tpdb/C_Integer/Stroeder_15/NO_13.c',\n",
       " '../data/benchmarks/tpdb/C_Integer/Stroeder_15/NO_22.c',\n",
       " '../data/benchmarks/tpdb/C_Integer/Stroeder_15/NO_23.c',\n",
       " '../data/benchmarks/tpdb/C_Integer/Stroeder_15/NarrowKonv.c',\n",
       " '../data/benchmarks/tpdb/C_Integer/Stroeder_15/Narrowing.c',\n",
       " '../data/benchmarks/tpdb/C_Integer/Stroeder_15/NoriSharma-FSE2013-Fig8_true-termination.c',\n",
       " '../data/benchmarks/tpdb/C_Integer/Stroeder_15/Nyala-2lex_true-termination.c',\n",
       " '../data/benchmarks/tpdb/C_Integer/Stroeder_15/Parallel_true-termination.c',\n",
       " '../data/benchmarks/tpdb/C_Integer/Stroeder_15/PastaB3.c',\n",
       " '../data/benchmarks/tpdb/C_Integer/Stroeder_15/PastaB4.c',\n",
       " '../data/benchmarks/tpdb/C_Integer/Stroeder_15/PastaB7.c',\n",
       " '../data/benchmarks/tpdb/C_Integer/Stroeder_15/PastaC3.c',\n",
       " '../data/benchmarks/tpdb/C_Integer/Stroeder_15/PastaC9.c',\n",
       " '../data/benchmarks/tpdb/C_Integer/Stroeder_15/Piecewise_true-termination.c',\n",
       " '../data/benchmarks/tpdb/C_Integer/Stroeder_15/PodelskiRybalchenko-LICS2004-Fig2-TACAS2011-Fig3_true-termination.c',\n",
       " '../data/benchmarks/tpdb/C_Integer/Stroeder_15/PodelskiRybalchenko-TACAS2011-Fig4_true-termination.c',\n",
       " '../data/benchmarks/tpdb/C_Integer/Stroeder_15/Pure2Phase_true-termination.c',\n",
       " '../data/benchmarks/tpdb/C_Integer/Stroeder_15/Sunset.c',\n",
       " '../data/benchmarks/tpdb/C_Integer/Stroeder_15/TelAviv-Amir-Minimum_true-termination.c',\n",
       " '../data/benchmarks/tpdb/C_Integer/Stroeder_15/Toulouse-BranchesToLoop_true-termination.c',\n",
       " '../data/benchmarks/tpdb/C_Integer/Stroeder_15/UpAndDown.c',\n",
       " '../data/benchmarks/tpdb/C_Integer/Stroeder_15/UpAndDownIneq.c',\n",
       " '../data/benchmarks/tpdb/C_Integer/Stroeder_15/UrbanMine-ESOP2014-Fig3_true-termination.c',\n",
       " '../data/benchmarks/tpdb/C_Integer/Stroeder_15/WhileIncrPart.c',\n",
       " '../data/benchmarks/tpdb/C_Integer/Stroeder_15/aaron3_true-termination.c',\n",
       " '../data/benchmarks/tpdb/C_Integer/Stroeder_15/min_rf_true-termination.c',\n",
       " '../data/benchmarks/tpdb/C_Integer/Stroeder_15/svcomp_a.09_assume.c',\n",
       " '../data/benchmarks/tpdb/C_Integer/Stroeder_15/svcomp_b.03-no-inv_assume.c',\n",
       " '../data/benchmarks/tpdb/C_Integer/Stroeder_15/svcomp_b.03_assume.c',\n",
       " '../data/benchmarks/tpdb/C_Integer/Stroeder_15/svcomp_b.04.c',\n",
       " '../data/benchmarks/tpdb/C_Integer/Stroeder_15/svcomp_b.12.c',\n",
       " '../data/benchmarks/tpdb/C_Integer/Stroeder_15/svcomp_b.13.c',\n",
       " '../data/benchmarks/tpdb/C_Integer/Stroeder_15/svcomp_c.03.c',\n",
       " '../data/benchmarks/tpdb/C_Integer/Stroeder_15/svcomp_c.07.c',\n",
       " '../data/benchmarks/tpdb/C_Integer/Stroeder_15/svcomp_flag.c',\n",
       " '../data/benchmarks/tpdb/C_Integer/Ton_Chanh_15/McCarthy91_Iteration_true-termination.c'}"
      ]
     },
     "execution_count": 35,
     "metadata": {},
     "output_type": "execute_result"
    }
   ],
   "source": [
    "set(lex_rankings) - set(gpt_4_success)"
   ]
  }
 ],
 "metadata": {
  "kernelspec": {
   "display_name": "Python 3",
   "language": "python",
   "name": "python3"
  },
  "language_info": {
   "codemirror_mode": {
    "name": "ipython",
    "version": 3
   },
   "file_extension": ".py",
   "mimetype": "text/x-python",
   "name": "python",
   "nbconvert_exporter": "python",
   "pygments_lexer": "ipython3",
   "version": "3.11.0"
  }
 },
 "nbformat": 4,
 "nbformat_minor": 2
}
