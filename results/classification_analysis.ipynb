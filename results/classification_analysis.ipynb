{
 "cells": [
  {
   "cell_type": "code",
   "execution_count": 1,
   "metadata": {},
   "outputs": [],
   "source": [
    "import json"
   ]
  },
  {
   "cell_type": "code",
   "execution_count": null,
   "metadata": {},
   "outputs": [],
   "source": [
    "logs\\loopy_2023_10_07_20_01_09\n",
    "logs\\loopy_2023_10_07_22_57_01\n",
    "logs\\loopy_2023_10_07_22_57_45\n",
    "logs\\loopy_2023_10_08_11_52_20"
   ]
  },
  {
   "cell_type": "code",
   "execution_count": 3,
   "metadata": {},
   "outputs": [],
   "source": [
    "cl_json1 = json.load(open('../logs/loopy_2023_10_07_20_01_09/final.json'))\n",
    "cl_json2 = json.load(open('../logs/loopy_2023_10_07_22_57_01/final.json'))\n",
    "cl_json3 = json.load(open('../logs/loopy_2023_10_07_22_57_45/final.json'))\n",
    "cl_json4 = json.load(open('../logs/loopy_2023_10_08_11_52_20/final.json'))\n",
    "\n",
    "logs_1 = cl_json1['logs']\n",
    "logs_2 = cl_json2['logs']\n",
    "logs_3 = cl_json3['logs']\n",
    "logs_4 = cl_json4['logs']"
   ]
  },
  {
   "cell_type": "code",
   "execution_count": 10,
   "metadata": {},
   "outputs": [],
   "source": [
    "cl_json = open('../logs/loopy_2023_09_30_21_19_28/final.json')\n",
    "classification_json = json.load(cl_json)\n",
    "cl_json.close()"
   ]
  },
  {
   "cell_type": "code",
   "execution_count": 11,
   "metadata": {},
   "outputs": [],
   "source": [
    "problem_logs = classification_json[\"logs\"]"
   ]
  },
  {
   "cell_type": "code",
   "execution_count": 5,
   "metadata": {},
   "outputs": [],
   "source": [
    "s1_labels = {}\n",
    "graph_classification1 = {0:0, 1:0, 2:0, 3:0, 4:0, 5:0}\n",
    "positive_examples1 = {\"correct\": 0, \"incorrect\": 0, \"total\": 0}\n",
    "\n",
    "for p in logs_1:\n",
    "    if p[\"success\"] > 0.5:\n",
    "        s1_labels[p[\"file\"]] = {\"correct_completions\" : p[\"success\"] * 5, \"label\": p[\"ground_truth\"], \"success\": True}\n",
    "        if p[\"ground_truth\"]:\n",
    "            positive_examples1[\"correct\"] += 1\n",
    "            positive_examples1[\"total\"] += 1\n",
    "        else:\n",
    "            raise Exception(\"This should not happen\")\n",
    "    else:\n",
    "        s1_labels[p[\"file\"]] = {\"correct_completions\" : p[\"success\"] * 5, \"label\": p[\"ground_truth\"], \"success\": False}\n",
    "        if p[\"ground_truth\"]:\n",
    "            positive_examples1[\"incorrect\"] += 1\n",
    "            positive_examples1[\"total\"] += 1\n",
    "        else:\n",
    "            raise Exception(\"This should not happen\")\n",
    "        \n",
    "    graph_classification1[p[\"success\"] * 5] += 1"
   ]
  },
  {
   "cell_type": "code",
   "execution_count": 6,
   "metadata": {},
   "outputs": [
    {
     "data": {
      "text/plain": [
       "{'correct': 65, 'incorrect': 15, 'total': 80}"
      ]
     },
     "execution_count": 6,
     "metadata": {},
     "output_type": "execute_result"
    }
   ],
   "source": [
    "positive_examples1"
   ]
  },
  {
   "cell_type": "code",
   "execution_count": 15,
   "metadata": {},
   "outputs": [
    {
     "data": {
      "text/plain": [
       "{'correct': 62, 'incorrect': 18, 'total': 80}"
      ]
     },
     "execution_count": 15,
     "metadata": {},
     "output_type": "execute_result"
    }
   ],
   "source": [
    "s2_labels = {}\n",
    "graph_classification2 = {0:0, 1:0, 2:0, 3:0, 4:0, 5:0}\n",
    "positive_examples2 = {\"correct\": 0, \"incorrect\": 0, \"total\": 0}\n",
    "\n",
    "for p in logs_2:\n",
    "    if p[\"success\"] > 0.5:\n",
    "        s2_labels[p[\"file\"]] = {\"correct_completions\" : p[\"success\"] * 5, \"label\": p[\"ground_truth\"], \"success\": True}\n",
    "        if p[\"ground_truth\"]:\n",
    "            positive_examples2[\"correct\"] += 1\n",
    "            positive_examples2[\"total\"] += 1\n",
    "        else:\n",
    "            raise Exception(\"This should not happen\")\n",
    "    else:\n",
    "        s2_labels[p[\"file\"]] = {\"correct_completions\" : p[\"success\"] * 5, \"label\": p[\"ground_truth\"], \"success\": False}\n",
    "        if p[\"ground_truth\"]:\n",
    "            positive_examples2[\"incorrect\"] += 1\n",
    "            positive_examples2[\"total\"] += 1\n",
    "        else:\n",
    "            raise Exception(\"This should not happen\")\n",
    "        \n",
    "    graph_classification2[p[\"success\"] * 5] += 1\n",
    "\n",
    "positive_examples2"
   ]
  },
  {
   "cell_type": "code",
   "execution_count": 16,
   "metadata": {},
   "outputs": [
    {
     "data": {
      "text/plain": [
       "{'correct': 69, 'incorrect': 11, 'total': 80}"
      ]
     },
     "execution_count": 16,
     "metadata": {},
     "output_type": "execute_result"
    }
   ],
   "source": [
    "s2_labels = {}\n",
    "graph_classification2 = {0:0, 1:0, 2:0, 3:0, 4:0, 5:0}\n",
    "positive_examples3 = {\"correct\": 0, \"incorrect\": 0, \"total\": 0}\n",
    "\n",
    "for p in logs_3:\n",
    "    if p[\"success\"] > 0.5:\n",
    "        s2_labels[p[\"file\"]] = {\"correct_completions\" : p[\"success\"] * 5, \"label\": p[\"ground_truth\"], \"success\": True}\n",
    "        if p[\"ground_truth\"]:\n",
    "            positive_examples3[\"correct\"] += 1\n",
    "            positive_examples3[\"total\"] += 1\n",
    "        else:\n",
    "            raise Exception(\"This should not happen\")\n",
    "    else:\n",
    "        s2_labels[p[\"file\"]] = {\"correct_completions\" : p[\"success\"] * 5, \"label\": p[\"ground_truth\"], \"success\": False}\n",
    "        if p[\"ground_truth\"]:\n",
    "            positive_examples3[\"incorrect\"] += 1\n",
    "            positive_examples3[\"total\"] += 1\n",
    "        else:\n",
    "            raise Exception(\"This should not happen\")\n",
    "        \n",
    "    graph_classification2[p[\"success\"] * 5] += 1\n",
    "\n",
    "positive_examples3"
   ]
  },
  {
   "cell_type": "code",
   "execution_count": 18,
   "metadata": {},
   "outputs": [
    {
     "data": {
      "text/plain": [
       "{'correct': 63, 'incorrect': 17, 'total': 80}"
      ]
     },
     "execution_count": 18,
     "metadata": {},
     "output_type": "execute_result"
    }
   ],
   "source": [
    "s2_labels = {}\n",
    "graph_classification2 = {0:0, 1:0, 2:0, 3:0, 4:0, 5:0}\n",
    "positive_examples4 = {\"correct\": 0, \"incorrect\": 0, \"total\": 0}\n",
    "\n",
    "for p in logs_4:\n",
    "    if p[\"success\"] > 0.5:\n",
    "        s2_labels[p[\"file\"]] = {\"correct_completions\" : p[\"success\"] * 5, \"label\": p[\"ground_truth\"], \"success\": True}\n",
    "        if p[\"ground_truth\"]:\n",
    "            positive_examples4[\"correct\"] += 1\n",
    "            positive_examples4[\"total\"] += 1\n",
    "        else:\n",
    "            raise Exception(\"This should not happen\")\n",
    "    else:\n",
    "        s2_labels[p[\"file\"]] = {\"correct_completions\" : p[\"success\"] * 5, \"label\": p[\"ground_truth\"], \"success\": False}\n",
    "        if p[\"ground_truth\"]:\n",
    "            positive_examples4[\"incorrect\"] += 1\n",
    "            positive_examples4[\"total\"] += 1\n",
    "        else:\n",
    "            raise Exception(\"This should not happen\")\n",
    "        \n",
    "    graph_classification2[p[\"success\"] * 5] += 1\n",
    "\n",
    "positive_examples4"
   ]
  },
  {
   "cell_type": "code",
   "execution_count": 19,
   "metadata": {},
   "outputs": [],
   "source": [
    "pe = positive_examples1[\"total\"] + positive_examples2[\"total\"] + positive_examples3[\"total\"] + positive_examples4[\"total\"] + positive_examples[\"total\"]\n",
    "pc = positive_examples1[\"correct\"] + positive_examples2[\"correct\"] + positive_examples3[\"correct\"] + positive_examples4[\"correct\"] + positive_examples[\"correct\"]\n",
    "pi = positive_examples1[\"incorrect\"] + positive_examples2[\"incorrect\"] + positive_examples3[\"incorrect\"] + positive_examples4[\"incorrect\"] + positive_examples[\"incorrect\"]\n"
   ]
  },
  {
   "cell_type": "code",
   "execution_count": 22,
   "metadata": {},
   "outputs": [
    {
     "data": {
      "text/plain": [
       "(80.0, 64.8, 15.2)"
      ]
     },
     "execution_count": 22,
     "metadata": {},
     "output_type": "execute_result"
    }
   ],
   "source": [
    "pe/5, pc/5, pi/5"
   ]
  },
  {
   "cell_type": "code",
   "execution_count": 12,
   "metadata": {},
   "outputs": [],
   "source": [
    "final_labels = {}\n",
    "graph_classification = {0:0, 1:0, 2:0, 3:0, 4:0, 5:0}\n",
    "positive_examples = {\"correct\": 0, \"incorrect\": 0, \"total\": 0}\n",
    "negative_examples = {\"correct\": 0, \"incorrect\": 0, \"total\": 0}\n",
    "for p in problem_logs:\n",
    "    if p[\"success\"] > 0.5:\n",
    "        final_labels[p[\"file\"]] = {\"correct_completions\" : p[\"success\"] * 5, \"label\": p[\"ground_truth\"], \"success\": True}\n",
    "        if p[\"ground_truth\"]:\n",
    "            positive_examples[\"correct\"] += 1\n",
    "            positive_examples[\"total\"] += 1\n",
    "        else:\n",
    "            negative_examples[\"correct\"] += 1\n",
    "            negative_examples[\"total\"] += 1\n",
    "    else:\n",
    "        final_labels[p[\"file\"]] = {\"correct_completions\" : p[\"success\"] * 5, \"label\": p[\"ground_truth\"], \"success\": False}\n",
    "        if p[\"ground_truth\"]:\n",
    "            positive_examples[\"incorrect\"] += 1\n",
    "            positive_examples[\"total\"] += 1\n",
    "        else:\n",
    "            negative_examples[\"incorrect\"] += 1\n",
    "            negative_examples[\"total\"] += 1\n",
    "    graph_classification[p[\"success\"] * 5] += 1"
   ]
  },
  {
   "cell_type": "code",
   "execution_count": 15,
   "metadata": {},
   "outputs": [
    {
     "name": "stdout",
     "output_type": "stream",
     "text": [
      "Positive examples:  {'correct': 65, 'incorrect': 15, 'total': 80} Negative examples:  {'correct': 53, 'incorrect': 27, 'total': 80}\n"
     ]
    }
   ],
   "source": [
    "print(\"Positive examples: \", positive_examples, \"Negative examples: \", negative_examples)"
   ]
  },
  {
   "cell_type": "code",
   "execution_count": 10,
   "metadata": {},
   "outputs": [],
   "source": [
    "import matplotlib.pyplot as plt"
   ]
  },
  {
   "cell_type": "code",
   "execution_count": 73,
   "metadata": {},
   "outputs": [
    {
     "data": {
      "image/png": "[encoded data removed]",
      "text/plain": [
       "<Figure size 640x480 with 1 Axes>"
      ]
     },
     "metadata": {},
     "output_type": "display_data"
    }
   ],
   "source": [
    "# plot graph_classification\n",
    "plt.bar(graph_classification.keys(), graph_classification.values(), color=['darkblue',])\n",
    "plt.xlabel(\"Number of Correct Completions\")\n",
    "plt.ylabel(\"Number of Benchmarks\")\n",
    "plt.title(\"Number of correct completions vs number of benchmarks\")\n",
    "plt.savefig(\"graphs/classification-expt_num_correct_completions.png\")\n",
    "plt.show()\n"
   ]
  },
  {
   "cell_type": "code",
   "execution_count": 66,
   "metadata": {},
   "outputs": [
    {
     "data": {
      "image/png": "[encoded data removed]",
      "text/plain": [
       "<Figure size 500x500 with 1 Axes>"
      ]
     },
     "metadata": {},
     "output_type": "display_data"
    }
   ],
   "source": [
    "num_correct = 0\n",
    "num_incorrect = 0\n",
    "for k, v in final_labels.items():\n",
    "    if v[\"verdict\"]:\n",
    "        num_correct += 1\n",
    "    else:\n",
    "        num_incorrect += 1\n",
    "\n",
    "# plot bar graph\n",
    "plt.figure(figsize=(5, 5))\n",
    "plt.bar([\"Incorrect\", \"Correct\"], [num_incorrect, num_correct], color=['red' , 'green'], width=0.5)\n",
    "plt.xlim(-0.5, 1.5)\n",
    "plt.xlabel(\"Classification\")\n",
    "plt.ylabel(\"Number of Benchmarks\")\n",
    "plt.title(\"GPT-4 Classification of Loopy Benchmarks\")\n",
    "plt.savefig(\"graphs/classification-expt_correct_vs_incorrect.png\")\n",
    "plt.show()"
   ]
  },
  {
   "cell_type": "code",
   "execution_count": 65,
   "metadata": {},
   "outputs": [
    {
     "data": {
      "image/png": "[encoded data removed]",
      "text/plain": [
       "<Figure size 600x500 with 1 Axes>"
      ]
     },
     "metadata": {},
     "output_type": "display_data"
    }
   ],
   "source": [
    "# plot correct vs incorrect in positive and negative examples\n",
    "plt.figure(figsize=(6, 5))\n",
    "ax = plt.subplot(111)\n",
    "ax.bar([\"Positive Examples\", \"Negative Examples\"], [positive_examples[\"correct\"], negative_examples[\"correct\"]], color=['green', 'green'], width=0.5)\n",
    "ax.bar([\"Positive Examples\", \"Negative Examples\"], [positive_examples[\"incorrect\"], negative_examples[\"incorrect\"]], color=['red', 'red'], width=0.5, \n",
    "       bottom=[positive_examples[\"correct\"], negative_examples[\"correct\"]])\n",
    "plt.xlabel(\"Classification\")\n",
    "plt.ylabel(\"Number of Benchmarks\")\n",
    "plt.ylim(0, 100)\n",
    "plt.title(\"GPT-4 Classification of Loopy Benchmarks\")\n",
    "plt.legend([\"Correct\", \"Incorrect\"], loc='upper right')\n",
    "plt.savefig('graphs/classification-expt_positive_vs_negative.png')\n",
    "plt.show()"
   ]
  },
  {
   "cell_type": "code",
   "execution_count": 12,
   "metadata": {},
   "outputs": [
    {
     "data": {
      "text/plain": [
       "65"
      ]
     },
     "execution_count": 12,
     "metadata": {},
     "output_type": "execute_result"
    }
   ],
   "source": [
    "positive_examples[\"correct\"]"
   ]
  },
  {
   "cell_type": "code",
   "execution_count": 22,
   "metadata": {},
   "outputs": [],
   "source": [
    "from sklearn.metrics import confusion_matrix, precision_recall_fscore_support\n",
    "import seaborn as sns"
   ]
  },
  {
   "cell_type": "code",
   "execution_count": 17,
   "metadata": {},
   "outputs": [],
   "source": [
    "actual, predicted = [], []\n",
    "for k, v in final_labels.items():\n",
    "    actual.append(v[\"label\"])\n",
    "    if v[\"success\"]:\n",
    "        predicted.append(v[\"label\"])\n",
    "    else:\n",
    "        predicted.append(not v[\"label\"])"
   ]
  },
  {
   "cell_type": "code",
   "execution_count": 21,
   "metadata": {},
   "outputs": [
    {
     "data": {
      "text/plain": [
       "92"
      ]
     },
     "execution_count": 21,
     "metadata": {},
     "output_type": "execute_result"
    }
   ],
   "source": [
    "sum(predicted)"
   ]
  },
  {
   "cell_type": "code",
   "execution_count": 23,
   "metadata": {},
   "outputs": [],
   "source": [
    "cm = confusion_matrix(actual,predicted)"
   ]
  },
  {
   "cell_type": "code",
   "execution_count": null,
   "metadata": {},
   "outputs": [],
   "source": [
    "plt.figure(figsize=(7, 5.5))\n",
    "sns.heatmap(cm,\n",
    "        annot=True,\n",
    "        \n",
    "        fmt='g',\n",
    "        xticklabels=['True','False'],\n",
    "        yticklabels=['True','False'], linewidths=0.5, annot_kws={\"fontsize\":15})\n",
    "plt.ylabel('Prediction',fontsize=13)\n",
    "plt.xlabel('Actual',fontsize=13)\n",
    "# plt.title('GPT-4 classification of Loopy benchmarks',fontsize=17)\n",
    "plt.savefig('graphs/classification-expt_confusion_matrix_without_title.png')\n",
    "plt.show()"
   ]
  },
  {
   "cell_type": "code",
   "execution_count": 28,
   "metadata": {},
   "outputs": [],
   "source": [
    "# get precision, recall, f1-score\n",
    "precision, recall, f1_score, _ = precision_recall_fscore_support(actual, predicted, average='binary', pos_label=True)"
   ]
  },
  {
   "cell_type": "code",
   "execution_count": 29,
   "metadata": {},
   "outputs": [
    {
     "data": {
      "text/plain": [
       "(0.7065217391304348, 0.8125, 0.7558139534883721)"
      ]
     },
     "execution_count": 29,
     "metadata": {},
     "output_type": "execute_result"
    }
   ],
   "source": [
    "precision, recall, f1_score"
   ]
  },
  {
   "cell_type": "code",
   "execution_count": 27,
   "metadata": {},
   "outputs": [
    {
     "data": {
      "text/plain": [
       "0.7558139534883721"
      ]
     },
     "execution_count": 27,
     "metadata": {},
     "output_type": "execute_result"
    }
   ],
   "source": [
    "(2 * precision * recall) / (precision + recall)"
   ]
  }
 ],
 "metadata": {
  "kernelspec": {
   "display_name": "Python 3",
   "language": "python",
   "name": "python3"
  },
  "language_info": {
   "codemirror_mode": {
    "name": "ipython",
    "version": 3
   },
   "file_extension": ".py",
   "mimetype": "text/x-python",
   "name": "python",
   "nbconvert_exporter": "python",
   "pygments_lexer": "ipython3",
   "version": "3.11.0"
  },
  "orig_nbformat": 4
 },
 "nbformat": 4,
 "nbformat_minor": 2
}
