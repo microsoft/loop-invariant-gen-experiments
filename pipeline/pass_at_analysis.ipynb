{
 "cells": [
  {
   "cell_type": "code",
   "execution_count": 1,
   "metadata": {},
   "outputs": [],
   "source": [
    "import json\n",
    "import matplotlib.pyplot as plt"
   ]
  },
  {
   "cell_type": "code",
   "execution_count": 4,
   "metadata": {},
   "outputs": [],
   "source": [
    "minimal_prompt_log_file = open(\"logs/loopy_2023_08_27_02_50_01_processed/final_output_no_prune.json\")\n",
    "minimal_prompt_log = json.load(minimal_prompt_log_file)\n",
    "minimal_prompt_log_file.close()\n",
    "\n",
    "without_nudges_log_file = open(\"logs/loopy_2023_08_25_13_52_59_processed/final_output_no_prune.json\")\n",
    "without_nudges_log = json.load(without_nudges_log_file)\n",
    "without_nudges_log_file.close()\n",
    "\n",
    "with_nudges_log_file = open(\"logs/loopy_2023_08_25_13_54_09_processed/final_output_no_prune.json\")\n",
    "with_nudges_log = json.load(with_nudges_log_file)\n",
    "with_nudges_log_file.close()"
   ]
  },
  {
   "cell_type": "code",
   "execution_count": 5,
   "metadata": {},
   "outputs": [],
   "source": [
    "m_p = {i:0 for i in range(1, 15)}\n",
    "wo_n = {i:0 for i in range(1, 15)}\n",
    "w_n = {i:0 for i in range(1, 15)}\n",
    "\n",
    "for i in minimal_prompt_log:\n",
    "    m_p[i[\"k\"]] = i[\"pass_at_k_count\"]\n",
    "\n",
    "for i in without_nudges_log:\n",
    "    wo_n[i[\"k\"]] = i[\"pass_at_k_count\"]\n",
    "\n",
    "for i in with_nudges_log:\n",
    "    w_n[i[\"k\"]] = i[\"pass_at_k_count\"]"
   ]
  },
  {
   "cell_type": "code",
   "execution_count": 6,
   "metadata": {},
   "outputs": [
    {
     "data": {
      "text/plain": [
       "{1: 77,\n",
       " 2: 90,\n",
       " 3: 94,\n",
       " 4: 98,\n",
       " 5: 105,\n",
       " 6: 113,\n",
       " 7: 120,\n",
       " 8: 120,\n",
       " 9: 124,\n",
       " 10: 125,\n",
       " 11: 133,\n",
       " 12: 140,\n",
       " 13: 147,\n",
       " 14: 159,\n",
       " 15: 183}"
      ]
     },
     "execution_count": 6,
     "metadata": {},
     "output_type": "execute_result"
    }
   ],
   "source": []
  }
 ],
 "metadata": {
  "kernelspec": {
   "display_name": "Python 3",
   "language": "python",
   "name": "python3"
  },
  "language_info": {
   "codemirror_mode": {
    "name": "ipython",
    "version": 3
   },
   "file_extension": ".py",
   "mimetype": "text/x-python",
   "name": "python",
   "nbconvert_exporter": "python",
   "pygments_lexer": "ipython3",
   "version": "3.11.0"
  },
  "orig_nbformat": 4
 },
 "nbformat": 4,
 "nbformat_minor": 2
}
