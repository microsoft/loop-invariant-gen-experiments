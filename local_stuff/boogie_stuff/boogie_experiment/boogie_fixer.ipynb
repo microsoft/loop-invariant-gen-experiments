{
 "cells": [
  {
   "cell_type": "code",
   "execution_count": 16,
   "metadata": {},
   "outputs": [],
   "source": [
    "import requests\n",
    "import json\n",
    "from langchain.utilities import BashProcess\n",
    "import os\n",
    "import time\n",
    "from tenacity import retry, wait_exponential"
   ]
  },
  {
   "cell_type": "code",
   "execution_count": 17,
   "metadata": {},
   "outputs": [],
   "source": [
    "#Note: The openai-python library support for Azure OpenAI is in preview.\n",
    "import os\n",
    "import openai\n",
    "openai.api_type = \"azure\"\n",
    "openai.api_base = \"https://gcrgpt4aoai6c.openai.azure.com/\"\n",
    "openai.api_version = \"2023-03-15-preview\"\n",
    "openai.api_key = os.getenv(\"OPENAI_API_KEY\")\n",
    "\n",
    "# @retry(wait=wait_random_exponential(multiplier=1, max=60))\n",
    "@retry(wait=wait_exponential(multiplier=1, min=20, max=60))\n",
    "def call_llm(code, error):\n",
    "   # prompt = [{\"role\":\"system\",\"content\":\"You are an automatic software verification assistant. You will be given Boogie code and the error returned by the Boogie verifier on execution. Your task is to analyze the error, fix ONLY the invariants in the given Boogie code and output the correct Boogie code.\"},{\"role\":\"user\",\"content\":\"Boogie Code:\\nprocedure main()\\n    {\\n        var x1: int;\\n        var x2: int;\\n        var x3: int;\\n        var x4: int;\\n        var x5: int;\\n        var x6: int;\\n        var x7: int;\\n\\n        // pre-condition\\n        x4 := 0;\\n\\n        // loop body\\n        while (x4 < x5)\\n        invariant x4 >= 0; // 1) x4 = 0 => x4 >= 0, 2) x4 >=0 && x4' = x4 + 1 => x4' >= 0\\n        invariant x4 <= x5; // 1) x4 = 0 => x4 <= x5, 2) x4 <= x5 && x4' = x4 + 1 => x4' <= x5\\n        invariant (x4 == 0 || x7 >= x6); // 1) x4 = 0 => (x4==0 || x7>=x6), 2) x4 >=0 && (x4==0 || x7>=x6) && x4' = x4 + 1 && ((x7 <= x6 => x6' = x7) || (!(x7 <= x6) => x6' = x6)) && x7' = x7 =>  (x4'==0 || x7' >= x6')\\n        {\\n            x4 := x4 + 1;\\n            if (x7 <= x6) {\\n                x6 := x7;\\n            }\\n        }\\n\\n        // post-condition\\n        if (x5 > 0) {\\n            assert (x7 >= x6);\\n        }\\n    }\\n\\nBoogie Error:\\nboogie/6.bpl(17,9): Error: this loop invariant could not be proved on entry\\nExecution trace:\\n    boogie/6.bpl(12,12): anon0\\n\\nBoogie program verifier finished with 0 verified, 1 error\"},{\"role\":\"assistant\",\"content\":\"procedure main()\\n    {\\n        var x1: int;\\n        var x2: int;\\n        var x3: int;\\n        var x4: int;\\n        var x5: int;\\n        var x6: int;\\n        var x7: int;\\n\\n        // pre-condition\\n        x4 := 0;\\n\\n        // loop body\\n        while (x4 < x5)\\n        invariant x4 >= 0; // 1) x4 = 0 => x4 >= 0, 2) x4 >=0 && x4' = x4 + 1 => x4' >= 0\\n        invariant (x4 == 0 || x7 >= x6); // 1) x4 = 0 => (x4==0 || x7>=x6), 2) x4 >=0 && (x4==0 || x7>=x6) && x4' = x4 + 1 && ((x7 <= x6 => x6' = x7) || (!(x7 <= x6) => x6' = x6)) && x7' = x7 =>  (x4'==0 || x7' >= x6')\\n        {\\n            x4 := x4 + 1;\\n            if (x7 <= x6) {\\n                x6 := x7;\\n            }\\n        }\\n\\n        // post-condition\\n        if (x5 > 0) {\\n            assert (x7 >= x6);\\n        }\\n    }\"},{\"role\":\"user\",\"content\":\"Boogie Code:\\nprocedure main()\\n    {\\n        var x1: int;\\n        var x2: int;\\n        var x3: int;\\n        var nondet: bool;\\n\\n        // pre-condition\\n        x1 := 1;\\n        x2 := 1;\\n\\n        // loop body\\n        while (x1 < x3)\\n        invariant x1 >= 1; // 1) x1 = 1 => x1 >= 1, 2) x1 >= 1 && x1' = x1 + 1 => x1' >= 1\\n        invariant x2 >= 1; // 1) x2 = 1 => x2 >= 1, 2) x2 >= 1 && (x2' = x1 || x2' = x2) => x2' >= 1\\n        invariant x2 <= x1; // 1) x1 = 1, x2 = 1 => x2 <= x1, 2) x2 <= x1 && (x2' = x1 || x2' = x2) && x1' = x1 + 1 => x2' <= x1'\\n        {\\n            havoc nondet;\\n            if (nondet) {\\n                x2 := x1;\\n            }\\n            x1 := x1 + 1;\\n        }\\n\\n        // post-condition\\n        if (x3 > 1) {\\n            assert (x2 < x3);\\n            //assert (x2 >= 1); // This is already proven by the loop invariant x2 >= 1\\n        }\\n    }\\n\\nBoogie Error:\\nboogie/17.bpl(27,13): Error: this assertion could not be proved\\nExecution trace:\\n    boogie/17.bpl(9,12): anon0\\n    boogie/17.bpl(13,9): anon6_LoopHead\\n    boogie/17.bpl(13,9): anon6_LoopDone\\n    boogie/17.bpl(27,13): anon8_Then\\n\\nBoogie program verifier finished with 0 verified, 1 error\"},{\"role\":\"assistant\",\"content\":\"procedure main()\\n    {\\n        var x1: int;\\n        var x2: int;\\n        var x3: int;\\n        var nondet: bool;\\n\\n        // pre-condition\\n        x1 := 1;\\n        x2 := 1;\\n\\n        // loop body\\n        while (x1 < x3)\\n        invariant x1 >= 1; // 1) x1 = 1 => x1 >= 1, 2) x1 >= 1 && x1' = x1 + 1 => x1' >= 1\\n        invariant x2 >= 1; // 1) x2 = 1 => x2 >= 1, 2) x2 >= 1 && (x2' = x1 || x2' = x2) => x2' >= 1\\n        invariant x2 <= x1; // 1) x1 = 1, x2 = 1 => x2 <= x1, 2) x2 <= x1 && (x2' = x1 || x2' = x2) && x1' = x1 + 1 => x2' <= x1'\\n        invariant x1 == 1 || x2 < x3;\\n        {\\n            havoc nondet;\\n            if (nondet) {\\n                x2 := x1;\\n            }\\n            x1 := x1 + 1;\\n        }\\n\\n        // post-condition\\n        if (x3 > 1) {\\n            assert (x2 < x3);\\n            //assert (x2 >= 1); // This is already proven by the loop invariant x2 >= 1\\n        }\\n    }\"}]\n",
    "   prompt = [{\"role\":\"system\",\"content\":\"You are an automatic software verification assistant. You will be given Boogie code and the error returned by the Boogie verifier on execution. Your task is to analyze the error, fix ONLY the invariants in the given Boogie code and output the correct Boogie code.\"},{\"role\":\"user\",\"content\":\"Boogie Code:\\nprocedure main()\\n    {\\n        var x1: int;\\n        var x2: int;\\n        var x3: int;\\n        var x4: int;\\n        var x5: int;\\n        var x6: int;\\n        var x7: int;\\n\\n        // pre-condition\\n        x4 := 0;\\n\\n        // loop body\\n        while (x4 < x5)\\n        invariant x4 >= 0;\\n        invariant x4 <= x5;\\n        invariant (x4 == 0 || x7 >= x6);\\n        {\\n            x4 := x4 + 1;\\n            if (x7 <= x6) {\\n                x6 := x7;\\n            }\\n        }\\n\\n        // post-condition\\n        if (x5 > 0) {\\n            assert (x7 >= x6);\\n        }\\n    }\\n\\nBoogie Error:\\nboogie/6.bpl(17,9): Error: this loop invariant could not be proved on entry\\nExecution trace:\\n    boogie/6.bpl(12,12): anon0\\n\\nBoogie program verifier finished with 0 verified, 1 error\"},{\"role\":\"assistant\",\"content\":\"procedure main()\\n    {\\n        var x1: int;\\n        var x2: int;\\n        var x3: int;\\n        var x4: int;\\n        var x5: int;\\n        var x6: int;\\n        var x7: int;\\n\\n        // pre-condition\\n        x4 := 0;\\n\\n        // loop body\\n        while (x4 < x5)\\n        invariant x4 >= 0;\\n        invariant (x4 == 0 || x7 >= x6);\\n        {\\n            x4 := x4 + 1;\\n            if (x7 <= x6) {\\n                x6 := x7;\\n            }\\n        }\\n\\n        // post-condition\\n        if (x5 > 0) {\\n            assert (x7 >= x6);\\n        }\\n    }\"},{\"role\":\"user\",\"content\":\"Boogie Code:\\nprocedure main()\\n    {\\n        var x1: int;\\n        var x2: int;\\n        var x3: int;\\n        var nondet: bool;\\n\\n        // pre-condition\\n        x1 := 1;\\n        x2 := 1;\\n\\n        // loop body\\n        while (x1 < x3)\\n        invariant x1 >= 1;\\n        invariant x2 >= 1;\\n        invariant x2 <= x1;\\n        {\\n            havoc nondet;\\n            if (nondet) {\\n                x2 := x1;\\n            }\\n            x1 := x1 + 1;\\n        }\\n\\n        // post-condition\\n        if (x3 > 1) {\\n            assert (x2 < x3);\\n            //assert (x2 >= 1); // This is already proven by the loop invariant x2 >= 1\\n        }\\n    }\\n\\nBoogie Error:\\nboogie/17.bpl(27,13): Error: this assertion could not be proved\\nExecution trace:\\n    boogie/17.bpl(9,12): anon0\\n    boogie/17.bpl(13,9): anon6_LoopHead\\n    boogie/17.bpl(13,9): anon6_LoopDone\\n    boogie/17.bpl(27,13): anon8_Then\\n\\nBoogie program verifier finished with 0 verified, 1 error\"},{\"role\":\"assistant\",\"content\":\"procedure main()\\n    {\\n        var x1: int;\\n        var x2: int;\\n        var x3: int;\\n        var nondet: bool;\\n\\n        // pre-condition\\n        x1 := 1;\\n        x2 := 1;\\n\\n        // loop body\\n        while (x1 < x3)\\n        invariant x1 >= 1;\\n        invariant x2 >= 1;\\n        invariant x2 <= x1;\\n        invariant x1 == 1 || x2 < x3;\\n        {\\n            havoc nondet;\\n            if (nondet) {\\n                x2 := x1;\\n            }\\n            x1 := x1 + 1;\\n        }\\n\\n        // post-condition\\n        if (x3 > 1) {\\n            assert (x2 < x3);\\n            //assert (x2 >= 1); // This is already proven by the loop invariant x2 >= 1\\n        }\\n    }\"}]\n",
    "   prompt.append({\"role\":\"user\", \"content\":f\"Boogie Code:\\n{code}\\n\\nBoogie Error:\\n{error}\"})\n",
    "\n",
    "   response = openai.ChatCompletion.create(\n",
    "   engine=\"gpt-4\",\n",
    "   messages = prompt,\n",
    "   temperature=0.2,\n",
    "   max_tokens=1000,\n",
    "   top_p=0.95,\n",
    "   frequency_penalty=0,\n",
    "   presence_penalty=0,\n",
    "   stop=None)\n",
    "   return response.choices[0].message.content\n",
    "   "
   ]
  },
  {
   "cell_type": "code",
   "execution_count": 20,
   "metadata": {},
   "outputs": [
    {
     "name": "stdout",
     "output_type": "stream",
     "text": [
      "1 - 1.bpl\n",
      "2 - 10.bpl\n",
      "3 - 100.bpl\n",
      "4 - 101.bpl\n",
      "5 - 102.bpl\n",
      "6 - 103.bpl\n",
      "7 - 104.bpl\n",
      "8 - 105.bpl\n",
      "9 - 106.bpl\n",
      "10 - 107.bpl\n",
      "11 - 108.bpl\n"
     ]
    },
    {
     "ename": "KeyboardInterrupt",
     "evalue": "",
     "output_type": "error",
     "traceback": [
      "\u001b[0;31m---------------------------------------------------------------------------\u001b[0m",
      "\u001b[0;31mKeyboardInterrupt\u001b[0m                         Traceback (most recent call last)",
      "Cell \u001b[0;32mIn[20], line 13\u001b[0m\n\u001b[1;32m     11\u001b[0m \u001b[39mif\u001b[39;00m \u001b[39m\"\u001b[39m\u001b[39m1 verified\u001b[39m\u001b[39m\"\u001b[39m \u001b[39mnot\u001b[39;00m \u001b[39min\u001b[39;00m error:\n\u001b[1;32m     12\u001b[0m     error \u001b[39m=\u001b[39m error\u001b[39m.\u001b[39msplit(\u001b[39m\"\u001b[39m\u001b[39mSTDOUT:\u001b[39m\u001b[39m\"\u001b[39m)[\u001b[39m1\u001b[39m]\u001b[39m.\u001b[39msplit(\u001b[39m\"\u001b[39m\u001b[39mSTDERR:\u001b[39m\u001b[39m\"\u001b[39m)[\u001b[39m0\u001b[39m]\u001b[39m.\u001b[39mstrip()\n\u001b[0;32m---> 13\u001b[0m     output \u001b[39m=\u001b[39m call_llm(code, error)\n\u001b[1;32m     14\u001b[0m \u001b[39melse\u001b[39;00m:\n\u001b[1;32m     15\u001b[0m     output \u001b[39m=\u001b[39m code\n",
      "File \u001b[0;32m~/miniconda3/envs/rust-assistant/lib/python3.11/site-packages/tenacity/__init__.py:289\u001b[0m, in \u001b[0;36mBaseRetrying.wraps.<locals>.wrapped_f\u001b[0;34m(*args, **kw)\u001b[0m\n\u001b[1;32m    287\u001b[0m \u001b[39m@functools\u001b[39m\u001b[39m.\u001b[39mwraps(f)\n\u001b[1;32m    288\u001b[0m \u001b[39mdef\u001b[39;00m \u001b[39mwrapped_f\u001b[39m(\u001b[39m*\u001b[39margs: t\u001b[39m.\u001b[39mAny, \u001b[39m*\u001b[39m\u001b[39m*\u001b[39mkw: t\u001b[39m.\u001b[39mAny) \u001b[39m-\u001b[39m\u001b[39m>\u001b[39m t\u001b[39m.\u001b[39mAny:\n\u001b[0;32m--> 289\u001b[0m     \u001b[39mreturn\u001b[39;00m \u001b[39mself\u001b[39;49m(f, \u001b[39m*\u001b[39;49margs, \u001b[39m*\u001b[39;49m\u001b[39m*\u001b[39;49mkw)\n",
      "File \u001b[0;32m~/miniconda3/envs/rust-assistant/lib/python3.11/site-packages/tenacity/__init__.py:389\u001b[0m, in \u001b[0;36mRetrying.__call__\u001b[0;34m(self, fn, *args, **kwargs)\u001b[0m\n\u001b[1;32m    387\u001b[0m \u001b[39melif\u001b[39;00m \u001b[39misinstance\u001b[39m(do, DoSleep):\n\u001b[1;32m    388\u001b[0m     retry_state\u001b[39m.\u001b[39mprepare_for_next_attempt()\n\u001b[0;32m--> 389\u001b[0m     \u001b[39mself\u001b[39;49m\u001b[39m.\u001b[39;49msleep(do)\n\u001b[1;32m    390\u001b[0m \u001b[39melse\u001b[39;00m:\n\u001b[1;32m    391\u001b[0m     \u001b[39mreturn\u001b[39;00m do\n",
      "File \u001b[0;32m~/miniconda3/envs/rust-assistant/lib/python3.11/site-packages/tenacity/nap.py:31\u001b[0m, in \u001b[0;36msleep\u001b[0;34m(seconds)\u001b[0m\n\u001b[1;32m     25\u001b[0m \u001b[39mdef\u001b[39;00m \u001b[39msleep\u001b[39m(seconds: \u001b[39mfloat\u001b[39m) \u001b[39m-\u001b[39m\u001b[39m>\u001b[39m \u001b[39mNone\u001b[39;00m:\n\u001b[1;32m     26\u001b[0m \u001b[39m    \u001b[39m\u001b[39m\"\"\"\u001b[39;00m\n\u001b[1;32m     27\u001b[0m \u001b[39m    Sleep strategy that delays execution for a given number of seconds.\u001b[39;00m\n\u001b[1;32m     28\u001b[0m \n\u001b[1;32m     29\u001b[0m \u001b[39m    This is the default strategy, and may be mocked out for unit testing.\u001b[39;00m\n\u001b[1;32m     30\u001b[0m \u001b[39m    \"\"\"\u001b[39;00m\n\u001b[0;32m---> 31\u001b[0m     time\u001b[39m.\u001b[39msleep(seconds)\n",
      "\u001b[0;31mKeyboardInterrupt\u001b[0m: "
     ]
    }
   ],
   "source": [
    "source = \"boogie_fixed2\"\n",
    "dest = \"boogie_fixed3\"\n",
    "i = 0\n",
    "for file in sorted(list(os.listdir(source))):\n",
    "    if file.endswith(\".bpl\"):\n",
    "        with open(f\"{source}/{file}\") as f1:\n",
    "            with open(f\"{source}/{file[:-4]}.out\") as f2:\n",
    "                code = f1.read()\n",
    "                error = f2.read()\n",
    "                output = \"\"\n",
    "                if \"1 verified\" not in error:\n",
    "                    error = error.split(\"STDOUT:\")[1].split(\"STDERR:\")[0].strip()\n",
    "                    output = call_llm(code, error)\n",
    "                else:\n",
    "                    output = code\n",
    "                with open(f\"{dest}/{file}\", \"w\") as f:\n",
    "                    f.write(output)\n",
    "                i += 1\n",
    "                print(f\"{i} - {file}\")"
   ]
  },
  {
   "cell_type": "code",
   "execution_count": null,
   "metadata": {},
   "outputs": [],
   "source": [
    "# call_llm(\"\"\"\n",
    "# int main() {\n",
    "#   // variable declarations\n",
    "#   int x;\n",
    "#   int y;\n",
    "#   // pre-conditions\n",
    "#   (x = 1);\n",
    "#   (y = 0);\n",
    "#   // loop body\n",
    "#   while ((y < 1000)) {\n",
    "#     {\n",
    "#     (x  = (x + y));\n",
    "#     (y  = (y + 1));\n",
    "#     }\n",
    "\n",
    "#   }\n",
    "#   // post-condition\n",
    "# assert( (x >= y) );\n",
    "# }\n",
    "# \"\"\")"
   ]
  },
  {
   "cell_type": "code",
   "execution_count": null,
   "metadata": {},
   "outputs": [],
   "source": []
  }
 ],
 "metadata": {
  "kernelspec": {
   "display_name": "rust-assistant",
   "language": "python",
   "name": "python3"
  },
  "language_info": {
   "codemirror_mode": {
    "name": "ipython",
    "version": 3
   },
   "file_extension": ".py",
   "mimetype": "text/x-python",
   "name": "python",
   "nbconvert_exporter": "python",
   "pygments_lexer": "ipython3",
   "version": "3.11.3"
  },
  "orig_nbformat": 4
 },
 "nbformat": 4,
 "nbformat_minor": 2
}
