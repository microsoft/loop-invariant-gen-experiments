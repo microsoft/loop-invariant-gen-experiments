{
 "cells": [
  {
   "cell_type": "code",
   "execution_count": 1,
   "metadata": {},
   "outputs": [],
   "source": [
    "import argparse\n",
    "import os\n",
    "import re\n",
    "import sys\n",
    "from pathlib import Path\n",
    "\n",
    "import numpy as np\n",
    "import pandas as pd\n",
    "import tiktoken\n",
    "from tree_sitter import Language, Parser"
   ]
  },
  {
   "cell_type": "code",
   "execution_count": 9,
   "metadata": {},
   "outputs": [],
   "source": [
    "from characterize import BenchmarkParser"
   ]
  },
  {
   "cell_type": "code",
   "execution_count": 3,
   "metadata": {},
   "outputs": [],
   "source": [
    "language = Language(os.path.join('tree_sitter_lib/build/') + 'c-tree-sitter.so', \"c\")"
   ]
  },
  {
   "cell_type": "code",
   "execution_count": 148,
   "metadata": {},
   "outputs": [],
   "source": [
    "codefile = open('original_benchmarks/LinearArbitrary-SeaHorn/pie/ICE/benchmarks/form22.c', 'r')"
   ]
  },
  {
   "cell_type": "code",
   "execution_count": 149,
   "metadata": {},
   "outputs": [],
   "source": [
    "code = codefile.read()"
   ]
  },
  {
   "cell_type": "code",
   "execution_count": 11,
   "metadata": {},
   "outputs": [],
   "source": [
    "bp = BenchmarkParser(language_name=\"c\")"
   ]
  },
  {
   "cell_type": "code",
   "execution_count": 150,
   "metadata": {},
   "outputs": [],
   "source": [
    "ast = bp.parse(code)"
   ]
  },
  {
   "cell_type": "code",
   "execution_count": 151,
   "metadata": {},
   "outputs": [
    {
     "data": {
      "text/plain": [
       "'(translation_unit (declaration (storage_class_specifier) type: (primitive_type) declarator: (function_declarator declarator: (identifier) parameters: (parameter_list) (attribute_specifier (argument_list (identifier))))) (declaration (storage_class_specifier) type: (primitive_type) declarator: (function_declarator declarator: (identifier) parameters: (parameter_list))) (function_definition type: (primitive_type) declarator: (function_declarator declarator: (identifier) parameters: (parameter_list (parameter_declaration type: (primitive_type) declarator: (identifier)))) body: (compound_statement (if_statement condition: (parenthesized_expression (unary_expression argument: (parenthesized_expression (identifier)))) consequence: (compound_statement (labeled_statement label: (statement_identifier) (expression_statement (call_expression function: (identifier) arguments: (argument_list)))) (expression_statement))) (return_statement))) (expression_statement (call_expression function: (identifier) arguments: (argument_list)) (MISSING \";\")) (compound_statement (declaration type: (primitive_type) declarator: (identifier) declarator: (identifier) declarator: (identifier)) (declaration type: (primitive_type) declarator: (identifier) declarator: (identifier) declarator: (identifier) declarator: (identifier)) (expression_statement (assignment_expression left: (identifier) right: (assignment_expression left: (identifier) right: (assignment_expression left: (identifier) right: (number_literal))))) (expression_statement (assignment_expression left: (identifier) right: (call_expression function: (identifier) arguments: (argument_list)))) (while_statement condition: (parenthesized_expression (identifier)) body: (compound_statement (expression_statement (assignment_expression left: (identifier) right: (call_expression function: (identifier) arguments: (argument_list)))) (expression_statement (assignment_expression left: (identifier) right: (call_expression function: (identifier) arguments: (argument_list)))) (expression_statement (assignment_expression left: (identifier) right: (call_expression function: (identifier) arguments: (argument_list)))) (if_statement condition: (parenthesized_expression (binary_expression left: (binary_expression left: (identifier) right: (identifier)) right: (parenthesized_expression (binary_expression left: (binary_expression left: (identifier) right: (number_literal)) right: (binary_expression left: (binary_expression left: (identifier) right: (identifier)) right: (number_literal)))))) consequence: (compound_statement (expression_statement (assignment_expression left: (identifier) right: (identifier))) (expression_statement (assignment_expression left: (identifier) right: (identifier))) (expression_statement (assignment_expression left: (identifier) right: (identifier))))) (expression_statement (assignment_expression left: (identifier) right: (call_expression function: (identifier) arguments: (argument_list)))))) (expression_statement (call_expression function: (identifier) arguments: (argument_list (binary_expression left: (binary_expression left: (identifier) right: (identifier)) right: (parenthesized_expression (binary_expression left: (binary_expression left: (identifier) right: (number_literal)) right: (binary_expression left: (binary_expression left: (identifier) right: (identifier)) right: (number_literal))))))))))'"
      ]
     },
     "execution_count": 151,
     "metadata": {},
     "output_type": "execute_result"
    }
   ],
   "source": [
    "ast.root_node.sexp()"
   ]
  },
  {
   "cell_type": "code",
   "execution_count": 156,
   "metadata": {},
   "outputs": [
    {
     "name": "stdout",
     "output_type": "stream",
     "text": [
      "(translation_unit (declaration (storage_class_specifier) type: (primitive_type) declarator: (function_declarator declarator: (identifier) parameters: (parameter_list) (attribute_specifier (argument_list (identifier))))) (declaration (storage_class_specifier) type: (primitive_type) declarator: (function_declarator declarator: (identifier) parameters: (parameter_list))) (function_definition type: (primitive_type) declarator: (function_declarator declarator: (identifier) parameters: (parameter_list (parameter_declaration type: (primitive_type) declarator: (identifier)))) body: (compound_statement (if_statement condition: (parenthesized_expression (unary_expression argument: (parenthesized_expression (identifier)))) consequence: (compound_statement (labeled_statement label: (statement_identifier) (expression_statement (call_expression function: (identifier) arguments: (argument_list)))) (expression_statement))) (return_statement))) (expression_statement (call_expression function: (identifier) arguments: (argument_list)) (MISSING \";\")) (compound_statement (declaration type: (primitive_type) declarator: (identifier) declarator: (identifier) declarator: (identifier)) (declaration type: (primitive_type) declarator: (identifier) declarator: (identifier) declarator: (identifier) declarator: (identifier)) (expression_statement (assignment_expression left: (identifier) right: (assignment_expression left: (identifier) right: (assignment_expression left: (identifier) right: (number_literal))))) (expression_statement (assignment_expression left: (identifier) right: (call_expression function: (identifier) arguments: (argument_list)))) (while_statement condition: (parenthesized_expression (identifier)) body: (compound_statement (expression_statement (assignment_expression left: (identifier) right: (call_expression function: (identifier) arguments: (argument_list)))) (expression_statement (assignment_expression left: (identifier) right: (call_expression function: (identifier) arguments: (argument_list)))) (expression_statement (assignment_expression left: (identifier) right: (call_expression function: (identifier) arguments: (argument_list)))) (if_statement condition: (parenthesized_expression (binary_expression left: (binary_expression left: (identifier) right: (identifier)) right: (parenthesized_expression (binary_expression left: (binary_expression left: (identifier) right: (number_literal)) right: (binary_expression left: (binary_expression left: (identifier) right: (identifier)) right: (number_literal)))))) consequence: (compound_statement (expression_statement (assignment_expression left: (identifier) right: (identifier))) (expression_statement (assignment_expression left: (identifier) right: (identifier))) (expression_statement (assignment_expression left: (identifier) right: (identifier))))) (expression_statement (assignment_expression left: (identifier) right: (call_expression function: (identifier) arguments: (argument_list)))))) (expression_statement (call_expression function: (identifier) arguments: (argument_list (binary_expression left: (binary_expression left: (identifier) right: (identifier)) right: (parenthesized_expression (binary_expression left: (binary_expression left: (identifier) right: (number_literal)) right: (binary_expression left: (binary_expression left: (identifier) right: (identifier)) right: (number_literal))))))))))\n"
     ]
    }
   ],
   "source": [
    "print(ast.root_node.sexp())"
   ]
  },
  {
   "cell_type": "code",
   "execution_count": 158,
   "metadata": {},
   "outputs": [
    {
     "name": "stdout",
     "output_type": "stream",
     "text": [
      "=========================================================\n",
      "{\n",
      "  int x1,x2,x3;\n",
      "  int x1p,x2p,x3p, input;\n",
      "\n",
      "  x1 = x2 = x3 = 0;\n",
      "  input = __VERIFIER_nondet_int();\n",
      "  while(input)\n",
      "  {\n",
      "    x1p = __VERIFIER_nondet_int();\n",
      "    x2p = __VERIFIER_nondet_int();\n",
      "    x3p = __VERIFIER_nondet_int();\n",
      "\n",
      "    if (x1p <= x2p && (x2p >= 0 || x2p - x3p <= 2))\n",
      "    {\n",
      "\tx1 = x1p;\n",
      "\tx2 = x2p;\n",
      "\tx3 = x3p;\n",
      "    }\n",
      "    input = __VERIFIER_nondet_int();\n",
      "  }\n",
      "  __VERIFIER_assert(x1 <= x2 && (x2 >= 0 || x2 - x3 <= 2));    \n",
      "}\n",
      "(compound_statement (declaration type: (primitive_type) declarator: (identifier) declarator: (identifier) declarator: (identifier)) (declaration type: (primitive_type) declarator: (identifier) declarator: (identifier) declarator: (identifier) declarator: (identifier)) (expression_statement (assignment_expression left: (identifier) right: (assignment_expression left: (identifier) right: (assignment_expression left: (identifier) right: (number_literal))))) (expression_statement (assignment_expression left: (identifier) right: (call_expression function: (identifier) arguments: (argument_list)))) (while_statement condition: (parenthesized_expression (identifier)) body: (compound_statement (expression_statement (assignment_expression left: (identifier) right: (call_expression function: (identifier) arguments: (argument_list)))) (expression_statement (assignment_expression left: (identifier) right: (call_expression function: (identifier) arguments: (argument_list)))) (expression_statement (assignment_expression left: (identifier) right: (call_expression function: (identifier) arguments: (argument_list)))) (if_statement condition: (parenthesized_expression (binary_expression left: (binary_expression left: (identifier) right: (identifier)) right: (parenthesized_expression (binary_expression left: (binary_expression left: (identifier) right: (number_literal)) right: (binary_expression left: (binary_expression left: (identifier) right: (identifier)) right: (number_literal)))))) consequence: (compound_statement (expression_statement (assignment_expression left: (identifier) right: (identifier))) (expression_statement (assignment_expression left: (identifier) right: (identifier))) (expression_statement (assignment_expression left: (identifier) right: (identifier))))) (expression_statement (assignment_expression left: (identifier) right: (call_expression function: (identifier) arguments: (argument_list)))))) (expression_statement (call_expression function: (identifier) arguments: (argument_list (binary_expression left: (binary_expression left: (identifier) right: (identifier)) right: (parenthesized_expression (binary_expression left: (binary_expression left: (identifier) right: (number_literal)) right: (binary_expression left: (binary_expression left: (identifier) right: (identifier)) right: (number_literal)))))))))\n",
      "b'extern void __VERIFIER_error() __attribute__ ((__noreturn__));\\nextern int __VERIFIER_nondet_int();\\nvoid __VERIFIER_assert(int cond) {\\n  if (!(cond)) {\\n    ERROR: __VERIFIER_error();;\\n  }\\n  return;\\n}\\n\\nmain()\\n{\\n  int x1,x2,x3;\\n  int x1p,x2p,x3p, input;\\n\\n  x1 = x2 = x3 = 0;\\n  input = __VERIFIER_nondet_int();\\n  while(input)\\n  {\\n    x1p = __VERIFIER_nondet_int();\\n    x2p = __VERIFIER_nondet_int();\\n    x3p = __VERIFIER_nondet_int();\\n\\n    if (x1p <= x2p && (x2p >= 0 || x2p - x3p <= 2))\\n    {\\n\\tx1 = x1p;\\n\\tx2 = x2p;\\n\\tx3 = x3p;\\n    }\\n    input = __VERIFIER_nondet_int();\\n  }\\n  __VERIFIER_assert(x1 <= x2 && (x2 >= 0 || x2 - x3 <= 2));    \\n}\\n\\n'\n",
      "=========================================================\n",
      "=========================================================\n",
      "{\n",
      "  int x1,x2,x3;\n",
      "  int x1p,x2p,x3p, input;\n",
      "\n",
      "  x1 = x2 = x3 = 0;\n",
      "  input = __VERIFIER_nondet_int();\n",
      "  while(input)\n",
      "  {\n",
      "    x1p = __VERIFIER_nondet_int();\n",
      "    x2p = __VERIFIER_nondet_int();\n",
      "    x3p = __VERIFIER_nondet_int();\n",
      "\n",
      "    if (x1p <= x2p && (x2p >= 0 || x2p - x3p <= 2))\n",
      "    {\n",
      "\tx1 = x1p;\n",
      "\tx2 = x2p;\n",
      "\tx3 = x3p;\n",
      "    }\n",
      "    input = __VERIFIER_nondet_int();\n",
      "  }\n",
      "  __VERIFIER_assert(x1 <= x2 && (x2 >= 0 || x2 - x3 <= 2));    \n",
      "}\n",
      "(compound_statement (declaration type: (primitive_type) declarator: (identifier) declarator: (identifier) declarator: (identifier)) (declaration type: (primitive_type) declarator: (identifier) declarator: (identifier) declarator: (identifier) declarator: (identifier)) (expression_statement (assignment_expression left: (identifier) right: (assignment_expression left: (identifier) right: (assignment_expression left: (identifier) right: (number_literal))))) (expression_statement (assignment_expression left: (identifier) right: (call_expression function: (identifier) arguments: (argument_list)))) (while_statement condition: (parenthesized_expression (identifier)) body: (compound_statement (expression_statement (assignment_expression left: (identifier) right: (call_expression function: (identifier) arguments: (argument_list)))) (expression_statement (assignment_expression left: (identifier) right: (call_expression function: (identifier) arguments: (argument_list)))) (expression_statement (assignment_expression left: (identifier) right: (call_expression function: (identifier) arguments: (argument_list)))) (if_statement condition: (parenthesized_expression (binary_expression left: (binary_expression left: (identifier) right: (identifier)) right: (parenthesized_expression (binary_expression left: (binary_expression left: (identifier) right: (number_literal)) right: (binary_expression left: (binary_expression left: (identifier) right: (identifier)) right: (number_literal)))))) consequence: (compound_statement (expression_statement (assignment_expression left: (identifier) right: (identifier))) (expression_statement (assignment_expression left: (identifier) right: (identifier))) (expression_statement (assignment_expression left: (identifier) right: (identifier))))) (expression_statement (assignment_expression left: (identifier) right: (call_expression function: (identifier) arguments: (argument_list)))))) (expression_statement (call_expression function: (identifier) arguments: (argument_list (binary_expression left: (binary_expression left: (identifier) right: (identifier)) right: (parenthesized_expression (binary_expression left: (binary_expression left: (identifier) right: (number_literal)) right: (binary_expression left: (binary_expression left: (identifier) right: (identifier)) right: (number_literal)))))))))\n",
      "b'extern void __VERIFIER_error() __attribute__ ((__noreturn__));\\nextern int __VERIFIER_nondet_int();\\nvoid __VERIFIER_assert(int cond) {\\n  if (!(cond)) {\\n    ERROR: __VERIFIER_error();;\\n  }\\n  return;\\n}\\n\\nmain()\\n{\\n  int x1,x2,x3;\\n  int x1p,x2p,x3p, input;\\n\\n  x1 = x2 = x3 = 0;\\n  input = __VERIFIER_nondet_int();\\n  while(input)\\n  {\\n    x1p = __VERIFIER_nondet_int();\\n    x2p = __VERIFIER_nondet_int();\\n    x3p = __VERIFIER_nondet_int();\\n\\n    if (x1p <= x2p && (x2p >= 0 || x2p - x3p <= 2))\\n    {\\n\\tx1 = x1p;\\n\\tx2 = x2p;\\n\\tx3 = x3p;\\n    }\\n    input = __VERIFIER_nondet_int();\\n  }\\n  __VERIFIER_assert(x1 <= x2 && (x2 >= 0 || x2 - x3 <= 2));    \\n}\\n\\n'\n",
      "=========================================================\n",
      "=========================================================\n",
      "{\n",
      "  int x1,x2,x3;\n",
      "  int x1p,x2p,x3p, input;\n",
      "\n",
      "  x1 = x2 = x3 = 0;\n",
      "  input = __VERIFIER_nondet_int();\n",
      "  while(input)\n",
      "  {\n",
      "    x1p = __VERIFIER_nondet_int();\n",
      "    x2p = __VERIFIER_nondet_int();\n",
      "    x3p = __VERIFIER_nondet_int();\n",
      "\n",
      "    if (x1p <= x2p && (x2p >= 0 || x2p - x3p <= 2))\n",
      "    {\n",
      "\tx1 = x1p;\n",
      "\tx2 = x2p;\n",
      "\tx3 = x3p;\n",
      "    }\n",
      "    input = __VERIFIER_nondet_int();\n",
      "  }\n",
      "  __VERIFIER_assert(x1 <= x2 && (x2 >= 0 || x2 - x3 <= 2));    \n",
      "}\n",
      "(compound_statement (declaration type: (primitive_type) declarator: (identifier) declarator: (identifier) declarator: (identifier)) (declaration type: (primitive_type) declarator: (identifier) declarator: (identifier) declarator: (identifier) declarator: (identifier)) (expression_statement (assignment_expression left: (identifier) right: (assignment_expression left: (identifier) right: (assignment_expression left: (identifier) right: (number_literal))))) (expression_statement (assignment_expression left: (identifier) right: (call_expression function: (identifier) arguments: (argument_list)))) (while_statement condition: (parenthesized_expression (identifier)) body: (compound_statement (expression_statement (assignment_expression left: (identifier) right: (call_expression function: (identifier) arguments: (argument_list)))) (expression_statement (assignment_expression left: (identifier) right: (call_expression function: (identifier) arguments: (argument_list)))) (expression_statement (assignment_expression left: (identifier) right: (call_expression function: (identifier) arguments: (argument_list)))) (if_statement condition: (parenthesized_expression (binary_expression left: (binary_expression left: (identifier) right: (identifier)) right: (parenthesized_expression (binary_expression left: (binary_expression left: (identifier) right: (number_literal)) right: (binary_expression left: (binary_expression left: (identifier) right: (identifier)) right: (number_literal)))))) consequence: (compound_statement (expression_statement (assignment_expression left: (identifier) right: (identifier))) (expression_statement (assignment_expression left: (identifier) right: (identifier))) (expression_statement (assignment_expression left: (identifier) right: (identifier))))) (expression_statement (assignment_expression left: (identifier) right: (call_expression function: (identifier) arguments: (argument_list)))))) (expression_statement (call_expression function: (identifier) arguments: (argument_list (binary_expression left: (binary_expression left: (identifier) right: (identifier)) right: (parenthesized_expression (binary_expression left: (binary_expression left: (identifier) right: (number_literal)) right: (binary_expression left: (binary_expression left: (identifier) right: (identifier)) right: (number_literal)))))))))\n",
      "b'extern void __VERIFIER_error() __attribute__ ((__noreturn__));\\nextern int __VERIFIER_nondet_int();\\nvoid __VERIFIER_assert(int cond) {\\n  if (!(cond)) {\\n    ERROR: __VERIFIER_error();;\\n  }\\n  return;\\n}\\n\\nmain()\\n{\\n  int x1,x2,x3;\\n  int x1p,x2p,x3p, input;\\n\\n  x1 = x2 = x3 = 0;\\n  input = __VERIFIER_nondet_int();\\n  while(input)\\n  {\\n    x1p = __VERIFIER_nondet_int();\\n    x2p = __VERIFIER_nondet_int();\\n    x3p = __VERIFIER_nondet_int();\\n\\n    if (x1p <= x2p && (x2p >= 0 || x2p - x3p <= 2))\\n    {\\n\\tx1 = x1p;\\n\\tx2 = x2p;\\n\\tx3 = x3p;\\n    }\\n    input = __VERIFIER_nondet_int();\\n  }\\n  __VERIFIER_assert(x1 <= x2 && (x2 >= 0 || x2 - x3 <= 2));    \\n}\\n\\n'\n",
      "=========================================================\n",
      "=========================================================\n",
      "{\n",
      "  int x1,x2,x3;\n",
      "  int x1p,x2p,x3p, input;\n",
      "\n",
      "  x1 = x2 = x3 = 0;\n",
      "  input = __VERIFIER_nondet_int();\n",
      "  while(input)\n",
      "  {\n",
      "    x1p = __VERIFIER_nondet_int();\n",
      "    x2p = __VERIFIER_nondet_int();\n",
      "    x3p = __VERIFIER_nondet_int();\n",
      "\n",
      "    if (x1p <= x2p && (x2p >= 0 || x2p - x3p <= 2))\n",
      "    {\n",
      "\tx1 = x1p;\n",
      "\tx2 = x2p;\n",
      "\tx3 = x3p;\n",
      "    }\n",
      "    input = __VERIFIER_nondet_int();\n",
      "  }\n",
      "  __VERIFIER_assert(x1 <= x2 && (x2 >= 0 || x2 - x3 <= 2));    \n",
      "}\n",
      "(compound_statement (declaration type: (primitive_type) declarator: (identifier) declarator: (identifier) declarator: (identifier)) (declaration type: (primitive_type) declarator: (identifier) declarator: (identifier) declarator: (identifier) declarator: (identifier)) (expression_statement (assignment_expression left: (identifier) right: (assignment_expression left: (identifier) right: (assignment_expression left: (identifier) right: (number_literal))))) (expression_statement (assignment_expression left: (identifier) right: (call_expression function: (identifier) arguments: (argument_list)))) (while_statement condition: (parenthesized_expression (identifier)) body: (compound_statement (expression_statement (assignment_expression left: (identifier) right: (call_expression function: (identifier) arguments: (argument_list)))) (expression_statement (assignment_expression left: (identifier) right: (call_expression function: (identifier) arguments: (argument_list)))) (expression_statement (assignment_expression left: (identifier) right: (call_expression function: (identifier) arguments: (argument_list)))) (if_statement condition: (parenthesized_expression (binary_expression left: (binary_expression left: (identifier) right: (identifier)) right: (parenthesized_expression (binary_expression left: (binary_expression left: (identifier) right: (number_literal)) right: (binary_expression left: (binary_expression left: (identifier) right: (identifier)) right: (number_literal)))))) consequence: (compound_statement (expression_statement (assignment_expression left: (identifier) right: (identifier))) (expression_statement (assignment_expression left: (identifier) right: (identifier))) (expression_statement (assignment_expression left: (identifier) right: (identifier))))) (expression_statement (assignment_expression left: (identifier) right: (call_expression function: (identifier) arguments: (argument_list)))))) (expression_statement (call_expression function: (identifier) arguments: (argument_list (binary_expression left: (binary_expression left: (identifier) right: (identifier)) right: (parenthesized_expression (binary_expression left: (binary_expression left: (identifier) right: (number_literal)) right: (binary_expression left: (binary_expression left: (identifier) right: (identifier)) right: (number_literal)))))))))\n",
      "b'extern void __VERIFIER_error() __attribute__ ((__noreturn__));\\nextern int __VERIFIER_nondet_int();\\nvoid __VERIFIER_assert(int cond) {\\n  if (!(cond)) {\\n    ERROR: __VERIFIER_error();;\\n  }\\n  return;\\n}\\n\\nmain()\\n{\\n  int x1,x2,x3;\\n  int x1p,x2p,x3p, input;\\n\\n  x1 = x2 = x3 = 0;\\n  input = __VERIFIER_nondet_int();\\n  while(input)\\n  {\\n    x1p = __VERIFIER_nondet_int();\\n    x2p = __VERIFIER_nondet_int();\\n    x3p = __VERIFIER_nondet_int();\\n\\n    if (x1p <= x2p && (x2p >= 0 || x2p - x3p <= 2))\\n    {\\n\\tx1 = x1p;\\n\\tx2 = x2p;\\n\\tx3 = x3p;\\n    }\\n    input = __VERIFIER_nondet_int();\\n  }\\n  __VERIFIER_assert(x1 <= x2 && (x2 >= 0 || x2 - x3 <= 2));    \\n}\\n\\n'\n",
      "=========================================================\n",
      "=========================================================\n",
      "{\n",
      "  int x1,x2,x3;\n",
      "  int x1p,x2p,x3p, input;\n",
      "\n",
      "  x1 = x2 = x3 = 0;\n",
      "  input = __VERIFIER_nondet_int();\n",
      "  while(input)\n",
      "  {\n",
      "    x1p = __VERIFIER_nondet_int();\n",
      "    x2p = __VERIFIER_nondet_int();\n",
      "    x3p = __VERIFIER_nondet_int();\n",
      "\n",
      "    if (x1p <= x2p && (x2p >= 0 || x2p - x3p <= 2))\n",
      "    {\n",
      "\tx1 = x1p;\n",
      "\tx2 = x2p;\n",
      "\tx3 = x3p;\n",
      "    }\n",
      "    input = __VERIFIER_nondet_int();\n",
      "  }\n",
      "  __VERIFIER_assert(x1 <= x2 && (x2 >= 0 || x2 - x3 <= 2));    \n",
      "}\n",
      "(compound_statement (declaration type: (primitive_type) declarator: (identifier) declarator: (identifier) declarator: (identifier)) (declaration type: (primitive_type) declarator: (identifier) declarator: (identifier) declarator: (identifier) declarator: (identifier)) (expression_statement (assignment_expression left: (identifier) right: (assignment_expression left: (identifier) right: (assignment_expression left: (identifier) right: (number_literal))))) (expression_statement (assignment_expression left: (identifier) right: (call_expression function: (identifier) arguments: (argument_list)))) (while_statement condition: (parenthesized_expression (identifier)) body: (compound_statement (expression_statement (assignment_expression left: (identifier) right: (call_expression function: (identifier) arguments: (argument_list)))) (expression_statement (assignment_expression left: (identifier) right: (call_expression function: (identifier) arguments: (argument_list)))) (expression_statement (assignment_expression left: (identifier) right: (call_expression function: (identifier) arguments: (argument_list)))) (if_statement condition: (parenthesized_expression (binary_expression left: (binary_expression left: (identifier) right: (identifier)) right: (parenthesized_expression (binary_expression left: (binary_expression left: (identifier) right: (number_literal)) right: (binary_expression left: (binary_expression left: (identifier) right: (identifier)) right: (number_literal)))))) consequence: (compound_statement (expression_statement (assignment_expression left: (identifier) right: (identifier))) (expression_statement (assignment_expression left: (identifier) right: (identifier))) (expression_statement (assignment_expression left: (identifier) right: (identifier))))) (expression_statement (assignment_expression left: (identifier) right: (call_expression function: (identifier) arguments: (argument_list)))))) (expression_statement (call_expression function: (identifier) arguments: (argument_list (binary_expression left: (binary_expression left: (identifier) right: (identifier)) right: (parenthesized_expression (binary_expression left: (binary_expression left: (identifier) right: (number_literal)) right: (binary_expression left: (binary_expression left: (identifier) right: (identifier)) right: (number_literal)))))))))\n",
      "b'extern void __VERIFIER_error() __attribute__ ((__noreturn__));\\nextern int __VERIFIER_nondet_int();\\nvoid __VERIFIER_assert(int cond) {\\n  if (!(cond)) {\\n    ERROR: __VERIFIER_error();;\\n  }\\n  return;\\n}\\n\\nmain()\\n{\\n  int x1,x2,x3;\\n  int x1p,x2p,x3p, input;\\n\\n  x1 = x2 = x3 = 0;\\n  input = __VERIFIER_nondet_int();\\n  while(input)\\n  {\\n    x1p = __VERIFIER_nondet_int();\\n    x2p = __VERIFIER_nondet_int();\\n    x3p = __VERIFIER_nondet_int();\\n\\n    if (x1p <= x2p && (x2p >= 0 || x2p - x3p <= 2))\\n    {\\n\\tx1 = x1p;\\n\\tx2 = x2p;\\n\\tx3 = x3p;\\n    }\\n    input = __VERIFIER_nondet_int();\\n  }\\n  __VERIFIER_assert(x1 <= x2 && (x2 >= 0 || x2 - x3 <= 2));    \\n}\\n\\n'\n",
      "=========================================================\n",
      "=========================================================\n",
      "{\n",
      "  int x1,x2,x3;\n",
      "  int x1p,x2p,x3p, input;\n",
      "\n",
      "  x1 = x2 = x3 = 0;\n",
      "  input = __VERIFIER_nondet_int();\n",
      "  while(input)\n",
      "  {\n",
      "    x1p = __VERIFIER_nondet_int();\n",
      "    x2p = __VERIFIER_nondet_int();\n",
      "    x3p = __VERIFIER_nondet_int();\n",
      "\n",
      "    if (x1p <= x2p && (x2p >= 0 || x2p - x3p <= 2))\n",
      "    {\n",
      "\tx1 = x1p;\n",
      "\tx2 = x2p;\n",
      "\tx3 = x3p;\n",
      "    }\n",
      "    input = __VERIFIER_nondet_int();\n",
      "  }\n",
      "  __VERIFIER_assert(x1 <= x2 && (x2 >= 0 || x2 - x3 <= 2));    \n",
      "}\n",
      "(compound_statement (declaration type: (primitive_type) declarator: (identifier) declarator: (identifier) declarator: (identifier)) (declaration type: (primitive_type) declarator: (identifier) declarator: (identifier) declarator: (identifier) declarator: (identifier)) (expression_statement (assignment_expression left: (identifier) right: (assignment_expression left: (identifier) right: (assignment_expression left: (identifier) right: (number_literal))))) (expression_statement (assignment_expression left: (identifier) right: (call_expression function: (identifier) arguments: (argument_list)))) (while_statement condition: (parenthesized_expression (identifier)) body: (compound_statement (expression_statement (assignment_expression left: (identifier) right: (call_expression function: (identifier) arguments: (argument_list)))) (expression_statement (assignment_expression left: (identifier) right: (call_expression function: (identifier) arguments: (argument_list)))) (expression_statement (assignment_expression left: (identifier) right: (call_expression function: (identifier) arguments: (argument_list)))) (if_statement condition: (parenthesized_expression (binary_expression left: (binary_expression left: (identifier) right: (identifier)) right: (parenthesized_expression (binary_expression left: (binary_expression left: (identifier) right: (number_literal)) right: (binary_expression left: (binary_expression left: (identifier) right: (identifier)) right: (number_literal)))))) consequence: (compound_statement (expression_statement (assignment_expression left: (identifier) right: (identifier))) (expression_statement (assignment_expression left: (identifier) right: (identifier))) (expression_statement (assignment_expression left: (identifier) right: (identifier))))) (expression_statement (assignment_expression left: (identifier) right: (call_expression function: (identifier) arguments: (argument_list)))))) (expression_statement (call_expression function: (identifier) arguments: (argument_list (binary_expression left: (binary_expression left: (identifier) right: (identifier)) right: (parenthesized_expression (binary_expression left: (binary_expression left: (identifier) right: (number_literal)) right: (binary_expression left: (binary_expression left: (identifier) right: (identifier)) right: (number_literal)))))))))\n",
      "b'extern void __VERIFIER_error() __attribute__ ((__noreturn__));\\nextern int __VERIFIER_nondet_int();\\nvoid __VERIFIER_assert(int cond) {\\n  if (!(cond)) {\\n    ERROR: __VERIFIER_error();;\\n  }\\n  return;\\n}\\n\\nmain()\\n{\\n  int x1,x2,x3;\\n  int x1p,x2p,x3p, input;\\n\\n  x1 = x2 = x3 = 0;\\n  input = __VERIFIER_nondet_int();\\n  while(input)\\n  {\\n    x1p = __VERIFIER_nondet_int();\\n    x2p = __VERIFIER_nondet_int();\\n    x3p = __VERIFIER_nondet_int();\\n\\n    if (x1p <= x2p && (x2p >= 0 || x2p - x3p <= 2))\\n    {\\n\\tx1 = x1p;\\n\\tx2 = x2p;\\n\\tx3 = x3p;\\n    }\\n    input = __VERIFIER_nondet_int();\\n  }\\n  __VERIFIER_assert(x1 <= x2 && (x2 >= 0 || x2 - x3 <= 2));    \\n}\\n\\n'\n",
      "=========================================================\n",
      "=========================================================\n",
      "{\n",
      "  int x1,x2,x3;\n",
      "  int x1p,x2p,x3p, input;\n",
      "\n",
      "  x1 = x2 = x3 = 0;\n",
      "  input = __VERIFIER_nondet_int();\n",
      "  while(input)\n",
      "  {\n",
      "    x1p = __VERIFIER_nondet_int();\n",
      "    x2p = __VERIFIER_nondet_int();\n",
      "    x3p = __VERIFIER_nondet_int();\n",
      "\n",
      "    if (x1p <= x2p && (x2p >= 0 || x2p - x3p <= 2))\n",
      "    {\n",
      "\tx1 = x1p;\n",
      "\tx2 = x2p;\n",
      "\tx3 = x3p;\n",
      "    }\n",
      "    input = __VERIFIER_nondet_int();\n",
      "  }\n",
      "  __VERIFIER_assert(x1 <= x2 && (x2 >= 0 || x2 - x3 <= 2));    \n",
      "}\n",
      "(compound_statement (declaration type: (primitive_type) declarator: (identifier) declarator: (identifier) declarator: (identifier)) (declaration type: (primitive_type) declarator: (identifier) declarator: (identifier) declarator: (identifier) declarator: (identifier)) (expression_statement (assignment_expression left: (identifier) right: (assignment_expression left: (identifier) right: (assignment_expression left: (identifier) right: (number_literal))))) (expression_statement (assignment_expression left: (identifier) right: (call_expression function: (identifier) arguments: (argument_list)))) (while_statement condition: (parenthesized_expression (identifier)) body: (compound_statement (expression_statement (assignment_expression left: (identifier) right: (call_expression function: (identifier) arguments: (argument_list)))) (expression_statement (assignment_expression left: (identifier) right: (call_expression function: (identifier) arguments: (argument_list)))) (expression_statement (assignment_expression left: (identifier) right: (call_expression function: (identifier) arguments: (argument_list)))) (if_statement condition: (parenthesized_expression (binary_expression left: (binary_expression left: (identifier) right: (identifier)) right: (parenthesized_expression (binary_expression left: (binary_expression left: (identifier) right: (number_literal)) right: (binary_expression left: (binary_expression left: (identifier) right: (identifier)) right: (number_literal)))))) consequence: (compound_statement (expression_statement (assignment_expression left: (identifier) right: (identifier))) (expression_statement (assignment_expression left: (identifier) right: (identifier))) (expression_statement (assignment_expression left: (identifier) right: (identifier))))) (expression_statement (assignment_expression left: (identifier) right: (call_expression function: (identifier) arguments: (argument_list)))))) (expression_statement (call_expression function: (identifier) arguments: (argument_list (binary_expression left: (binary_expression left: (identifier) right: (identifier)) right: (parenthesized_expression (binary_expression left: (binary_expression left: (identifier) right: (number_literal)) right: (binary_expression left: (binary_expression left: (identifier) right: (identifier)) right: (number_literal)))))))))\n",
      "b'extern void __VERIFIER_error() __attribute__ ((__noreturn__));\\nextern int __VERIFIER_nondet_int();\\nvoid __VERIFIER_assert(int cond) {\\n  if (!(cond)) {\\n    ERROR: __VERIFIER_error();;\\n  }\\n  return;\\n}\\n\\nmain()\\n{\\n  int x1,x2,x3;\\n  int x1p,x2p,x3p, input;\\n\\n  x1 = x2 = x3 = 0;\\n  input = __VERIFIER_nondet_int();\\n  while(input)\\n  {\\n    x1p = __VERIFIER_nondet_int();\\n    x2p = __VERIFIER_nondet_int();\\n    x3p = __VERIFIER_nondet_int();\\n\\n    if (x1p <= x2p && (x2p >= 0 || x2p - x3p <= 2))\\n    {\\n\\tx1 = x1p;\\n\\tx2 = x2p;\\n\\tx3 = x3p;\\n    }\\n    input = __VERIFIER_nondet_int();\\n  }\\n  __VERIFIER_assert(x1 <= x2 && (x2 >= 0 || x2 - x3 <= 2));    \\n}\\n\\n'\n",
      "=========================================================\n",
      "=========================================================\n",
      "x1\n",
      "(identifier)\n",
      "b'int x1,x2,x3;'\n",
      "=========================================================\n",
      "=========================================================\n",
      "x2\n",
      "(identifier)\n",
      "b'int x1,x2,x3;'\n",
      "=========================================================\n",
      "=========================================================\n",
      "x3\n",
      "(identifier)\n",
      "b'int x1,x2,x3;'\n",
      "=========================================================\n",
      "=========================================================\n",
      "x1p\n",
      "(identifier)\n",
      "b'int x1p,x2p,x3p, input;'\n",
      "=========================================================\n",
      "=========================================================\n",
      "x2p\n",
      "(identifier)\n",
      "b'int x1p,x2p,x3p, input;'\n",
      "=========================================================\n",
      "=========================================================\n",
      "x3p\n",
      "(identifier)\n",
      "b'int x1p,x2p,x3p, input;'\n",
      "=========================================================\n",
      "=========================================================\n",
      "input\n",
      "(identifier)\n",
      "b'int x1p,x2p,x3p, input;'\n",
      "=========================================================\n"
     ]
    }
   ],
   "source": [
    "query = language.query(\"\"\"(((compound_statement (declaration ((identifier) @name))) @function))\"\"\")\n",
    "fs = query.captures(ast.root_node)\n",
    "for f in fs:\n",
    "    print(\"=========================================================\")\n",
    "    print(f[0].text.decode('utf-8'))\n",
    "    print(f[0].sexp())\n",
    "    print(f[0].parent.text)\n",
    "    print(\"=========================================================\")"
   ]
  },
  {
   "cell_type": "code",
   "execution_count": 104,
   "metadata": {},
   "outputs": [
    {
     "data": {
      "text/plain": [
       "[(<Node type=function_definition, start_point=(0, 0), end_point=(5, 1)>,\n",
       "  'function')]"
      ]
     },
     "execution_count": 104,
     "metadata": {},
     "output_type": "execute_result"
    }
   ],
   "source": [
    "query = language.query(\"\"\"(function_definition) @function\"\"\")\n",
    "fs = query.captures(ast.root_node)\n",
    "fs"
   ]
  },
  {
   "cell_type": "code",
   "execution_count": 100,
   "metadata": {},
   "outputs": [],
   "source": [
    "q1 = language.query(\"\"\"(function_declarator (identifier) @name)\"\"\").captures(fs[0][0])"
   ]
  },
  {
   "cell_type": "code",
   "execution_count": 95,
   "metadata": {},
   "outputs": [],
   "source": [
    "q2 = language.query(\"\"\"((identifier) @name (#not-match? @name \"(__VERIFIER_.+|unknown\\d)\"))\"\"\").captures(q1[0][0])"
   ]
  },
  {
   "cell_type": "code",
   "execution_count": 99,
   "metadata": {},
   "outputs": [
    {
     "data": {
      "text/plain": [
       "'(function_definition type: (primitive_type) declarator: (function_declarator declarator: (identifier) parameters: (parameter_list)) body: (compound_statement (declaration type: (primitive_type) declarator: (identifier)) (return_statement (identifier))))'"
      ]
     },
     "execution_count": 99,
     "metadata": {},
     "output_type": "execute_result"
    }
   ],
   "source": []
  },
  {
   "cell_type": "code",
   "execution_count": null,
   "metadata": {},
   "outputs": [
    {
     "name": "stdout",
     "output_type": "stream",
     "text": [
      "(function_definition type: (primitive_type) declarator: (function_declarator declarator: (identifier) parameters: (parameter_list)) body: (compound_statement (declaration type: (primitive_type) declarator: (identifier)) (return_statement (identifier))))\n",
      "(0, 4) (0, 12) b'unknown1'\n",
      "(function_definition type: (primitive_type) declarator: (function_declarator declarator: (identifier) parameters: (parameter_list)) body: (compound_statement (declaration type: (primitive_type) declarator: (init_declarator declarator: (identifier) value: (call_expression function: (identifier) arguments: (argument_list)))) (declaration type: (primitive_type) declarator: (init_declarator declarator: (identifier) value: (number_literal))) (declaration type: (primitive_type) declarator: (init_declarator declarator: (identifier) value: (number_literal))) (declaration type: (primitive_type) declarator: (init_declarator declarator: (identifier) value: (number_literal))) (declaration type: (primitive_type) declarator: (init_declarator declarator: (identifier) value: (number_literal))) (while_statement condition: (parenthesized_expression (call_expression function: (identifier) arguments: (argument_list))) body: (compound_statement (expression_statement (update_expression argument: (identifier))) (expression_statement (update_expression argument: (identifier))) (expression_statement (assignment_expression left: (identifier) right: (identifier))) (expression_statement (assignment_expression left: (identifier) right: (identifier))) (if_statement condition: (parenthesized_expression (identifier)) consequence: (expression_statement (assignment_expression left: (identifier) right: (number_literal)))) (expression_statement (assignment_expression left: (identifier) right: (identifier))))) (if_statement condition: (parenthesized_expression (binary_expression left: (identifier) right: (binary_expression left: (identifier) right: (number_literal)))) consequence: (compound_statement (goto_statement label: (statement_identifier)) (labeled_statement label: (statement_identifier) (expression_statement))))))\n",
      "(8, 5) (8, 9) b'main'\n"
     ]
    },
    {
     "name": "stdout",
     "output_type": "stream",
     "text": [
      "(function_definition type: (primitive_type) declarator: (function_declarator declarator: (identifier) parameters: (parameter_list)) body: (compound_statement (declaration type: (primitive_type) declarator: (identifier)) (return_statement (identifier))))\n",
      "(0, 4) (0, 12) b'unknown1'\n",
      "(function_definition type: (primitive_type) declarator: (function_declarator declarator: (identifier) parameters: (parameter_list)) body: (compound_statement (declaration type: (primitive_type) declarator: (init_declarator declarator: (identifier) value: (call_expression function: (identifier) arguments: (argument_list)))) (declaration type: (primitive_type) declarator: (init_declarator declarator: (identifier) value: (number_literal))) (declaration type: (primitive_type) declarator: (init_declarator declarator: (identifier) value: (number_literal))) (declaration type: (primitive_type) declarator: (init_declarator declarator: (identifier) value: (number_literal))) (declaration type: (primitive_type) declarator: (init_declarator declarator: (identifier) value: (number_literal))) (while_statement condition: (parenthesized_expression (call_expression function: (identifier) arguments: (argument_list))) body: (compound_statement (expression_statement (update_expression argument: (identifier))) (expression_statement (update_expression argument: (identifier))) (expression_statement (assignment_expression left: (identifier) right: (identifier))) (expression_statement (assignment_expression left: (identifier) right: (identifier))) (if_statement condition: (parenthesized_expression (identifier)) consequence: (expression_statement (assignment_expression left: (identifier) right: (number_literal)))) (expression_statement (assignment_expression left: (identifier) right: (identifier))))) (if_statement condition: (parenthesized_expression (binary_expression left: (identifier) right: (binary_expression left: (identifier) right: (number_literal)))) consequence: (compound_statement (goto_statement label: (statement_identifier)) (labeled_statement label: (statement_identifier) (expression_statement))))))\n",
      "(8, 5) (8, 9) b'main'\n"
     ]
    }
   ],
   "source": [
    "for node in fs:\n",
    "    q = language.query(\"\"\"(_ ((function_declarator (identifier) @name)) (#not-match? @name \"(__VERIFIER_.+|unknown\\d)\"))\"\"\").captures(node[0])\n",
    "    if len(q) > 0:\n",
    "        print(node[0].sexp())\n",
    "        print(q[0][0].start_point, q[0][0].end_point, q[0][0].text)"
   ]
  },
  {
   "cell_type": "code",
   "execution_count": 39,
   "metadata": {},
   "outputs": [
    {
     "data": {
      "text/plain": [
       "'(translation_unit (function_definition type: (primitive_type) declarator: (function_declarator declarator: (identifier) parameters: (parameter_list)) body: (compound_statement (declaration type: (primitive_type) declarator: (identifier)) (return_statement (identifier)))) (declaration type: (primitive_type) declarator: (function_declarator declarator: (identifier) parameters: (parameter_list))) (declaration type: (primitive_type) declarator: (function_declarator declarator: (identifier) parameters: (parameter_list))) (declaration type: (primitive_type) declarator: (function_declarator declarator: (identifier) parameters: (parameter_list))) (function_definition type: (primitive_type) declarator: (function_declarator declarator: (identifier) parameters: (parameter_list)) body: (compound_statement (declaration type: (primitive_type) declarator: (init_declarator declarator: (identifier) value: (call_expression function: (identifier) arguments: (argument_list)))) (declaration type: (primitive_type) declarator: (init_declarator declarator: (identifier) value: (number_literal))) (declaration type: (primitive_type) declarator: (init_declarator declarator: (identifier) value: (number_literal))) (declaration type: (primitive_type) declarator: (init_declarator declarator: (identifier) value: (number_literal))) (declaration type: (primitive_type) declarator: (init_declarator declarator: (identifier) value: (number_literal))) (while_statement condition: (parenthesized_expression (call_expression function: (identifier) arguments: (argument_list))) body: (compound_statement (expression_statement (update_expression argument: (identifier))) (expression_statement (update_expression argument: (identifier))) (expression_statement (assignment_expression left: (identifier) right: (identifier))) (expression_statement (assignment_expression left: (identifier) right: (identifier))) (if_statement condition: (parenthesized_expression (identifier)) consequence: (expression_statement (assignment_expression left: (identifier) right: (number_literal)))) (expression_statement (assignment_expression left: (identifier) right: (identifier))))) (if_statement condition: (parenthesized_expression (binary_expression left: (identifier) right: (binary_expression left: (identifier) right: (number_literal)))) consequence: (compound_statement (goto_statement label: (statement_identifier)) (labeled_statement label: (statement_identifier) (expression_statement)))))))'"
      ]
     },
     "execution_count": 39,
     "metadata": {},
     "output_type": "execute_result"
    }
   ],
   "source": [
    "\n",
    "ast.root_node.sexp()"
   ]
  }
 ],
 "metadata": {
  "kernelspec": {
   "display_name": "Python 3",
   "language": "python",
   "name": "python3"
  },
  "language_info": {
   "codemirror_mode": {
    "name": "ipython",
    "version": 3
   },
   "file_extension": ".py",
   "mimetype": "text/x-python",
   "name": "python",
   "nbconvert_exporter": "python",
   "pygments_lexer": "ipython3",
   "version": "3.11.0"
  },
  "orig_nbformat": 4
 },
 "nbformat": 4,
 "nbformat_minor": 2
}
