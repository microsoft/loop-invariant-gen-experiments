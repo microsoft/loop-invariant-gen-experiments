{
 "cells": [
  {
   "cell_type": "code",
   "execution_count": 1,
   "metadata": {},
   "outputs": [],
   "source": [
    "import json\n",
    "import os\n",
    "import shutil"
   ]
  },
  {
   "cell_type": "code",
   "execution_count": 2,
   "metadata": {},
   "outputs": [],
   "source": [
    "svcomp_results = open(\"svcomp_uautomizer_reachsafety_neat.json\", \"r\")\n",
    "svcomp_results_json = json.load(svcomp_results)\n",
    "svcomp_results.close()"
   ]
  },
  {
   "cell_type": "code",
   "execution_count": 3,
   "metadata": {},
   "outputs": [],
   "source": [
    "svcomp_benchmarks = svcomp_results_json[\"rows\"]"
   ]
  },
  {
   "cell_type": "code",
   "execution_count": 56,
   "metadata": {},
   "outputs": [],
   "source": [
    "svcomp_benchmarks_dict = []\n",
    "for benchmark in svcomp_benchmarks:\n",
    "    if (\n",
    "        benchmark[\"id\"][1] == \"true\"\n",
    "        and benchmark[\"results\"][0][\"values\"][0][\"raw\"] != \"true\"\n",
    "    ):\n",
    "        svcomp_benchmarks_dict.append(benchmark[\"href\"])"
   ]
  },
  {
   "cell_type": "code",
   "execution_count": 57,
   "metadata": {},
   "outputs": [
    {
     "data": {
      "text/plain": [
       "2211"
      ]
     },
     "execution_count": 57,
     "metadata": {},
     "output_type": "execute_result"
    }
   ],
   "source": [
    "len(svcomp_benchmarks_dict)"
   ]
  },
  {
   "cell_type": "code",
   "execution_count": 8,
   "metadata": {},
   "outputs": [],
   "source": [
    "svcomp_benchmarks_dict = [\"../\" + file[:-4] + \".c\" for file in svcomp_benchmarks_dict]"
   ]
  },
  {
   "cell_type": "code",
   "execution_count": 11,
   "metadata": {},
   "outputs": [],
   "source": [
    "with open(\"../experiments/svcomp_files.txt\", \"w\") as f:\n",
    "    for file in svcomp_benchmarks_dict:\n",
    "        f.write(file + \"\\n\")"
   ]
  },
  {
   "cell_type": "code",
   "execution_count": 31,
   "metadata": {},
   "outputs": [],
   "source": [
    "svcomp_uautomizer_categories = {}\n",
    "for benchmark in svcomp_benchmarks_dict:\n",
    "    svcomp_uautomizer_categories[benchmark[\"results\"][0][\"values\"][0][\"raw\"]] = True"
   ]
  },
  {
   "cell_type": "code",
   "execution_count": 32,
   "metadata": {},
   "outputs": [],
   "source": [
    "svcomp_failure_files = []\n",
    "for benchmark in svcomp_benchmarks_dict:\n",
    "    svcomp_failure_files.append(benchmark[\"href\"])"
   ]
  },
  {
   "cell_type": "code",
   "execution_count": 33,
   "metadata": {},
   "outputs": [],
   "source": [
    "svcomp_failure_files = [\"../\" + file for file in svcomp_failure_files]"
   ]
  },
  {
   "cell_type": "code",
   "execution_count": 34,
   "metadata": {},
   "outputs": [],
   "source": [
    "svcomp_failure_files = [file[:-4] + \".c\" for file in svcomp_failure_files]"
   ]
  },
  {
   "cell_type": "code",
   "execution_count": 35,
   "metadata": {},
   "outputs": [],
   "source": [
    "with open(\"svcomp_reachsafety_files.txt\", \"w\") as f:\n",
    "    for file in svcomp_failure_files:\n",
    "        f.write(file + \"\\n\")"
   ]
  },
  {
   "cell_type": "code",
   "execution_count": 36,
   "metadata": {},
   "outputs": [],
   "source": [
    "t_file = open(\"../experiments/svcomp_reachsafety_filtered.txt\", \"r\")\n",
    "files = t_file.read().split(\"\\n\")\n",
    "t_file.close()"
   ]
  },
  {
   "cell_type": "code",
   "execution_count": 44,
   "metadata": {},
   "outputs": [],
   "source": [
    "new_files = []"
   ]
  },
  {
   "cell_type": "code",
   "execution_count": 45,
   "metadata": {},
   "outputs": [],
   "source": [
    "for file in files:\n",
    "    new_file_folder = \"../data/benchmarks/\" + file[6:]\n",
    "    new_file_folder = new_file_folder.replace(\"/c/\", \"/new-categories/\")\n",
    "    new_file_loc = new_file_folder.split(\"/\")[-1]\n",
    "    new_file_folder = \"/\".join(new_file_folder.split(\"/\")[:-1])\n",
    "    if not os.path.exists(new_file_folder):\n",
    "        os.makedirs(new_file_folder)\n",
    "    # shutil.copy(file, new_file_folder + \"/\" + new_file_loc)\n",
    "    new_files.append(new_file_folder + \"/\" + new_file_loc)"
   ]
  },
  {
   "cell_type": "code",
   "execution_count": 48,
   "metadata": {},
   "outputs": [],
   "source": [
    "with open(\"../experiments/svcomp_reachsafety_filtered.txt\", \"w\") as f:\n",
    "    files = \"\\n\".join(new_files)\n",
    "    f.write(files)"
   ]
  },
  {
   "cell_type": "code",
   "execution_count": 2,
   "metadata": {},
   "outputs": [],
   "source": [
    "import json"
   ]
  },
  {
   "cell_type": "code",
   "execution_count": 17,
   "metadata": {},
   "outputs": [],
   "source": [
    "svcomp_features = json.load(open(\"svcomp_features.json\", \"r\"))"
   ]
  },
  {
   "cell_type": "code",
   "execution_count": null,
   "metadata": {},
   "outputs": [],
   "source": [
    "valid_files = []\n",
    "\n",
    "for file in svcomp_features:\n",
    "    if svcomp_features[file][\"category\"] == \"reachability\":\n",
    "        valid_files.append(file)"
   ]
  },
  {
   "cell_type": "code",
   "execution_count": 5,
   "metadata": {},
   "outputs": [],
   "source": [
    "all_svcomp_files = json.load(open(\"../../../svcomp_reachability_features.json\", \"r\"))"
   ]
  },
  {
   "cell_type": "code",
   "execution_count": 10,
   "metadata": {},
   "outputs": [],
   "source": [
    "svcomp_termination_files = json.load(open(\"svcomp_termination_neat.json\", \"r\"))\n",
    "\n",
    "term_targets = {}\n",
    "\n",
    "for file in svcomp_termination_files[\"rows\"]:\n",
    "    num_success = [\n",
    "        tool[\"values\"][0][\"raw\"] == \"true\" for tool in file[\"results\"]\n",
    "    ].count(True)\n",
    "    term_targets[\"../\" + file[\"href\"][:-4] + \".c\"] = num_success"
   ]
  },
  {
   "cell_type": "code",
   "execution_count": 6,
   "metadata": {},
   "outputs": [],
   "source": [
    "targets = {}\n",
    "\n",
    "for file in all_svcomp_files[\"rows\"]:\n",
    "    num_success = [\n",
    "        tool[\"values\"][0][\"raw\"] == \"true\" for tool in file[\"results\"]\n",
    "    ].count(True)\n",
    "    targets[\"../\" + file[\"href\"][:-4] + \".c\"] = num_success"
   ]
  },
  {
   "cell_type": "code",
   "execution_count": 20,
   "metadata": {},
   "outputs": [],
   "source": [
    "with open(\"number_of_tools_solving_svcomp.json\", \"w\") as f:\n",
    "    json.dump(targets, f, indent=4, ensure_ascii=False)"
   ]
  },
  {
   "cell_type": "code",
   "execution_count": 11,
   "metadata": {},
   "outputs": [],
   "source": [
    "with open(\"number_of_tools_solving_svcomp_termination.json\", \"w\") as f:\n",
    "    json.dump(term_targets, f, indent=4, ensure_ascii=False)"
   ]
  },
  {
   "cell_type": "code",
   "execution_count": 9,
   "metadata": {},
   "outputs": [],
   "source": [
    "tool_names = [x[0] for x in all_svcomp_files[\"head\"][\"tool\"][\"content\"]]"
   ]
  },
  {
   "cell_type": "code",
   "execution_count": 12,
   "metadata": {},
   "outputs": [],
   "source": [
    "num_tools = len(tool_names)"
   ]
  },
  {
   "cell_type": "code",
   "execution_count": 69,
   "metadata": {},
   "outputs": [],
   "source": [
    "final_json = []\n",
    "for row in all_svcomp_files[\"rows\"]:\n",
    "    benchmark_json = {\n",
    "        \"file\": row[\"id\"][0],\n",
    "        \"groundtruth\": row[\"id\"][1],\n",
    "        \"tool_results\": [],\n",
    "    }\n",
    "    for tool in row[\"results\"]:\n",
    "        tool_json = {\"tool\": tool[\"href\"], \"result\": tool[\"values\"][0][\"raw\"]}\n",
    "        benchmark_json[\"tool_results\"].append(tool_json)\n",
    "    final_json.append(benchmark_json)"
   ]
  },
  {
   "cell_type": "code",
   "execution_count": 70,
   "metadata": {},
   "outputs": [],
   "source": [
    "with open(\"svcomp_all_tools.json\", \"w\") as f:\n",
    "    json.dump(final_json, f, indent=4)"
   ]
  },
  {
   "cell_type": "code",
   "execution_count": 35,
   "metadata": {},
   "outputs": [],
   "source": [
    "def any(x):\n",
    "    for i in x:\n",
    "        if i:\n",
    "            return True\n",
    "    return False"
   ]
  },
  {
   "cell_type": "code",
   "execution_count": 73,
   "metadata": {},
   "outputs": [],
   "source": [
    "all_tools_failed_benchmarks = []\n",
    "ultimate_failed_benchmarks = []\n",
    "\n",
    "for benchmark in final_json:\n",
    "    if benchmark[\"groundtruth\"] == \"true\":\n",
    "        no_tool = all([x[\"result\"] != \"true\" for x in benchmark[\"tool_results\"]])\n",
    "        not_ultimate = False\n",
    "        for tool in benchmark[\"tool_results\"]:\n",
    "            if tool[\"tool\"].startswith(\"uautomizer\"):\n",
    "                not_ultimate = tool[\"result\"] != \"true\"\n",
    "        if no_tool:\n",
    "            all_tools_failed_benchmarks.append(benchmark[\"file\"])\n",
    "        if not_ultimate:\n",
    "            ultimate_failed_benchmarks.append(benchmark[\"file\"])"
   ]
  },
  {
   "cell_type": "code",
   "execution_count": 74,
   "metadata": {},
   "outputs": [
    {
     "data": {
      "text/plain": [
       "(2211, 623)"
      ]
     },
     "execution_count": 74,
     "metadata": {},
     "output_type": "execute_result"
    }
   ],
   "source": [
    "len(ultimate_failed_benchmarks), len(all_tools_failed_benchmarks)"
   ]
  },
  {
   "cell_type": "code",
   "execution_count": null,
   "metadata": {},
   "outputs": [],
   "source": []
  },
  {
   "cell_type": "code",
   "execution_count": 76,
   "metadata": {},
   "outputs": [],
   "source": [
    "ultimate_c = [\n",
    "    \"../../sv-benchmarks/c/\" + x[:-4] + \".c\" for x in ultimate_failed_benchmarks\n",
    "]\n",
    "with open(\"ultimate_failed_benchmarks.txt\", \"w\") as f:\n",
    "    f.write(\"\\n\".join(ultimate_c))"
   ]
  },
  {
   "cell_type": "code",
   "execution_count": 48,
   "metadata": {},
   "outputs": [
    {
     "data": {
      "text/plain": [
       "623"
      ]
     },
     "execution_count": 48,
     "metadata": {},
     "output_type": "execute_result"
    }
   ],
   "source": [
    "len(all_tools_failed_benchmarks)"
   ]
  },
  {
   "cell_type": "code",
   "execution_count": 75,
   "metadata": {},
   "outputs": [],
   "source": [
    "all_c = [\"../../sv-benchmarks/c/\" + x[:-4] + \".c\" for x in all_tools_failed_benchmarks]\n",
    "with open(\"all_tools_failed.txt\", \"w\") as f:\n",
    "    f.write(\"\\n\".join(all_c))"
   ]
  },
  {
   "cell_type": "code",
   "execution_count": 21,
   "metadata": {},
   "outputs": [],
   "source": [
    "all_json = json.load(open(\"all_svcomp_features.json\", \"r\"))"
   ]
  },
  {
   "cell_type": "code",
   "execution_count": 39,
   "metadata": {},
   "outputs": [],
   "source": [
    "positive_targets = []\n",
    "ultimate = 0\n",
    "\n",
    "for b in all_json:\n",
    "    if b[\"num_loops\"] == None:\n",
    "        continue\n",
    "    if (\n",
    "        (b[\"num_loops\"] > 1 or b[\"more_than_one_method\"])\n",
    "        and (not b[\"uses_arrays\"])\n",
    "        and (not b[\"uses_pointers\"])\n",
    "        and b[\"Ground Truth\"]\n",
    "        and b[\"num_lines\"] <= 500\n",
    "    ):\n",
    "        if b[\"Ultimate Automizer Fails\"]:\n",
    "            ultimate += 1\n",
    "        positive_targets.append((b[\"file\"], b[\"Number of Solvers\"]))"
   ]
  },
  {
   "cell_type": "code",
   "execution_count": 40,
   "metadata": {},
   "outputs": [
    {
     "data": {
      "text/plain": [
       "233"
      ]
     },
     "execution_count": 40,
     "metadata": {},
     "output_type": "execute_result"
    }
   ],
   "source": [
    "ultimate"
   ]
  },
  {
   "cell_type": "code",
   "execution_count": 41,
   "metadata": {},
   "outputs": [],
   "source": [
    "ftargets = []\n",
    "\n",
    "for b in positive_targets:\n",
    "    if b[1] >= 5:\n",
    "        ftargets.append(b[0])"
   ]
  },
  {
   "cell_type": "code",
   "execution_count": 43,
   "metadata": {},
   "outputs": [
    {
     "data": {
      "text/plain": [
       "360"
      ]
     },
     "execution_count": 43,
     "metadata": {},
     "output_type": "execute_result"
    }
   ],
   "source": [
    "len(ftargets)"
   ]
  },
  {
   "cell_type": "code",
   "execution_count": 44,
   "metadata": {},
   "outputs": [],
   "source": [
    "with open(\"at_least_5_tools.txt\", \"w\") as f:\n",
    "    f.write(\"\\n\".join(ftargets))"
   ]
  }
 ],
 "metadata": {
  "kernelspec": {
   "display_name": "Python 3",
   "language": "python",
   "name": "python3"
  },
  "language_info": {
   "codemirror_mode": {
    "name": "ipython",
    "version": 3
   },
   "file_extension": ".py",
   "mimetype": "text/x-python",
   "name": "python",
   "nbconvert_exporter": "python",
   "pygments_lexer": "ipython3",
   "version": "3.11.0"
  }
 },
 "nbformat": 4,
 "nbformat_minor": 2
}
