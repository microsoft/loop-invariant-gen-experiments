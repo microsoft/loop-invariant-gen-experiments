{
 "cells": [
  {
   "cell_type": "code",
   "execution_count": 1,
   "metadata": {},
   "outputs": [],
   "source": [
    "import json\n",
    "import os\n",
    "import shutil"
   ]
  },
  {
   "cell_type": "code",
   "execution_count": 53,
   "metadata": {},
   "outputs": [],
   "source": [
    "svcomp_results = open(\"svcomp_uautomizer_reachsafety_neat.json\", \"r\")\n",
    "svcomp_results_json = json.load(svcomp_results)\n",
    "svcomp_results.close()"
   ]
  },
  {
   "cell_type": "code",
   "execution_count": 54,
   "metadata": {},
   "outputs": [],
   "source": [
    "svcomp_benchmarks = svcomp_results_json[\"rows\"]"
   ]
  },
  {
   "cell_type": "code",
   "execution_count": 56,
   "metadata": {},
   "outputs": [],
   "source": [
    "svcomp_benchmarks_dict = []\n",
    "for benchmark in svcomp_benchmarks:\n",
    "    if benchmark[\"id\"][1] == 'true' and benchmark[\"results\"][0][\"values\"][0][\"raw\"] != \"true\":\n",
    "        svcomp_benchmarks_dict.append(benchmark[\"href\"])"
   ]
  },
  {
   "cell_type": "code",
   "execution_count": 57,
   "metadata": {},
   "outputs": [
    {
     "data": {
      "text/plain": [
       "2211"
      ]
     },
     "execution_count": 57,
     "metadata": {},
     "output_type": "execute_result"
    }
   ],
   "source": [
    "len(svcomp_benchmarks_dict)"
   ]
  },
  {
   "cell_type": "code",
   "execution_count": 8,
   "metadata": {},
   "outputs": [],
   "source": [
    "svcomp_benchmarks_dict = [\"../\" + file[:-4] + \".c\" for file in svcomp_benchmarks_dict]"
   ]
  },
  {
   "cell_type": "code",
   "execution_count": 11,
   "metadata": {},
   "outputs": [],
   "source": [
    "with open(\"../experiments/svcomp_files.txt\", \"w\") as f:\n",
    "    for file in svcomp_benchmarks_dict:\n",
    "        f.write(file + \"\\n\")"
   ]
  },
  {
   "cell_type": "code",
   "execution_count": 31,
   "metadata": {},
   "outputs": [],
   "source": [
    "svcomp_uautomizer_categories = {}\n",
    "for benchmark in svcomp_benchmarks_dict:\n",
    "    svcomp_uautomizer_categories[benchmark[\"results\"][0][\"values\"][0][\"raw\"]] = True"
   ]
  },
  {
   "cell_type": "code",
   "execution_count": 32,
   "metadata": {},
   "outputs": [],
   "source": [
    "svcomp_failure_files = []\n",
    "for benchmark in svcomp_benchmarks_dict:\n",
    "    svcomp_failure_files.append(benchmark[\"href\"])"
   ]
  },
  {
   "cell_type": "code",
   "execution_count": 33,
   "metadata": {},
   "outputs": [],
   "source": [
    "svcomp_failure_files = [\"../\" + file for file in svcomp_failure_files]"
   ]
  },
  {
   "cell_type": "code",
   "execution_count": 34,
   "metadata": {},
   "outputs": [],
   "source": [
    "svcomp_failure_files = [file[:-4] + \".c\" for file in svcomp_failure_files]"
   ]
  },
  {
   "cell_type": "code",
   "execution_count": 35,
   "metadata": {},
   "outputs": [],
   "source": [
    "with open(\"svcomp_reachsafety_files.txt\", \"w\") as f:\n",
    "    for file in svcomp_failure_files:\n",
    "        f.write(file + \"\\n\")"
   ]
  },
  {
   "cell_type": "code",
   "execution_count": 36,
   "metadata": {},
   "outputs": [],
   "source": [
    "t_file = open(\"../experiments/svcomp_reachsafety_filtered.txt\", \"r\")\n",
    "files = t_file.read().split(\"\\n\")\n",
    "t_file.close()"
   ]
  },
  {
   "cell_type": "code",
   "execution_count": 44,
   "metadata": {},
   "outputs": [],
   "source": [
    "new_files = []"
   ]
  },
  {
   "cell_type": "code",
   "execution_count": 45,
   "metadata": {},
   "outputs": [],
   "source": [
    "for file in files:\n",
    "    new_file_folder = \"../data/benchmarks/\" + file[6:]\n",
    "    new_file_folder = new_file_folder.replace(\"/c/\", \"/new-categories/\")\n",
    "    new_file_loc = new_file_folder.split(\"/\")[-1]\n",
    "    new_file_folder = \"/\".join(new_file_folder.split(\"/\")[:-1])\n",
    "    if not os.path.exists(new_file_folder):\n",
    "        os.makedirs(new_file_folder)\n",
    "    # shutil.copy(file, new_file_folder + \"/\" + new_file_loc)\n",
    "    new_files.append(new_file_folder + \"/\" + new_file_loc)"
   ]
  },
  {
   "cell_type": "code",
   "execution_count": 48,
   "metadata": {},
   "outputs": [],
   "source": [
    "with open(\"../experiments/svcomp_reachsafety_filtered.txt\", \"w\") as f:\n",
    "    files = \"\\n\".join(new_files)\n",
    "    f.write(files)"
   ]
  },
  {
   "cell_type": "code",
   "execution_count": 2,
   "metadata": {},
   "outputs": [],
   "source": [
    "import json"
   ]
  },
  {
   "cell_type": "code",
   "execution_count": 3,
   "metadata": {},
   "outputs": [],
   "source": [
    "all_svcomp_files = json.load(open(\"reachability_svcomp_neat.json\", \"r\"))"
   ]
  },
  {
   "cell_type": "code",
   "execution_count": 9,
   "metadata": {},
   "outputs": [],
   "source": [
    "tool_names = [x[0] for x in all_svcomp_files[\"head\"][\"tool\"][\"content\"]]"
   ]
  },
  {
   "cell_type": "code",
   "execution_count": 12,
   "metadata": {},
   "outputs": [],
   "source": [
    "num_tools = len(tool_names)"
   ]
  },
  {
   "cell_type": "code",
   "execution_count": 67,
   "metadata": {},
   "outputs": [
    {
     "data": {
      "text/plain": [
       "['2LS 0.9.6-svcomp23-8',\n",
       " 'Bubaak 0.9-dev',\n",
       " 'CBMC 5.70.0 (cbmc-5.70.0-121-g4f69955d00)',\n",
       " 'CoVeriTeam 1.0-dev',\n",
       " 'CPAchecker 2.2',\n",
       " 'Crux version: 0.5.0.99, crux-llvm-svcomp version: 0.5.0.99',\n",
       " 'DIVINE 4.4.2+a865ee1d0086',\n",
       " 'ESBMC version 7.0.0 64-bit x86_64 linux',\n",
       " 'Goblint tags/svcomp23-0-g4f5dcf38f',\n",
       " 'Graves-CPA 2.0.1-svn-a45b42da2f+',\n",
       " 'Graves-Par 1.0',\n",
       " 'Infer-SV sv-comp-22',\n",
       " 'Mopsa 1.0~pre2 (git branch:feature/sv-comp commit:9ed6357d commit-date:2022-11-23 09:19:00 +0100)',\n",
       " 'PeSCo 2.0+2.2.1-svn-1715bd67dc+',\n",
       " 'Pinaka 0.1',\n",
       " 'symbiotic 9.0.0-dev-b34dd3a1',\n",
       " 'Theta 4.2.2',\n",
       " 'ULTIMATE Automizer 0.2.2-2329fc70',\n",
       " 'ULTIMATE Kojak 0.2.2-2329fc70',\n",
       " 'ULTIMATE Taipan 0.2.2-2329fc70',\n",
       " 'VeriAbs 1.5.1-2',\n",
       " 'VeriAbsL 1.5.1-2',\n",
       " 'VeriFuzz 1.2.11']"
      ]
     },
     "execution_count": 67,
     "metadata": {},
     "output_type": "execute_result"
    }
   ],
   "source": [
    "tool_names"
   ]
  },
  {
   "cell_type": "code",
   "execution_count": 29,
   "metadata": {},
   "outputs": [
    {
     "data": {
      "text/plain": [
       "{'href': '../sv-benchmarks/c/array-examples/data_structures_set_multi_proc_ground-1.yml',\n",
       " 'id': ['array-examples/data_structures_set_multi_proc_ground-1.yml', 'false'],\n",
       " 'results': [{'category': 'unknown',\n",
       "   'href': '2ls.2022-12-07_21-07-29.logfiles/SV-COMP23_unreach-call.data_structures_set_multi_proc_ground-1.yml.log',\n",
       "   'score': 0,\n",
       "   'values': [{'raw': 'unknown'},\n",
       "    {'raw': '0'},\n",
       "    {'html': '.11&#x2007;', 'raw': '0.105009789'},\n",
       "    {'html': '4.9', 'raw': '4.947968'},\n",
       "    {'html': '.75', 'raw': '0.750488'}]},\n",
       "  {'category': 'error',\n",
       "   'href': 'bubaak.2022-12-07_21-54-06.logfiles/SV-COMP23_unreach-call.data_structures_set_multi_proc_ground-1.yml.log',\n",
       "   'score': 0,\n",
       "   'values': [{'raw': 'TIMEOUT (ERROR (ret None))'},\n",
       "    {'raw': '0'},\n",
       "    {'html': '900&#x2008;&#x2007;&#x2007;&#x2007;', 'raw': '901.208752767'},\n",
       "    {'html': '200', 'raw': '197.836800'},\n",
       "    {'html': '11000&#x2008;&#x2007;&#x2007;', 'raw': '10645.517761'}]},\n",
       "  {'category': 'error',\n",
       "   'href': 'cbmc.2022-12-07_21-39-45.logfiles/SV-COMP23_unreach-call.data_structures_set_multi_proc_ground-1.yml.log',\n",
       "   'score': 0,\n",
       "   'values': [{'raw': 'ERROR (42)'},\n",
       "    {'raw': '0'},\n",
       "    {'html': '880&#x2008;&#x2007;&#x2007;', 'raw': '875.752049712'},\n",
       "    {'html': '14000&#x2008;&#x2007;', 'raw': '13935.595520'},\n",
       "    {'html': '12000&#x2008;&#x2007;&#x2007;', 'raw': '11730.819458'}]},\n",
       "  {'category': 'error',\n",
       "   'href': 'coveriteam-verifier-algo-selection.2022-12-24_10-21-41.logfiles/SV-COMP23_unreach-call.data_structures_set_multi_proc_ground-1.yml.log',\n",
       "   'score': 0,\n",
       "   'values': [{'raw': 'OUT OF MEMORY'},\n",
       "    {'raw': '0'},\n",
       "    {'html': '820', 'raw': '823.652300863'},\n",
       "    {'html': '15000', 'raw': '14999.998464'},\n",
       "    {'html': '9500', 'raw': '9534.941895'}]},\n",
       "  {'category': 'error',\n",
       "   'href': 'coveriteam-verifier-parallel-portfolio.2022-12-24_10-21-47.logfiles/SV-COMP23_unreach-call.data_structures_set_multi_proc_ground-1.yml.log',\n",
       "   'score': 0,\n",
       "   'values': [{'raw': 'FAILED (Verdict)'}, {'raw': '0'}, {}, {}, {}]},\n",
       "  {'category': 'error',\n",
       "   'href': 'cpachecker.2022-12-10_08-29-05.logfiles/SV-COMP23_unreach-call.data_structures_set_multi_proc_ground-1.yml.log',\n",
       "   'score': 0,\n",
       "   'values': [{'raw': 'TIMEOUT'},\n",
       "    {'raw': '0'},\n",
       "    {'html': '960&#x2008;&#x2007;', 'raw': '961.053050693'},\n",
       "    {'html': '5200', 'raw': '5186.834432'},\n",
       "    {'html': '13000', 'raw': '12965.457092'}]},\n",
       "  {'category': 'error',\n",
       "   'href': 'crux.2022-12-09_02-20-20.logfiles/SV-COMP23_unreach-call.data_structures_set_multi_proc_ground-1.yml.log',\n",
       "   'score': 0,\n",
       "   'values': [{'raw': 'unknown(incomplete)'},\n",
       "    {'raw': '0'},\n",
       "    {'html': '.12&#x2007;', 'raw': '0.116171012'},\n",
       "    {'html': '18', 'raw': '18.046976'},\n",
       "    {'html': '.98', 'raw': '0.984131'}]},\n",
       "  {'category': 'error',\n",
       "   'href': 'divine.2022-12-09_02-37-25.logfiles/SV-COMP23_unreach-call.data_structures_set_multi_proc_ground-1.yml.log',\n",
       "   'score': 0,\n",
       "   'values': [{'raw': 'OUT OF MEMORY (UNKNOWN ERROR)'},\n",
       "    {'raw': '0'},\n",
       "    {'html': '470&#x2008;&#x2007;&#x2007;', 'raw': '473.677955109'},\n",
       "    {'html': '15000', 'raw': '14999.998464'},\n",
       "    {'html': '2700&#x2008;&#x2007;', 'raw': '2730.912964'}]},\n",
       "  {'category': 'error',\n",
       "   'href': 'esbmc-kind.2022-12-18_13-36-09.logfiles/SV-COMP23_unreach-call.data_structures_set_multi_proc_ground-1.yml.log',\n",
       "   'score': 0,\n",
       "   'values': [{'raw': 'TIMEOUT'},\n",
       "    {'raw': '0'},\n",
       "    {'html': '900&#x2008;&#x2007;&#x2007;&#x2007;', 'raw': '900.652343604'},\n",
       "    {'html': '1600', 'raw': '1559.650304'},\n",
       "    {'html': '8400&#x2008;&#x2007;&#x2007;', 'raw': '8414.749390'}]},\n",
       "  {'category': 'unknown',\n",
       "   'href': 'goblint.2022-12-09_10-45-52.logfiles/SV-COMP23_unreach-call.data_structures_set_multi_proc_ground-1.yml.log',\n",
       "   'score': 0,\n",
       "   'values': [{'raw': 'unknown'},\n",
       "    {'raw': '0'},\n",
       "    {'html': '2.4&#x2007;&#x2007;', 'raw': '2.355142996'},\n",
       "    {'html': '36', 'raw': '36.360192'},\n",
       "    {'html': '29&#x2008;&#x2007;&#x2007;', 'raw': '29.222778'}]},\n",
       "  {'category': 'error',\n",
       "   'href': 'graves.2022-12-09_09-18-11.logfiles/SV-COMP23_unreach-call.data_structures_set_multi_proc_ground-1.yml.log',\n",
       "   'score': 0,\n",
       "   'values': [{'raw': 'TIMEOUT'},\n",
       "    {'raw': '0'},\n",
       "    {'html': '960&#x2008;&#x2007;', 'raw': '956.541560094'},\n",
       "    {'html': '10000', 'raw': '10056.810496'},\n",
       "    {'html': '9600', 'raw': '9586.599304'}]},\n",
       "  {'category': 'error',\n",
       "   'href': 'graves-par.2022-12-10_14-29-17.logfiles/SV-COMP23_unreach-call.data_structures_set_multi_proc_ground-1.yml.log',\n",
       "   'score': 0,\n",
       "   'values': [{'raw': 'Verdict'},\n",
       "    {'raw': '0'},\n",
       "    {'html': '22&#x2008;&#x2007;', 'raw': '21.969176122'},\n",
       "    {'html': '210', 'raw': '210.739200'},\n",
       "    {'html': '220', 'raw': '218.615356'}]},\n",
       "  {'category': 'correct-unconfirmed',\n",
       "   'href': 'infer.2022-12-10_12-21-53.logfiles/SV-COMP23_unreach-call.data_structures_set_multi_proc_ground-1.yml.log',\n",
       "   'score': 0,\n",
       "   'values': [{'raw': 'false'},\n",
       "    {'raw': '0'},\n",
       "    {'html': '.28', 'raw': '0.284372143'},\n",
       "    {'html': '85', 'raw': '85.291008'},\n",
       "    {'html': '2.6', 'raw': '2.633911'}]},\n",
       "  {'category': 'unknown',\n",
       "   'href': 'mopsa.2022-12-11_07-57-42.logfiles/SV-COMP23_unreach-call.data_structures_set_multi_proc_ground-1.yml.log',\n",
       "   'score': 0,\n",
       "   'values': [{'raw': 'unknown'},\n",
       "    {'raw': '0'},\n",
       "    {'html': '4.8&#x2007;', 'raw': '4.829426789'},\n",
       "    {'html': '67', 'raw': '67.350528'},\n",
       "    {'html': '71&#x2008;&#x2007;', 'raw': '71.407043'}]},\n",
       "  {'category': 'correct-unconfirmed',\n",
       "   'href': 'pesco.2022-12-11_14-56-46.logfiles/SV-COMP23_unreach-call.data_structures_set_multi_proc_ground-1.yml.log',\n",
       "   'score': 0,\n",
       "   'values': [{'raw': 'false(unreach-call)'},\n",
       "    {'raw': '0'},\n",
       "    {'html': '43&#x2008;&#x2007;', 'raw': '43.003336776'},\n",
       "    {'html': '3600', 'raw': '3583.942656'},\n",
       "    {'html': '510', 'raw': '507.970215'}]},\n",
       "  {'category': 'error',\n",
       "   'href': 'pinaka.2022-12-11_10-01-51.logfiles/SV-COMP23_unreach-call.data_structures_set_multi_proc_ground-1.yml.log',\n",
       "   'score': 0,\n",
       "   'values': [{'raw': 'OUT OF MEMORY'},\n",
       "    {'raw': '0'},\n",
       "    {'html': '770&#x2008;&#x2007;&#x2007;&#x2007;', 'raw': '765.195974741'},\n",
       "    {'html': '15000&#x2008;&#x2007;', 'raw': '14999.998464'},\n",
       "    {'html': '10000&#x2008;&#x2007;&#x2007;', 'raw': '10274.430359'}]},\n",
       "  {'category': 'error',\n",
       "   'href': 'symbiotic.2022-12-12_03-19-56.logfiles/SV-COMP23_unreach-call.data_structures_set_multi_proc_ground-1.yml.log',\n",
       "   'score': 0,\n",
       "   'values': [{'raw': 'TIMEOUT (verification)'},\n",
       "    {'raw': '0'},\n",
       "    {'html': '900&#x2008;&#x2007;&#x2007;', 'raw': '900.663420034'},\n",
       "    {'html': '430', 'raw': '427.610112'},\n",
       "    {'html': '12000&#x2008;&#x2007;', 'raw': '11660.279541'}]},\n",
       "  {'category': 'error',\n",
       "   'href': 'theta.2022-12-12_03-17-56.logfiles/SV-COMP23_unreach-call.data_structures_set_multi_proc_ground-1.yml.log',\n",
       "   'score': 0,\n",
       "   'values': [{'raw': 'TIMEOUT'},\n",
       "    {'raw': '0'},\n",
       "    {'html': '960&#x2008;&#x2007;&#x2007;', 'raw': '960.351158314'},\n",
       "    {'html': '820', 'raw': '815.169536'},\n",
       "    {'html': '14000&#x2008;&#x2007;', 'raw': '14375.837585'}]},\n",
       "  {'category': 'error',\n",
       "   'href': 'uautomizer.2022-12-13_10-12-38.logfiles/SV-COMP23_unreach-call.data_structures_set_multi_proc_ground-1.yml.log',\n",
       "   'score': 0,\n",
       "   'values': [{'raw': 'TIMEOUT'},\n",
       "    {'raw': '0'},\n",
       "    {'html': '960', 'raw': '960.526583095'},\n",
       "    {'html': '770', 'raw': '769.667072'},\n",
       "    {'html': '8900', 'raw': '8857.813904'}]},\n",
       "  {'category': 'error',\n",
       "   'href': 'ukojak.2022-12-13_11-12-06.logfiles/SV-COMP23_unreach-call.data_structures_set_multi_proc_ground-1.yml.log',\n",
       "   'score': 0,\n",
       "   'values': [{'raw': 'TIMEOUT'},\n",
       "    {'raw': '0'},\n",
       "    {'html': '960', 'raw': '960.189021994'},\n",
       "    {'html': '2600', 'raw': '2554.286080'},\n",
       "    {'html': '13000', 'raw': '12687.320801'}]},\n",
       "  {'category': 'error',\n",
       "   'href': 'utaipan.2022-12-13_11-09-26.logfiles/SV-COMP23_unreach-call.data_structures_set_multi_proc_ground-1.yml.log',\n",
       "   'score': 0,\n",
       "   'values': [{'raw': 'TIMEOUT'},\n",
       "    {'raw': '0'},\n",
       "    {'html': '960', 'raw': '960.516976866'},\n",
       "    {'html': '2300', 'raw': '2307.518464'},\n",
       "    {'html': '13000', 'raw': '12656.336182'}]},\n",
       "  {'category': 'error',\n",
       "   'href': 'veriabs.2022-12-13_11-08-04.logfiles/SV-COMP23_unreach-call.data_structures_set_multi_proc_ground-1.yml.log',\n",
       "   'score': 0,\n",
       "   'values': [{'raw': 'OUT OF MEMORY'},\n",
       "    {'raw': '0'},\n",
       "    {'html': '62&#x2008;&#x2007;&#x2007;', 'raw': '62.208886862'},\n",
       "    {'html': '15000', 'raw': '14999.998464'},\n",
       "    {'html': '670&#x2008;&#x2007;', 'raw': '670.992920'}]},\n",
       "  {'category': 'error',\n",
       "   'href': 'veriabsl.2022-12-14_04-59-56.logfiles/SV-COMP23_unreach-call.data_structures_set_multi_proc_ground-1.yml.log',\n",
       "   'score': 0,\n",
       "   'values': [{'raw': 'OUT OF MEMORY'},\n",
       "    {'raw': '0'},\n",
       "    {'html': '180&#x2008;&#x2007;&#x2007;', 'raw': '184.011777776'},\n",
       "    {'html': '15000', 'raw': '14999.998464'},\n",
       "    {'html': '2200', 'raw': '2245.841003'}]},\n",
       "  {'category': 'correct',\n",
       "   'href': 'verifuzz.2022-12-14_01-01-28.logfiles/SV-COMP23_unreach-call.data_structures_set_multi_proc_ground-1.yml.log',\n",
       "   'score': 1,\n",
       "   'values': [{'raw': 'false(unreach-call)'},\n",
       "    {'raw': '1'},\n",
       "    {'html': '6.0&#x2007;&#x2007;', 'raw': '6.043453751'},\n",
       "    {'html': '810', 'raw': '812.634112'},\n",
       "    {'html': '65&#x2008;&#x2007;', 'raw': '64.896240'}]}]}"
      ]
     },
     "execution_count": 29,
     "metadata": {},
     "output_type": "execute_result"
    }
   ],
   "source": [
    "all_svcomp_files[\"rows\"][0]"
   ]
  },
  {
   "cell_type": "code",
   "execution_count": 69,
   "metadata": {},
   "outputs": [],
   "source": [
    "final_json = []\n",
    "for row in all_svcomp_files[\"rows\"]:\n",
    "    benchmark_json = {\n",
    "        \"file\" : row[\"id\"][0],\n",
    "        \"groundtruth\" : row[\"id\"][1],\n",
    "        \"tool_results\" : []\n",
    "    }\n",
    "    for tool in row[\"results\"]:\n",
    "        tool_json = {\n",
    "            \"tool\" : tool[\"href\"],\n",
    "            \"result\" : tool[\"values\"][0][\"raw\"]\n",
    "        }\n",
    "        benchmark_json[\"tool_results\"].append(tool_json)\n",
    "    final_json.append(benchmark_json)"
   ]
  },
  {
   "cell_type": "code",
   "execution_count": 70,
   "metadata": {},
   "outputs": [],
   "source": [
    "with open(\"svcomp_all_tools.json\", \"w\") as f:\n",
    "    json.dump(final_json, f, indent=4)"
   ]
  },
  {
   "cell_type": "code",
   "execution_count": 35,
   "metadata": {},
   "outputs": [],
   "source": [
    "def any(x):\n",
    "    for i in x:\n",
    "        if i:\n",
    "            return True\n",
    "    return False"
   ]
  },
  {
   "cell_type": "code",
   "execution_count": 73,
   "metadata": {},
   "outputs": [],
   "source": [
    "all_tools_failed_benchmarks = []\n",
    "ultimate_failed_benchmarks = []\n",
    "\n",
    "for benchmark in final_json:\n",
    "    if benchmark[\"groundtruth\"] == \"true\":\n",
    "        no_tool = all([x[\"result\"] != \"true\" for x in benchmark[\"tool_results\"]])\n",
    "        not_ultimate = False\n",
    "        for tool in benchmark[\"tool_results\"]:\n",
    "            if tool[\"tool\"].startswith(\"uautomizer\"):\n",
    "                not_ultimate = (tool[\"result\"] != \"true\")\n",
    "        if no_tool:\n",
    "            all_tools_failed_benchmarks.append(benchmark[\"file\"])\n",
    "        if not_ultimate:\n",
    "            ultimate_failed_benchmarks.append(benchmark[\"file\"])"
   ]
  },
  {
   "cell_type": "code",
   "execution_count": 74,
   "metadata": {},
   "outputs": [
    {
     "data": {
      "text/plain": [
       "(2211, 623)"
      ]
     },
     "execution_count": 74,
     "metadata": {},
     "output_type": "execute_result"
    }
   ],
   "source": [
    "len(ultimate_failed_benchmarks), len(all_tools_failed_benchmarks)"
   ]
  },
  {
   "cell_type": "code",
   "execution_count": null,
   "metadata": {},
   "outputs": [],
   "source": []
  },
  {
   "cell_type": "code",
   "execution_count": 76,
   "metadata": {},
   "outputs": [],
   "source": [
    "ultimate_c = [\"../../sv-benchmarks/c/\" + x[:-4] + \".c\" for x in ultimate_failed_benchmarks]\n",
    "with open(\"ultimate_failed_benchmarks.txt\", \"w\") as f:\n",
    "    f.write(\"\\n\".join(ultimate_c))"
   ]
  },
  {
   "cell_type": "code",
   "execution_count": 48,
   "metadata": {},
   "outputs": [
    {
     "data": {
      "text/plain": [
       "623"
      ]
     },
     "execution_count": 48,
     "metadata": {},
     "output_type": "execute_result"
    }
   ],
   "source": [
    "len(all_tools_failed_benchmarks)"
   ]
  },
  {
   "cell_type": "code",
   "execution_count": 75,
   "metadata": {},
   "outputs": [],
   "source": [
    "all_c = [\"../../sv-benchmarks/c/\" + x[:-4] + \".c\" for x in all_tools_failed_benchmarks]\n",
    "with open(\"all_tools_failed.txt\", \"w\") as f:\n",
    "    f.write(\"\\n\".join(all_c))"
   ]
  },
  {
   "cell_type": "code",
   "execution_count": null,
   "metadata": {},
   "outputs": [],
   "source": []
  }
 ],
 "metadata": {
  "kernelspec": {
   "display_name": "Python 3",
   "language": "python",
   "name": "python3"
  },
  "language_info": {
   "codemirror_mode": {
    "name": "ipython",
    "version": 3
   },
   "file_extension": ".py",
   "mimetype": "text/x-python",
   "name": "python",
   "nbconvert_exporter": "python",
   "pygments_lexer": "ipython3",
   "version": "3.11.0"
  }
 },
 "nbformat": 4,
 "nbformat_minor": 2
}
