{
 "cells": [
  {
   "cell_type": "code",
   "execution_count": 1,
   "metadata": {},
   "outputs": [],
   "source": [
    "import json\n",
    "import os\n",
    "import shutil"
   ]
  },
  {
   "cell_type": "code",
   "execution_count": 2,
   "metadata": {},
   "outputs": [],
   "source": [
    "svcomp_results = open(\"svcomp_uautomizer_reachsafety_neat.json\", \"r\")\n",
    "svcomp_results_json = json.load(svcomp_results)\n",
    "svcomp_results.close()"
   ]
  },
  {
   "cell_type": "code",
   "execution_count": 3,
   "metadata": {},
   "outputs": [],
   "source": [
    "svcomp_benchmarks = svcomp_results_json[\"rows\"]"
   ]
  },
  {
   "cell_type": "code",
   "execution_count": 6,
   "metadata": {},
   "outputs": [],
   "source": [
    "svcomp_benchmarks_dict = []\n",
    "for benchmark in svcomp_benchmarks:\n",
    "    # if benchmark[\"id\"][1] == 'true' and benchmark[\"results\"][0][\"values\"][0][\"raw\"] != \"true\":\n",
    "    svcomp_benchmarks_dict.append(benchmark[\"href\"])"
   ]
  },
  {
   "cell_type": "code",
   "execution_count": 8,
   "metadata": {},
   "outputs": [],
   "source": [
    "svcomp_benchmarks_dict = [\"../\" + file[:-4] + \".c\" for file in svcomp_benchmarks_dict]"
   ]
  },
  {
   "cell_type": "code",
   "execution_count": 11,
   "metadata": {},
   "outputs": [],
   "source": [
    "with open(\"../experiments/svcomp_files.txt\", \"w\") as f:\n",
    "    for file in svcomp_benchmarks_dict:\n",
    "        f.write(file + \"\\n\")"
   ]
  },
  {
   "cell_type": "code",
   "execution_count": 31,
   "metadata": {},
   "outputs": [],
   "source": [
    "svcomp_uautomizer_categories = {}\n",
    "for benchmark in svcomp_benchmarks_dict:\n",
    "    svcomp_uautomizer_categories[benchmark[\"results\"][0][\"values\"][0][\"raw\"]] = True"
   ]
  },
  {
   "cell_type": "code",
   "execution_count": 32,
   "metadata": {},
   "outputs": [],
   "source": [
    "svcomp_failure_files = []\n",
    "for benchmark in svcomp_benchmarks_dict:\n",
    "    svcomp_failure_files.append(benchmark[\"href\"])"
   ]
  },
  {
   "cell_type": "code",
   "execution_count": 33,
   "metadata": {},
   "outputs": [],
   "source": [
    "svcomp_failure_files = [\"../\" + file for file in svcomp_failure_files]"
   ]
  },
  {
   "cell_type": "code",
   "execution_count": 34,
   "metadata": {},
   "outputs": [],
   "source": [
    "svcomp_failure_files = [file[:-4] + \".c\" for file in svcomp_failure_files]"
   ]
  },
  {
   "cell_type": "code",
   "execution_count": 35,
   "metadata": {},
   "outputs": [],
   "source": [
    "with open(\"svcomp_reachsafety_files.txt\", \"w\") as f:\n",
    "    for file in svcomp_failure_files:\n",
    "        f.write(file + \"\\n\")"
   ]
  },
  {
   "cell_type": "code",
   "execution_count": 36,
   "metadata": {},
   "outputs": [],
   "source": [
    "t_file = open(\"../experiments/svcomp_reachsafety_filtered.txt\", \"r\")\n",
    "files = t_file.read().split(\"\\n\")\n",
    "t_file.close()"
   ]
  },
  {
   "cell_type": "code",
   "execution_count": 44,
   "metadata": {},
   "outputs": [],
   "source": [
    "new_files = []"
   ]
  },
  {
   "cell_type": "code",
   "execution_count": 45,
   "metadata": {},
   "outputs": [],
   "source": [
    "for file in files:\n",
    "    new_file_folder = \"../data/benchmarks/\" + file[6:]\n",
    "    new_file_folder = new_file_folder.replace(\"/c/\", \"/new-categories/\")\n",
    "    new_file_loc = new_file_folder.split(\"/\")[-1]\n",
    "    new_file_folder = \"/\".join(new_file_folder.split(\"/\")[:-1])\n",
    "    if not os.path.exists(new_file_folder):\n",
    "        os.makedirs(new_file_folder)\n",
    "    # shutil.copy(file, new_file_folder + \"/\" + new_file_loc)\n",
    "    new_files.append(new_file_folder + \"/\" + new_file_loc)"
   ]
  },
  {
   "cell_type": "code",
   "execution_count": 48,
   "metadata": {},
   "outputs": [],
   "source": [
    "with open(\"../experiments/svcomp_reachsafety_filtered.txt\", \"w\") as f:\n",
    "    files = \"\\n\".join(new_files)\n",
    "    f.write(files)"
   ]
  }
 ],
 "metadata": {
  "kernelspec": {
   "display_name": "Python 3",
   "language": "python",
   "name": "python3"
  },
  "language_info": {
   "codemirror_mode": {
    "name": "ipython",
    "version": 3
   },
   "file_extension": ".py",
   "mimetype": "text/x-python",
   "name": "python",
   "nbconvert_exporter": "python",
   "pygments_lexer": "ipython3",
   "version": "3.11.0"
  }
 },
 "nbformat": 4,
 "nbformat_minor": 2
}
