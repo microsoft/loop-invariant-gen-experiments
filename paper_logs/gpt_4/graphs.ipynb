{
 "cells": [
  {
   "cell_type": "code",
   "execution_count": 1,
   "metadata": {},
   "outputs": [],
   "source": [
    "import json\n",
    "import numpy as np\n",
    "import os\n",
    "import matplotlib.pyplot as plt"
   ]
  },
  {
   "cell_type": "code",
   "execution_count": 2,
   "metadata": {},
   "outputs": [],
   "source": [
    "m0_logs1 = json.load(open(\"combined_logs_m0_prompt_k_1_15_index_0_200.json\", \"r\", encoding=\"utf-8\"))\n",
    "m0_logs2 = json.load(open(\"combined_logs_m0_prompt_k_1_15_index_200_400.json\", \"r\", encoding=\"utf-8\"))\n",
    "m0_logs3 = json.load(open(\"combined_logs_m0_prompt_k_1_15_index_400_420.json\", \"r\", encoding=\"utf-8\"))\n",
    "m0_logs4 = json.load(open(\"combined_logs_m0_prompt_k_1_15_index_420_600.json\", \"r\", encoding=\"utf-8\"))"
   ]
  },
  {
   "cell_type": "code",
   "execution_count": 11,
   "metadata": {},
   "outputs": [],
   "source": [
    "m0_logs = m0_logs1[\"logs\"] + m0_logs2[\"logs\"] + m0_logs3[\"logs\"] + m0_logs4[\"logs\"]"
   ]
  },
  {
   "cell_type": "code",
   "execution_count": 15,
   "metadata": {},
   "outputs": [],
   "source": [
    "m0_stats = {\n",
    "    \"pass_at_k\": {i: 0.0 for i in range(1, 16)},\n",
    "    \"pass_at_k_prune\": {i: 0.0 for i in range(1, 16)},\n",
    "}"
   ]
  },
  {
   "cell_type": "code",
   "execution_count": 16,
   "metadata": {},
   "outputs": [],
   "source": [
    "for benchmark in m0_logs:\n",
    "    for k in range(1, 16):\n",
    "        m0_stats[\"pass_at_k\"][k] += benchmark[\"pass_at_k\"][str(k)]\n",
    "        m0_stats[\"pass_at_k_prune\"][k] += benchmark[\"pass_at_k_prune\"][str(k)]"
   ]
  }
 ],
 "metadata": {
  "kernelspec": {
   "display_name": "Python 3",
   "language": "python",
   "name": "python3"
  },
  "language_info": {
   "codemirror_mode": {
    "name": "ipython",
    "version": 3
   },
   "file_extension": ".py",
   "mimetype": "text/x-python",
   "name": "python",
   "nbconvert_exporter": "python",
   "pygments_lexer": "ipython3",
   "version": "3.11.0"
  }
 },
 "nbformat": 4,
 "nbformat_minor": 2
}
