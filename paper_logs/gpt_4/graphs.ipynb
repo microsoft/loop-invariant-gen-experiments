{
 "cells": [
  {
   "cell_type": "code",
   "execution_count": 2,
   "metadata": {},
   "outputs": [],
   "source": [
    "import json\n",
    "import numpy as np\n",
    "import os\n",
    "import matplotlib.pyplot as plt"
   ]
  },
  {
   "cell_type": "code",
   "execution_count": 14,
   "metadata": {},
   "outputs": [],
   "source": [
    "m0_logs1 = json.load(open(\"combined_logs_m0_prompt_k_1_15_index_0_200.json\", \"r\", encoding=\"utf-8\"))\n",
    "m0_logs2 = json.load(open(\"combined_logs_m0_prompt_k_1_15_index_200_400.json\", \"r\", encoding=\"utf-8\"))\n",
    "m0_logs3 = json.load(open(\"combined_logs_m0_prompt_k_1_15_index_400_420.json\", \"r\", encoding=\"utf-8\"))\n",
    "m0_logs4 = json.load(open(\"combined_logs_m0_prompt_k_1_15_index_420_600.json\", \"r\", encoding=\"utf-8\"))"
   ]
  },
  {
   "cell_type": "code",
   "execution_count": 15,
   "metadata": {},
   "outputs": [],
   "source": [
    "m0_logs = m0_logs1[\"logs\"] + m0_logs2[\"logs\"] + m0_logs3[\"logs\"] + m0_logs4[\"logs\"]"
   ]
  },
  {
   "cell_type": "code",
   "execution_count": 16,
   "metadata": {},
   "outputs": [],
   "source": [
    "m0_stats = {\n",
    "    \"pass_at_k\": {i: 0.0 for i in range(1, 16)},\n",
    "    \"pass_at_k_prune\": {i: 0.0 for i in range(1, 16)},\n",
    "}"
   ]
  },
  {
   "cell_type": "code",
   "execution_count": 17,
   "metadata": {},
   "outputs": [],
   "source": [
    "for benchmark in m0_logs:\n",
    "    for k in range(1, 16):\n",
    "        m0_stats[\"pass_at_k\"][k] += benchmark[\"pass_at_k\"][str(k)]\n",
    "        m0_stats[\"pass_at_k_prune\"][k] += benchmark[\"pass_at_k_prune\"][str(k)]"
   ]
  },
  {
   "cell_type": "code",
   "execution_count": 18,
   "metadata": {},
   "outputs": [],
   "source": [
    "for i in range(1, 16):\n",
    "    m0_stats[\"pass_at_k\"][i] += len(exceptions)\n",
    "    m0_stats[\"pass_at_k_prune\"][i] += len(exceptions)"
   ]
  },
  {
   "cell_type": "code",
   "execution_count": 3,
   "metadata": {},
   "outputs": [],
   "source": [
    "m1_logs1 = json.load(open(\"combined_logs_m1_prompt_k_1_15_index_0_200.json\", \"r\", encoding=\"utf-8\"))\n",
    "m1_logs2 = json.load(open(\"combined_logs_m1_prompt_k_1_15_index_200_400.json\", \"r\", encoding=\"utf-8\"))\n",
    "m1_logs3 = json.load(open(\"combined_logs_m1_prompt_k_1_15_index_400_600.json\", \"r\", encoding=\"utf-8\"))"
   ]
  },
  {
   "cell_type": "code",
   "execution_count": 4,
   "metadata": {},
   "outputs": [],
   "source": [
    "m1_logs = m1_logs1[\"logs\"] + m1_logs2[\"logs\"] + m1_logs3[\"logs\"]"
   ]
  },
  {
   "cell_type": "code",
   "execution_count": 5,
   "metadata": {},
   "outputs": [],
   "source": [
    "gpt_4_failure = []\n",
    "\n",
    "for benchmark in m1_logs:\n",
    "    if benchmark[\"pass_at_k_prune\"][\"15\"] == 0.0:\n",
    "        gpt_4_failure.append(benchmark[\"file\"])"
   ]
  },
  {
   "cell_type": "code",
   "execution_count": 6,
   "metadata": {},
   "outputs": [],
   "source": [
    "gpt_4_failure.remove(\"../new_benchmarks/original_benchmarks/sv-benchmarks/loops/while_infinite_loop_1.c\")\n",
    "gpt_4_failure.remove(\"../new_benchmarks/original_benchmarks/sv-benchmarks/loops/while_infinite_loop_2.c\")"
   ]
  },
  {
   "cell_type": "code",
   "execution_count": 7,
   "metadata": {},
   "outputs": [
    {
     "data": {
      "text/plain": [
       "171"
      ]
     },
     "execution_count": 7,
     "metadata": {},
     "output_type": "execute_result"
    }
   ],
   "source": [
    "len(gpt_4_failure)"
   ]
  },
  {
   "cell_type": "code",
   "execution_count": 8,
   "metadata": {},
   "outputs": [],
   "source": [
    "negative_benchmarks = open(\"../../experiments/negative_benchmarks.txt\", \"r\").read().split(\"\\n\")"
   ]
  },
  {
   "cell_type": "code",
   "execution_count": 31,
   "metadata": {},
   "outputs": [],
   "source": [
    "failure_benchmarks = []\n",
    "for benchmark in gpt_4_failure:\n",
    "    if benchmark.startswith(\"../new_benchmarks/original_benchmarks/\"):\n",
    "        failure_benchmarks.append(benchmark.replace(\"../new_benchmarks/original_benchmarks/\", \"../data/benchmarks/\"))\n",
    "    elif benchmark.startswith(\"../data/benchmarks\"):\n",
    "        failure_benchmarks.append(benchmark)\n",
    "    else:\n",
    "        print(benchmark)\n"
   ]
  },
  {
   "cell_type": "code",
   "execution_count": 35,
   "metadata": {},
   "outputs": [],
   "source": [
    "positive_failing = list(set(failure_benchmarks) - set(negative_benchmarks))"
   ]
  },
  {
   "cell_type": "code",
   "execution_count": 38,
   "metadata": {},
   "outputs": [],
   "source": [
    "positive_failing.append(\"../data/benchmarks/LinearArbitrary-SeaHorn/loops/loops/sum01_true-unreach-call_true-termination.i.annot.c\")"
   ]
  },
  {
   "cell_type": "code",
   "execution_count": 46,
   "metadata": {},
   "outputs": [],
   "source": [
    "failing_benchmarks_post_repair = list(set(positive_failing) - set(repaired_files))"
   ]
  },
  {
   "cell_type": "code",
   "execution_count": 47,
   "metadata": {},
   "outputs": [],
   "source": [
    "with open(\"failing_benchmarks.txt\", \"w\") as f:\n",
    "    for benchmark in sorted(failing_benchmarks_post_repair):\n",
    "        f.write(benchmark + \"\\n\")"
   ]
  },
  {
   "cell_type": "code",
   "execution_count": 9,
   "metadata": {},
   "outputs": [],
   "source": [
    "m1_stats = {\n",
    "    \"pass_at_k\": {i: 0.0 for i in range(1, 16)},\n",
    "    \"pass_at_k_prune\": {i: 0.0 for i in range(1, 16)},\n",
    "}"
   ]
  },
  {
   "cell_type": "code",
   "execution_count": 10,
   "metadata": {},
   "outputs": [],
   "source": [
    "for benchmark in m1_logs:\n",
    "    for k in range(1, 16):\n",
    "        m1_stats[\"pass_at_k\"][k] += benchmark[\"pass_at_k\"][str(k)]\n",
    "        m1_stats[\"pass_at_k_prune\"][k] += benchmark[\"pass_at_k_prune\"][str(k)]"
   ]
  },
  {
   "cell_type": "code",
   "execution_count": 13,
   "metadata": {},
   "outputs": [],
   "source": [
    "for i in range(1, 16):\n",
    "    m1_stats[\"pass_at_k\"][i] += len(exceptions)\n",
    "    m1_stats[\"pass_at_k_prune\"][i] += len(exceptions)"
   ]
  },
  {
   "cell_type": "code",
   "execution_count": 102,
   "metadata": {},
   "outputs": [],
   "source": [
    "success_benchmarks = []\n",
    "\n",
    "for benchmark in m1_logs:\n",
    "    if benchmark[\"pass_at_k_prune\"][\"15\"] == 1.0:\n",
    "        if benchmark[\"file\"].startswith(\"../data/benchmarks/\"):\n",
    "            file = benchmark[\"file\"]\n",
    "            success_benchmarks.append(file)\n",
    "        elif benchmark[\"file\"].startswith(\"../new_benchmarks/original_benchmarks/\"):\n",
    "            file = \"../data/benchmarks/\" + benchmark[\"file\"][len(\"../new_benchmarks/original_benchmarks/\"):]\n",
    "            success_benchmarks.append(file)\n",
    "        elif benchmark[\"file\"].startswith(\"../../data/benchmarks/\"):\n",
    "            file = benchmark[\"file\"][3:]\n",
    "            success_benchmarks.append(file)\n",
    "        else:\n",
    "            print(benchmark[\"file\"])"
   ]
  },
  {
   "cell_type": "code",
   "execution_count": 173,
   "metadata": {},
   "outputs": [],
   "source": [
    "ultimate_code2inv_file = json.load(open(\"../ultimate/codetoinv_output.json\", \"r\", encoding=\"utf-8\"))\n",
    "ultimate_diff_files = json.load(open(\"../ultimate/diff_files_output.json\", \"r\", encoding=\"utf-8\"))\n",
    "ultimate_old_mix_files = json.load(open(\"../ultimate/new_output.json\", \"r\", encoding=\"utf-8\"))"
   ]
  },
  {
   "cell_type": "code",
   "execution_count": 174,
   "metadata": {},
   "outputs": [
    {
     "data": {
      "text/plain": [
       "430"
      ]
     },
     "execution_count": 174,
     "metadata": {},
     "output_type": "execute_result"
    }
   ],
   "source": [
    "proved_files = []\n",
    "\n",
    "for file in ultimate_code2inv_file:\n",
    "    if ultimate_code2inv_file[file][\"result\"] == \"Proved\":\n",
    "        if file.startswith(\"../data/benchmarks/\"):\n",
    "            proved_files.append(\"../\" + file)\n",
    "        elif file.startswith(\"../new_benchmarks/original_benchmarks/\"):\n",
    "            proved_files.append(\"../../data/benchmarks/\" + file[len(\"../new_benchmarks/original_benchmarks/\"):])\n",
    "        elif file.startswith(\"../../data/benchmarks/\"):\n",
    "            proved_files.append(file)\n",
    "        elif file.startswith(\"../data/new_benchmarks/original_benchmarks/\"):\n",
    "            proved_files.append(\"../../data/benchmarks/\" + file[len(\"../data/new_benchmarks/original_benchmarks/\"):])\n",
    "        else:\n",
    "            print(file)\n",
    "\n",
    "for file in ultimate_diff_files:\n",
    "    if ultimate_diff_files[file][\"result\"] == \"Proved\":\n",
    "        if file.startswith(\"../data/benchmarks/\"):\n",
    "            proved_files.append(\"../\" + file)\n",
    "        elif file.startswith(\"../new_benchmarks/original_benchmarks/\"):\n",
    "            proved_files.append(\"../../data/benchmarks/\" + file[len(\"../new_benchmarks/original_benchmarks/\"):])\n",
    "        elif file.startswith(\"../../data/benchmarks/\"):\n",
    "            proved_files.append(file)\n",
    "        elif file.startswith(\"../data/new_benchmarks/original_benchmarks/\"):\n",
    "            proved_files.append(\"../../data/benchmarks/\" + file[len(\"../data/new_benchmarks/original_benchmarks/\"):])\n",
    "        else:\n",
    "            print(file)\n",
    "\n",
    "for file in ultimate_old_mix_files:\n",
    "    if ultimate_old_mix_files[file][\"result\"] == \"Proved\":\n",
    "        if file.startswith(\"../data/benchmarks/\"):\n",
    "            proved_files.append(\"../\" + file)\n",
    "        elif file.startswith(\"../new_benchmarks/original_benchmarks/\"):\n",
    "            proved_files.append(\"../../data/benchmarks/\" + file[len(\"../new_benchmarks/original_benchmarks/\"):])\n",
    "        elif file.startswith(\"../../data/benchmarks/\"):\n",
    "            proved_files.append(file)\n",
    "        elif file.startswith(\"../data/new_benchmarks/original_benchmarks/\"):\n",
    "            proved_files.append(\"../../data/benchmarks/\" + file[len(\"../data/new_benchmarks/original_benchmarks/\"):])\n",
    "        else:\n",
    "            print(file)\n",
    "\n",
    "len(proved_files)"
   ]
  },
  {
   "cell_type": "code",
   "execution_count": 98,
   "metadata": {},
   "outputs": [],
   "source": [
    "success_benchmarks = [\n",
    "    x.replace(\"../data/benchmarks/\", \"../../data/benchmarks/\") for x in success_benchmarks\n",
    "]\n",
    "success_benchmarks = [\n",
    "    x.replace(\"../new_benchmarks/original_benchmarks/\", \"../../data/benchmarks/\") for x in success_benchmarks\n",
    "]"
   ]
  },
  {
   "cell_type": "code",
   "execution_count": 99,
   "metadata": {},
   "outputs": [],
   "source": [
    "proved_files = [\n",
    "    x.replace(\"../data/benchmarks/\", \"../../data/benchmarks/\") for x in proved_files\n",
    "]\n",
    "proved_files = [\n",
    "    x.replace(\"../new_benchmarks/original_benchmarks/\", \"../../data/benchmarks/\") for x in proved_files\n",
    "]"
   ]
  },
  {
   "cell_type": "code",
   "execution_count": 44,
   "metadata": {},
   "outputs": [],
   "source": [
    "repaired_files = [\n",
    "    \"../data/benchmarks/accelerating_invariant_generation/svcomp/sum01_true.c\",\n",
    "    \"../data/benchmarks/LinearArbitrary-SeaHorn/loops/loop-new/count_by_k_true-unreach-call_true-termination.c\",\n",
    "    \"../data/benchmarks/LinearArbitrary-SeaHorn/pie/ICE/benchmarks/incn.v.c\",\n",
    "    \"../data/benchmarks/LinearArbitrary-SeaHorn/pie/ICE/benchmarks/sum01.c\",\n",
    "    \"../data/benchmarks/sv-benchmarks/loop-lit/cggmp2005.c\",\n",
    "    \"../data/benchmarks/sv-benchmarks/loop-new/count_by_k.c\",\n",
    "\n",
    "    \"../data/benchmarks/code2inv/15.c\",\n",
    "    \"../data/benchmarks/code2inv/56.c\",\n",
    "    \"../data/benchmarks/code2inv/57.c\",\n",
    "    \"../data/benchmarks/code2inv/63.c\",\n",
    "    \"../data/benchmarks/code2inv/64.c\",\n",
    "    \"../data/benchmarks/code2inv/67.c\",\n",
    "    \"../data/benchmarks/code2inv/102.c\",\n",
    "    \"../data/benchmarks/code2inv/112.c\",\n",
    "    \"../data/benchmarks/code2inv/118.c\",\n",
    "]"
   ]
  },
  {
   "cell_type": "code",
   "execution_count": 12,
   "metadata": {},
   "outputs": [],
   "source": [
    "exceptions = [\n",
    "    \"../data/benchmarks/sv-benchmarks/loops/while_infinite_loop_1.c\",\n",
    "    \"../data/benchmarks/sv-benchmarks/loops/while_infinite_loop_2.c\"\n",
    "]"
   ]
  },
  {
   "cell_type": "code",
   "execution_count": 178,
   "metadata": {},
   "outputs": [
    {
     "data": {
      "text/plain": [
       "{'../../data/benchmarks/LinearArbitrary-SeaHorn/VeriMAP/MAP-singleloop2-pepm-proc.c_VeriMAP_true.c',\n",
       " '../../data/benchmarks/LinearArbitrary-SeaHorn/invgen/rajamani_1.c',\n",
       " '../../data/benchmarks/LinearArbitrary-SeaHorn/loops/loop-new/count_by_2_true-unreach-call_true-termination.c',\n",
       " '../../data/benchmarks/LinearArbitrary-SeaHorn/loops/loop-new/count_by_k_true-unreach-call_true-termination.c',\n",
       " '../../data/benchmarks/LinearArbitrary-SeaHorn/loops/loops/count_up_down_true-unreach-call_true-termination.i.annot.c',\n",
       " '../../data/benchmarks/LinearArbitrary-SeaHorn/pie/hola/02.c',\n",
       " '../../data/benchmarks/LinearArbitrary-SeaHorn/pie/hola/05.c',\n",
       " '../../data/benchmarks/LinearArbitrary-SeaHorn/pie/hola/30.c',\n",
       " '../../data/benchmarks/accelerating_invariant_generation/cav/05.c',\n",
       " '../../data/benchmarks/accelerating_invariant_generation/cav/gulv.c',\n",
       " '../../data/benchmarks/accelerating_invariant_generation/cav/pldi082_unbounded.c',\n",
       " '../../data/benchmarks/accelerating_invariant_generation/crafted/phases_safe1.c',\n",
       " '../../data/benchmarks/accelerating_invariant_generation/dagger/lifnat.c',\n",
       " '../../data/benchmarks/accelerating_invariant_generation/dagger/lifnatprime.c',\n",
       " '../../data/benchmarks/accelerating_invariant_generation/dagger/swim1.c',\n",
       " '../../data/benchmarks/accelerating_invariant_generation/svcomp/count_up_down_true.c',\n",
       " '../../data/benchmarks/code2inv/1.c',\n",
       " '../../data/benchmarks/code2inv/2.c',\n",
       " '../../data/benchmarks/sv-benchmarks/loop-acceleration/phases_1-1.c',\n",
       " '../../data/benchmarks/sv-benchmarks/loop-invariants/linear-inequality-inv-a.c',\n",
       " '../../data/benchmarks/sv-benchmarks/loop-new/count_by_2.c',\n",
       " '../../data/benchmarks/sv-benchmarks/loop-new/count_by_k.c',\n",
       " '../../data/benchmarks/sv-benchmarks/loop-new/count_by_nondet.c',\n",
       " '../../data/benchmarks/sv-benchmarks/loops-crafted-1/Mono1_1-2.c',\n",
       " '../../data/benchmarks/sv-benchmarks/loops-crafted-1/iftelse.c',\n",
       " '../../data/benchmarks/sv-benchmarks/loops-crafted-1/mono-crafted_10.c',\n",
       " '../../data/benchmarks/sv-benchmarks/loops-crafted-1/mono-crafted_11.c',\n",
       " '../../data/benchmarks/sv-benchmarks/loops-crafted-1/mono-crafted_8.c',\n",
       " '../../data/benchmarks/sv-benchmarks/loops-crafted-1/mono-crafted_9.c',\n",
       " '../../data/benchmarks/sv-benchmarks/loops-crafted-1/sum_natnum.c',\n",
       " '../../data/benchmarks/sv-benchmarks/loops/count_up_down-1.c'}"
      ]
     },
     "execution_count": 178,
     "metadata": {},
     "output_type": "execute_result"
    }
   ],
   "source": [
    "(set(success_benchmarks + repaired_files + exceptions) - set(proved_files))"
   ]
  },
  {
   "cell_type": "code",
   "execution_count": 145,
   "metadata": {},
   "outputs": [
    {
     "data": {
      "text/plain": [
       "63"
      ]
     },
     "execution_count": 145,
     "metadata": {},
     "output_type": "execute_result"
    }
   ],
   "source": [
    "len(set(proved_files) - set(success_benchmarks + repaired_files + exceptions))"
   ]
  },
  {
   "cell_type": "code",
   "execution_count": 93,
   "metadata": {},
   "outputs": [],
   "source": [
    "from matplotlib_venn import venn2_unweighted, venn3_unweighted"
   ]
  },
  {
   "cell_type": "code",
   "execution_count": 146,
   "metadata": {},
   "outputs": [
    {
     "data": {
      "image/png": "[encoded data removed]",
      "text/plain": [
       "<Figure size 500x500 with 1 Axes>"
      ]
     },
     "metadata": {},
     "output_type": "display_data"
    }
   ],
   "source": [
    "_ = plt.figure(figsize=(5, 5))\n",
    "out = venn2_unweighted([set(success_benchmarks + repaired_files + exceptions), set(proved_files)], (\"Loopy\", \"Ultimate\"))\n",
    "for text in out.set_labels:\n",
    "    text.set_fontsize(18)\n",
    "for text in out.subset_labels:\n",
    "    text.set_fontsize(18)\n",
    "\n",
    "plt.savefig(\"loopy_ultimate_venn.png\", bbox_inches='tight')\n",
    "plt.show()"
   ]
  },
  {
   "cell_type": "code",
   "execution_count": 40,
   "metadata": {},
   "outputs": [
    {
     "data": {
      "image/png": "[encoded data removed]",
      "text/plain": [
       "<Figure size 1000x400 with 1 Axes>"
      ]
     },
     "metadata": {},
     "output_type": "display_data"
    }
   ],
   "source": [
    "from matplotlib.lines import Line2D\n",
    "\n",
    "legend_elements = [\n",
    "                   Line2D([0], [0], marker='o', color='w', label='$M_2$', markerfacecolor='green', markersize=12),\n",
    "                   Line2D([0], [0], marker='o', color='w', label='$M_1$', markerfacecolor='purple', markersize=12),\n",
    "                   ]\n",
    "\n",
    "x = range(1, 16)\n",
    "_ = plt.figure(figsize=(10, 4))\n",
    "\n",
    "plt.plot(x, [m0_stats[\"pass_at_k_prune\"][i] for i in range(1, 16)], '.-', color='purple', label='$M_1$')\n",
    "plt.plot(x, [m1_stats[\"pass_at_k_prune\"][i] for i in range(1, 16)], '.-', color='green', label='$M_2$')\n",
    "plt.plot(x, [m0_stats[\"pass_at_k\"][i] for i in range(1, 16)], '.--', color='purple', label='$M_1$')\n",
    "plt.plot(x, [m1_stats[\"pass_at_k\"][i] for i in range(1, 16)], '.--', color='green', label='$M_2$')\n",
    "\n",
    "plt.text(x[-1] - 0.3, m0_stats[\"pass_at_k_prune\"][15] + 5.0, str(int(m0_stats[\"pass_at_k_prune\"][15])), fontsize=10)\n",
    "plt.text(x[-1] - 0.3, m1_stats[\"pass_at_k_prune\"][15] + 5.0, str(int(m1_stats[\"pass_at_k_prune\"][15])), fontsize=10)\n",
    "\n",
    "plt.text(x[-1] - 0.3, m0_stats[\"pass_at_k\"][15] + 5.0, str(int(m0_stats[\"pass_at_k\"][15])), fontsize=10)\n",
    "plt.text(x[-1] - 0.3, m1_stats[\"pass_at_k\"][15] + 5.0, str(int(m1_stats[\"pass_at_k\"][15])), fontsize=10)\n",
    "\n",
    "plt.xticks(range(1, 16))\n",
    "plt.yticks(range(0, 450, 50))\n",
    "plt.ylim(120, 450)\n",
    "plt.xlabel('Number of completions')\n",
    "plt.ylabel('Number of verified benchmarks')\n",
    "legend1 = plt.legend(handles=legend_elements, loc='lower right')\n",
    "plt.gca().add_artist(legend1)\n",
    "plt.savefig('pass_at_k_graph.png', dpi=300, bbox_inches='tight')\n",
    "plt.plot()\n",
    "plt.show()"
   ]
  },
  {
   "cell_type": "code",
   "execution_count": 105,
   "metadata": {},
   "outputs": [],
   "source": [
    "gpt_4_success = (set(success_benchmarks + exceptions))"
   ]
  },
  {
   "cell_type": "code",
   "execution_count": 78,
   "metadata": {},
   "outputs": [],
   "source": [
    "codellama_file = json.load(open(\"../codellama/combined_logs_m1_prompt_k_15_15_index_0_600.json\", \"r\", encoding=\"utf-8\"))"
   ]
  },
  {
   "cell_type": "code",
   "execution_count": 113,
   "metadata": {},
   "outputs": [],
   "source": [
    "codellama_success = []\n",
    "\n",
    "for benchmark in codellama_file[\"logs\"]:\n",
    "    if benchmark[\"pass_at_k_prune\"][\"15\"] == 1.0:\n",
    "        if len(benchmark[\"file\"]) == 2:\n",
    "            if benchmark[\"file\"][0].startswith(\"../data/new_benchmarks/original_benchmarks/\"):\n",
    "                codellama_success.append(\"../data/benchmarks/\" + benchmark[\"file\"][0][len(\"../data/new_benchmarks/original_benchmarks/\"):])\n",
    "            else:\n",
    "                codellama_success.append(benchmark[\"file\"][0])\n",
    "        else:\n",
    "            if benchmark[\"file\"].startswith(\"../data/new_benchmarks/original_benchmarks/\"):\n",
    "                codellama_success.append(\"../data/benchmarks/\" + benchmark[\"file\"][len(\"../data/new_benchmarks/original_benchmarks/\"):])\n",
    "            else:\n",
    "                codellama_success.append(benchmark[\"file\"])"
   ]
  },
  {
   "cell_type": "code",
   "execution_count": 114,
   "metadata": {},
   "outputs": [],
   "source": [
    "codellama_success = (set(codellama_success))"
   ]
  },
  {
   "cell_type": "code",
   "execution_count": 116,
   "metadata": {},
   "outputs": [
    {
     "data": {
      "text/plain": [
       "269"
      ]
     },
     "execution_count": 116,
     "metadata": {},
     "output_type": "execute_result"
    }
   ],
   "source": [
    "len(codellama_success)"
   ]
  },
  {
   "cell_type": "code",
   "execution_count": 65,
   "metadata": {},
   "outputs": [],
   "source": [
    "pass_k = 0.0\n",
    "pass_k_prune = 0.0\n",
    "\n",
    "for benchmark in codellama_file[\"logs\"]:\n",
    "    if benchmark[\"pass_at_k\"][\"15\"] != 0.0 and benchmark[\"pass_at_k\"][\"15\"] != 1.0:\n",
    "        print(benchmark[\"file\"])\n",
    "    if benchmark[\"pass_at_k_prune\"][\"15\"] != 0.0 and benchmark[\"pass_at_k_prune\"][\"15\"] != 1.0:\n",
    "        print(benchmark[\"file\"])\n",
    "    pass_k += benchmark[\"pass_at_k\"][\"15\"]\n",
    "    pass_k_prune += benchmark[\"pass_at_k_prune\"][\"15\"]"
   ]
  },
  {
   "cell_type": "code",
   "execution_count": 66,
   "metadata": {},
   "outputs": [
    {
     "data": {
      "text/plain": [
       "(171.0, 269.0)"
      ]
     },
     "execution_count": 66,
     "metadata": {},
     "output_type": "execute_result"
    }
   ],
   "source": [
    "pass_k, pass_k_prune"
   ]
  },
  {
   "cell_type": "code",
   "execution_count": 49,
   "metadata": {},
   "outputs": [],
   "source": [
    "import json"
   ]
  },
  {
   "cell_type": "code",
   "execution_count": 109,
   "metadata": {},
   "outputs": [],
   "source": [
    "gpt_35_logs = json.load(open(\"../combined_logs_m1_stats_15.json\", \"r\", encoding=\"utf-8\"))"
   ]
  },
  {
   "cell_type": "code",
   "execution_count": 110,
   "metadata": {},
   "outputs": [],
   "source": [
    "gpt_35_success = []\n",
    "for benchmark in gpt_35_logs[\"pass_at_15_prune\"]:\n",
    "    if benchmark.startswith(\"../data/benchmarks\"):\n",
    "        gpt_35_success.append(benchmark)\n",
    "    elif benchmark.startswith(\"../data/new_benchmarks/original_benchmarks/\"):\n",
    "        gpt_35_success.append(\"../data/benchmarks/\" + benchmark[len(\"../data/new_benchmarks/original_benchmarks/\"):])"
   ]
  },
  {
   "cell_type": "code",
   "execution_count": 111,
   "metadata": {},
   "outputs": [],
   "source": [
    "gpt_35_success = set(gpt_35_success)"
   ]
  },
  {
   "cell_type": "code",
   "execution_count": 146,
   "metadata": {},
   "outputs": [
    {
     "data": {
      "image/png": "[encoded data removed]",
      "text/plain": [
       "<Figure size 600x600 with 1 Axes>"
      ]
     },
     "metadata": {},
     "output_type": "display_data"
    }
   ],
   "source": [
    "_ = plt.figure(figsize=(6, 6))\n",
    "out = venn3_unweighted([gpt_4_success, gpt_35_success, codellama_success], (\"GPT-4\", \"GPT-3.5-Turbo\", \"CodeLlama-34B-Instruct\"))\n",
    "for text in out.set_labels:\n",
    "    if text.get_text() == \"GPT-3.5-Turbo\":\n",
    "        text._x = text._x + 0.2\n",
    "        text._y = text._y - 0.2\n",
    "    if text._text == \"GPT-4\":\n",
    "        text._x = text._x - 0.2\n",
    "        text._y = text._y - 0.2\n",
    "    if text._text == \"CodeLlama-34B-Instruct\":\n",
    "        text._x = text._x + 0.7\n",
    "        text._y = text._y + 0.1\n",
    "    text.set_fontsize(18)\n",
    "for text in out.subset_labels:\n",
    "    text.set_fontsize(18)\n",
    "\n",
    "plt.savefig(\"model_intersection_venn.png\", bbox_inches='tight')\n",
    "plt.show()"
   ]
  },
  {
   "cell_type": "code",
   "execution_count": 118,
   "metadata": {},
   "outputs": [
    {
     "data": {
      "text/plain": [
       "{'../data/benchmarks/LinearArbitrary-SeaHorn/VeriMAP/TRACER-testloop17_VeriMAP_true.c',\n",
       " '../data/benchmarks/LinearArbitrary-SeaHorn/loops/loop-lit/gj2007b_true-unreach-call_true-termination.c',\n",
       " '../data/benchmarks/LinearArbitrary-SeaHorn/loops/loop-lit/gsv2008_true-unreach-call_true-termination.c',\n",
       " '../data/benchmarks/LinearArbitrary-SeaHorn/loops/loop-new/count_by_nondet_true-unreach-call_true-termination.c',\n",
       " '../data/benchmarks/LinearArbitrary-SeaHorn/pie/ICE/benchmarks/fig1.v.c',\n",
       " '../data/benchmarks/LinearArbitrary-SeaHorn/pie/ICE/benchmarks/incn.v.c',\n",
       " '../data/benchmarks/LinearArbitrary-SeaHorn/pie/ICE/benchmarks/sum01_safe.v.c',\n",
       " '../data/benchmarks/LinearArbitrary-SeaHorn/pie/hola/04.c',\n",
       " '../data/benchmarks/LinearArbitrary-SeaHorn/pie/hola/22.c',\n",
       " '../data/benchmarks/LinearArbitrary-SeaHorn/pie/hola/35.c',\n",
       " '../data/benchmarks/accelerating_invariant_generation/cav/20.c',\n",
       " '../data/benchmarks/accelerating_invariant_generation/cav/35.c',\n",
       " '../data/benchmarks/accelerating_invariant_generation/crafted/diamond_safe1.c',\n",
       " '../data/benchmarks/accelerating_invariant_generation/dagger/cars.c',\n",
       " '../data/benchmarks/accelerating_invariant_generation/invgen/MADWiFi-encode_ie_ok.c',\n",
       " '../data/benchmarks/accelerating_invariant_generation/svcomp/sum01_true.c',\n",
       " '../data/benchmarks/code2inv/102.c',\n",
       " '../data/benchmarks/code2inv/104.c',\n",
       " '../data/benchmarks/code2inv/105.c',\n",
       " '../data/benchmarks/code2inv/113.c',\n",
       " '../data/benchmarks/code2inv/119.c',\n",
       " '../data/benchmarks/code2inv/15.c',\n",
       " '../data/benchmarks/code2inv/17.c',\n",
       " '../data/benchmarks/code2inv/33.c',\n",
       " '../data/benchmarks/code2inv/56.c',\n",
       " '../data/benchmarks/code2inv/57.c',\n",
       " '../data/benchmarks/code2inv/63.c',\n",
       " '../data/benchmarks/code2inv/64.c',\n",
       " '../data/benchmarks/code2inv/65.c',\n",
       " '../data/benchmarks/code2inv/66.c',\n",
       " '../data/benchmarks/code2inv/70.c',\n",
       " '../data/benchmarks/code2inv/84.c',\n",
       " '../data/benchmarks/code2inv/85.c',\n",
       " '../data/benchmarks/code2inv/86.c',\n",
       " '../data/benchmarks/sv-benchmarks/loop-acceleration/diamond_1-1.c',\n",
       " '../data/benchmarks/sv-benchmarks/loop-invgen/MADWiFi-encode_ie_ok.c',\n",
       " '../data/benchmarks/sv-benchmarks/loop-lit/gsv2008.c',\n",
       " '../data/benchmarks/sv-benchmarks/loop-new/count_by_k.c'}"
      ]
     },
     "execution_count": 118,
     "metadata": {},
     "output_type": "execute_result"
    }
   ],
   "source": [
    "gpt_35_success - gpt_4_success"
   ]
  }
 ],
 "metadata": {
  "kernelspec": {
   "display_name": "Python 3",
   "language": "python",
   "name": "python3"
  },
  "language_info": {
   "codemirror_mode": {
    "name": "ipython",
    "version": 3
   },
   "file_extension": ".py",
   "mimetype": "text/x-python",
   "name": "python",
   "nbconvert_exporter": "python",
   "pygments_lexer": "ipython3",
   "version": "3.11.0"
  }
 },
 "nbformat": 4,
 "nbformat_minor": 2
}
