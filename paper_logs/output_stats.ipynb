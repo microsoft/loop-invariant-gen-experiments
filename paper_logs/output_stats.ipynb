{
 "cells": [
  {
   "cell_type": "code",
   "execution_count": 1,
   "metadata": {},
   "outputs": [],
   "source": [
    "import json"
   ]
  },
  {
   "cell_type": "markdown",
   "metadata": {},
   "source": [
    "# Ultimate success"
   ]
  },
  {
   "cell_type": "code",
   "execution_count": 2,
   "metadata": {},
   "outputs": [],
   "source": [
    "code2inv_file = json.load(open(\"ultimate/codetoinv_output.json\", \"r\", encoding=\"utf-8\"))\n",
    "diff_files = json.load(open(\"ultimate/diff_files_output.json\", \"r\", encoding=\"utf-8\"))\n",
    "old_mix_files = json.load(open(\"ultimate/new_output.json\", \"r\", encoding=\"utf-8\"))"
   ]
  },
  {
   "cell_type": "code",
   "execution_count": 5,
   "metadata": {},
   "outputs": [
    {
     "data": {
      "text/plain": [
       "430"
      ]
     },
     "execution_count": 5,
     "metadata": {},
     "output_type": "execute_result"
    }
   ],
   "source": [
    "proved_files = []\n",
    "\n",
    "for file in code2inv_file:\n",
    "    if code2inv_file[file][\"result\"] == \"Proved\":\n",
    "        proved_files.append(file)\n",
    "\n",
    "for file in diff_files:\n",
    "    if diff_files[file][\"result\"] == \"Proved\":\n",
    "        proved_files.append(file)\n",
    "\n",
    "for file in old_mix_files:\n",
    "    if old_mix_files[file][\"result\"] == \"Proved\":\n",
    "        proved_files.append(file)\n",
    "\n",
    "len(proved_files)"
   ]
  },
  {
   "cell_type": "code",
   "execution_count": null,
   "metadata": {},
   "outputs": [],
   "source": []
  }
 ],
 "metadata": {
  "kernelspec": {
   "display_name": "Python 3",
   "language": "python",
   "name": "python3"
  },
  "language_info": {
   "codemirror_mode": {
    "name": "ipython",
    "version": 3
   },
   "file_extension": ".py",
   "mimetype": "text/x-python",
   "name": "python",
   "nbconvert_exporter": "python",
   "pygments_lexer": "ipython3",
   "version": "3.11.0"
  }
 },
 "nbformat": 4,
 "nbformat_minor": 2
}
