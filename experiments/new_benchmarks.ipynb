{
 "cells": [
  {
   "cell_type": "code",
   "execution_count": 6,
   "metadata": {},
   "outputs": [],
   "source": [
    "old_files_file = open(\"one_loop_one_method_no_arrays.txt\", \"r\")\n",
    "old_files = old_files_file.read().split(\"\\n\")\n",
    "old_files_file.close()\n",
    "\n",
    "new_files_file = open(\"../src/benchmark_input_2023_10_27_06_45_00.txt\", \"r\")\n",
    "new_files = new_files_file.read().split(\"\\n\")\n",
    "new_files_file.close()"
   ]
  },
  {
   "cell_type": "code",
   "execution_count": 8,
   "metadata": {},
   "outputs": [],
   "source": [
    "diff_files = list(set(new_files) - set(old_files))"
   ]
  },
  {
   "cell_type": "code",
   "execution_count": 9,
   "metadata": {},
   "outputs": [],
   "source": [
    "with open(\"diff_files.txt\", \"w\") as diff_files_file:\n",
    "    for file in diff_files:\n",
    "        diff_files_file.write(file + \"\\n\")"
   ]
  }
 ],
 "metadata": {
  "kernelspec": {
   "display_name": "Python 3",
   "language": "python",
   "name": "python3"
  },
  "language_info": {
   "codemirror_mode": {
    "name": "ipython",
    "version": 3
   },
   "file_extension": ".py",
   "mimetype": "text/x-python",
   "name": "python",
   "nbconvert_exporter": "python",
   "pygments_lexer": "ipython3",
   "version": "3.11.0"
  }
 },
 "nbformat": 4,
 "nbformat_minor": 2
}
