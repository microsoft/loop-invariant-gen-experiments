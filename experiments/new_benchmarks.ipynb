{
 "cells": [
  {
   "cell_type": "code",
   "execution_count": 6,
   "metadata": {},
   "outputs": [],
   "source": [
    "old_files_file = open(\"one_loop_one_method_no_arrays.txt\", \"r\")\n",
    "old_files = old_files_file.read().split(\"\\n\")\n",
    "old_files_file.close()\n",
    "\n",
    "new_files_file = open(\"../src/benchmark_input_2023_10_27_06_45_00.txt\", \"r\")\n",
    "new_files = new_files_file.read().split(\"\\n\")\n",
    "new_files_file.close()"
   ]
  },
  {
   "cell_type": "code",
   "execution_count": 8,
   "metadata": {},
   "outputs": [],
   "source": [
    "diff_files = list(set(new_files) - set(old_files))"
   ]
  },
  {
   "cell_type": "code",
   "execution_count": 9,
   "metadata": {},
   "outputs": [],
   "source": [
    "with open(\"diff_files.txt\", \"w\") as diff_files_file:\n",
    "    for file in diff_files:\n",
    "        diff_files_file.write(file + \"\\n\")"
   ]
  },
  {
   "cell_type": "code",
   "execution_count": 1,
   "metadata": {},
   "outputs": [],
   "source": [
    "non_negative_termination_benchmarks = []"
   ]
  },
  {
   "cell_type": "code",
   "execution_count": 1,
   "metadata": {},
   "outputs": [],
   "source": [
    "import json"
   ]
  },
  {
   "cell_type": "code",
   "execution_count": 2,
   "metadata": {},
   "outputs": [],
   "source": [
    "ultimate_output = json.load(open(\"../src/ultimate/termination_output_new.json\", \"r\", encoding=\"utf-8\"))"
   ]
  },
  {
   "cell_type": "code",
   "execution_count": 3,
   "metadata": {},
   "outputs": [],
   "source": [
    "ultimate_failure = []\n",
    "for key, value in ultimate_output.items():\n",
    "    if value[\"result\"] == \"Disproved\":\n",
    "        ultimate_failure.append(key)"
   ]
  },
  {
   "cell_type": "code",
   "execution_count": 5,
   "metadata": {},
   "outputs": [],
   "source": [
    "ultimate_success = []\n",
    "for key, value in ultimate_output.items():\n",
    "    if value[\"result\"] == \"Proved\":\n",
    "        ultimate_success.append(key)"
   ]
  },
  {
   "cell_type": "code",
   "execution_count": 6,
   "metadata": {},
   "outputs": [],
   "source": [
    "all_benchmarks = open(\"../experiments/termination_one_loop_one_method.txt\", \"r\").read().splitlines()"
   ]
  },
  {
   "cell_type": "code",
   "execution_count": 7,
   "metadata": {},
   "outputs": [],
   "source": [
    "ultimate_failure = [x[3:] for x in ultimate_failure]"
   ]
  },
  {
   "cell_type": "code",
   "execution_count": 12,
   "metadata": {},
   "outputs": [],
   "source": [
    "ultimate_success = [x[3:] for x in ultimate_success]"
   ]
  },
  {
   "cell_type": "code",
   "execution_count": 8,
   "metadata": {},
   "outputs": [
    {
     "data": {
      "text/plain": [
       "281"
      ]
     },
     "execution_count": 8,
     "metadata": {},
     "output_type": "execute_result"
    }
   ],
   "source": [
    "len(set(all_benchmarks) - set(ultimate_failure))"
   ]
  },
  {
   "cell_type": "code",
   "execution_count": 13,
   "metadata": {},
   "outputs": [],
   "source": [
    "unknown_timeouts = set(all_benchmarks) - set(ultimate_failure) - set(ultimate_success)"
   ]
  },
  {
   "cell_type": "code",
   "execution_count": 17,
   "metadata": {},
   "outputs": [
    {
     "data": {
      "text/plain": [
       "['../data/benchmarks/non_termination/loop/Incorrect_Bit_Calculation_2_T.c',\n",
       " '../data/benchmarks/non_termination/loop/Incorrect_Bit_Calculation_3_T.c',\n",
       " '../data/benchmarks/non_termination/loop/Incorrect_Initialization_4_T.c',\n",
       " '../data/benchmarks/non_termination/loop/Incorrect_Update_for_Loop_Iterator_2_T.c',\n",
       " '../data/benchmarks/non_termination/loop/Signed_Overflow_Error_3_T.c',\n",
       " '../data/benchmarks/non_termination/loop/Type_Conversion_in_Comparison_2_T.c',\n",
       " '../data/benchmarks/non_termination/loop/Unsigned_Wraparound_Error_1_T.c',\n",
       " '../data/benchmarks/non_termination/loop/Unsigned_Wraparound_Error_2_T.c',\n",
       " '../data/benchmarks/non_termination/loop/Unsigned_Wraparound_Error_3_T.c',\n",
       " '../data/benchmarks/non_termination/loop/Unsigned_Wraparound_Error_4_T.c',\n",
       " '../data/benchmarks/tpdb/C/SV-COMP_Termination_Category/ChawdharyCookGulwaniSagivYang-ESOP2008-aaron12_true-termination.c',\n",
       " '../data/benchmarks/tpdb/C/SV-COMP_Termination_Category/GulwaniJainKoskinen-PLDI2009-Fig1_true-termination.c',\n",
       " '../data/benchmarks/tpdb/C/SV-COMP_Termination_Category/HeizmannHoenickeLeikePodelski-ATVA2013-Fig2_true-termination.c',\n",
       " '../data/benchmarks/tpdb/C/SV-COMP_Termination_Category/HeizmannHoenickeLeikePodelski-ATVA2013-Fig5_true-termination.c',\n",
       " '../data/benchmarks/tpdb/C/SV-COMP_Termination_Category/HeizmannHoenickeLeikePodelski-ATVA2013-Fig8_true-termination.c',\n",
       " '../data/benchmarks/tpdb/C/SV-COMP_Termination_Category/HeizmannHoenickeLeikePodelski-ATVA2013-Fig9_true-termination.c',\n",
       " '../data/benchmarks/tpdb/C/SV-COMP_Termination_Category/Masse-VMCAI2014-Fig1b_true-termination.c',\n",
       " '../data/benchmarks/tpdb/C/Ultimate/Collatz_unknown-termination.c',\n",
       " '../data/benchmarks/tpdb/C/Ultimate/Pure3Phase_true-termination.c',\n",
       " '../data/benchmarks/tpdb/C_Integer/Stroeder_15/ChawdharyCookGulwaniSagivYang-ESOP2008-aaron12_true-termination.c',\n",
       " '../data/benchmarks/tpdb/C_Integer/Stroeder_15/ChenFlurMukhopadhyay-SAS2012-Ex1.01_true-termination.c',\n",
       " '../data/benchmarks/tpdb/C_Integer/Stroeder_15/ChenFlurMukhopadhyay-SAS2012-Ex2.06_false-termination.c',\n",
       " '../data/benchmarks/tpdb/C_Integer/Stroeder_15/ChenFlurMukhopadhyay-SAS2012-Ex2.11_false-termination.c',\n",
       " '../data/benchmarks/tpdb/C_Integer/Stroeder_15/ChooseLife.c',\n",
       " '../data/benchmarks/tpdb/C_Integer/Stroeder_15/ComplInterv.c',\n",
       " '../data/benchmarks/tpdb/C_Integer/Stroeder_15/DoubleNeg.c',\n",
       " '../data/benchmarks/tpdb/C_Integer/Stroeder_15/Factorial.c',\n",
       " '../data/benchmarks/tpdb/C_Integer/Stroeder_15/Fibonacci.c',\n",
       " '../data/benchmarks/tpdb/C_Integer/Stroeder_15/GulwaniJainKoskinen-PLDI2009-Fig1_true-termination.c',\n",
       " '../data/benchmarks/tpdb/C_Integer/Stroeder_15/HeizmannHoenickeLeikePodelski-ATVA2013-Fig8_true-termination.c',\n",
       " '../data/benchmarks/tpdb/C_Integer/Stroeder_15/HeizmannHoenickeLeikePodelski-ATVA2013-Fig9_true-termination.c',\n",
       " '../data/benchmarks/tpdb/C_Integer/Stroeder_15/LeikeHeizmann-WST2014-Ex5_false-termination.c',\n",
       " '../data/benchmarks/tpdb/C_Integer/Stroeder_15/LogMult.c',\n",
       " '../data/benchmarks/tpdb/C_Integer/Stroeder_15/Masse-VMCAI2014-Fig1b_true-termination.c',\n",
       " '../data/benchmarks/tpdb/C_Integer/Stroeder_15/MirrorInterv.c',\n",
       " '../data/benchmarks/tpdb/C_Integer/Stroeder_15/NO_24.c',\n",
       " '../data/benchmarks/tpdb/C_Integer/Stroeder_15/PodelskiRybalchenko-VMCAI2004-Ex2_true-termination.c',\n",
       " '../data/benchmarks/tpdb/C_Integer/Stroeder_15/Pure3Phase_true-termination.c',\n",
       " '../data/benchmarks/tpdb/C_Integer/Stroeder_15/Swingers.c',\n",
       " '../data/benchmarks/tpdb/C_Integer/Stroeder_15/svcomp_ex2.c',\n",
       " '../data/benchmarks/tpdb/C_Integer/Stroeder_15/svcomp_ex3a.c',\n",
       " '../data/benchmarks/tpdb/C_Integer/Stroeder_15/svcomp_ex3b.c',\n",
       " '../data/benchmarks/tpdb/C_Integer/Ton_Chanh_15/Copenhagen_disj_true-termination.c',\n",
       " '../data/benchmarks/tpdb/C_Integer/Ton_Chanh_15/Gothenburg_v2_true-termination.c',\n",
       " '../data/benchmarks/tpdb/C_Integer/Ton_Chanh_15/Hanoi_plus_false-termination.c']"
      ]
     },
     "execution_count": 17,
     "metadata": {},
     "output_type": "execute_result"
    }
   ],
   "source": [
    "sorted(list(unknown_timeouts))"
   ]
  },
  {
   "cell_type": "code",
   "execution_count": 13,
   "metadata": {},
   "outputs": [],
   "source": [
    "positive_termination_benchmarks = sorted(list(set(all_benchmarks) - set(ultimate_failure)))"
   ]
  },
  {
   "cell_type": "code",
   "execution_count": 15,
   "metadata": {},
   "outputs": [],
   "source": [
    "with open(\"positive_termination_benchmarks.txt\", \"w\") as f:\n",
    "    f.write(\"\\n\".join(positive_termination_benchmarks))"
   ]
  },
  {
   "cell_type": "code",
   "execution_count": 16,
   "metadata": {},
   "outputs": [],
   "source": [
    "prevgpt4_success = []\n",
    "gpt4file = json.load(open(\"../logs/loopy_2023_10_22_15_55_56/final.json\", \"r\", encoding=\"utf-8\"))"
   ]
  },
  {
   "cell_type": "code",
   "execution_count": 17,
   "metadata": {},
   "outputs": [],
   "source": [
    "prevgpt4_success = gpt4file[\"stats\"][\"success\"]"
   ]
  },
  {
   "cell_type": "code",
   "execution_count": 20,
   "metadata": {},
   "outputs": [
    {
     "data": {
      "text/plain": [
       "set()"
      ]
     },
     "execution_count": 20,
     "metadata": {},
     "output_type": "execute_result"
    }
   ],
   "source": [
    "set(prevgpt4_success) - set(positive_termination_benchmarks)"
   ]
  }
 ],
 "metadata": {
  "kernelspec": {
   "display_name": "Python 3",
   "language": "python",
   "name": "python3"
  },
  "language_info": {
   "codemirror_mode": {
    "name": "ipython",
    "version": 3
   },
   "file_extension": ".py",
   "mimetype": "text/x-python",
   "name": "python",
   "nbconvert_exporter": "python",
   "pygments_lexer": "ipython3",
   "version": "3.11.0"
  }
 },
 "nbformat": 4,
 "nbformat_minor": 2
}
